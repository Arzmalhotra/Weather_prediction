{
  "nbformat": 4,
  "nbformat_minor": 0,
  "metadata": {
    "colab": {
      "provenance": [],
      "collapsed_sections": [
        "3LCVcxe4nL2q",
        "8mDAQ3yQnV_r",
        "r-rqPl6hnZQC",
        "J-LuEUflosNz",
        "__X7-fy_O6Ab",
        "EKUXEjAz0h01",
        "GrsEfJ_3hRFg",
        "tfEOgZjFbrFv",
        "hiNyR4QW4uSO",
        "TCBfJSZ42NEo",
        "kHVkP80RLKCM",
        "j69s_UTxYijU",
        "My6KKJxbLss7"
      ]
    },
    "kernelspec": {
      "name": "python3",
      "display_name": "Python 3"
    },
    "language_info": {
      "name": "python"
    }
  },
  "cells": [
    {
      "cell_type": "markdown",
      "source": [
        "# mounting google drive and reading data"
      ],
      "metadata": {
        "id": "3LCVcxe4nL2q"
      }
    },
    {
      "cell_type": "code",
      "execution_count": 2,
      "metadata": {
        "colab": {
          "base_uri": "https://localhost:8080/"
        },
        "id": "M8rvbtf5AJFw",
        "outputId": "ac46a638-2bdb-4952-b6a4-c796747922d2"
      },
      "outputs": [
        {
          "output_type": "stream",
          "name": "stdout",
          "text": [
            "Mounted at /content/gdrive\n"
          ]
        }
      ],
      "source": [
        "from google.colab import drive\n",
        "drive.mount('/content/gdrive')"
      ]
    },
    {
      "cell_type": "markdown",
      "source": [
        "# importing necessary libraries"
      ],
      "metadata": {
        "id": "8mDAQ3yQnV_r"
      }
    },
    {
      "cell_type": "code",
      "source": [
        "import pandas as pd\n",
        "import numpy as np\n",
        "from sklearn.preprocessing import StandardScaler\n",
        "import matplotlib.pyplot as plt\n",
        "import seaborn as sns\n",
        "from sklearn.model_selection import train_test_split\n",
        "from sklearn.linear_model import LogisticRegression\n",
        "from sklearn.metrics import accuracy_score,confusion_matrix,classification_report"
      ],
      "metadata": {
        "id": "wj4de-rZm7Ln"
      },
      "execution_count": 3,
      "outputs": []
    },
    {
      "cell_type": "markdown",
      "source": [
        "# analysing the data"
      ],
      "metadata": {
        "id": "r-rqPl6hnZQC"
      }
    },
    {
      "cell_type": "code",
      "source": [
        "data=pd.read_csv(\"/content/gdrive/MyDrive/weathera-pred/weather_data.csv\")"
      ],
      "metadata": {
        "id": "oIgGRkw2nGAG"
      },
      "execution_count": 4,
      "outputs": []
    },
    {
      "cell_type": "code",
      "source": [
        "data.head()"
      ],
      "metadata": {
        "colab": {
          "base_uri": "https://localhost:8080/",
          "height": 255
        },
        "id": "3edXaW_ynJ9M",
        "outputId": "8d9c55c5-c14a-4f53-f1fc-791a7c0cd43b"
      },
      "execution_count": 5,
      "outputs": [
        {
          "output_type": "execute_result",
          "data": {
            "text/plain": [
              "   MinTemp  MaxTemp  Rainfall  Evaporation  Sunshine WindGustDir  \\\n",
              "0      8.0     24.3       0.0          3.4       6.3          NW   \n",
              "1     14.0     26.9       3.6          4.4       9.7         ENE   \n",
              "2     13.7     23.4       3.6          5.8       3.3          NW   \n",
              "3     13.3     15.5      39.8          7.2       9.1          NW   \n",
              "4      7.6     16.1       2.8          5.6      10.6         SSE   \n",
              "\n",
              "   WindGustSpeed WindDir9am WindDir3pm  WindSpeed9am  ...  Humidity3pm  \\\n",
              "0           30.0         SW         NW           6.0  ...           29   \n",
              "1           39.0          E          W           4.0  ...           36   \n",
              "2           85.0          N        NNE           6.0  ...           69   \n",
              "3           54.0        WNW          W          30.0  ...           56   \n",
              "4           50.0        SSE        ESE          20.0  ...           49   \n",
              "\n",
              "   Pressure9am  Pressure3pm  Cloud9am  Cloud3pm  Temp9am  Temp3pm  RainToday  \\\n",
              "0       1019.7       1015.0         7         7     14.4     23.6         No   \n",
              "1       1012.4       1008.4         5         3     17.5     25.7        Yes   \n",
              "2       1009.5       1007.2         8         7     15.4     20.2        Yes   \n",
              "3       1005.5       1007.0         2         7     13.5     14.1        Yes   \n",
              "4       1018.3       1018.5         7         7     11.1     15.4        Yes   \n",
              "\n",
              "   RISK_MM RainTomorrow  \n",
              "0      3.6          Yes  \n",
              "1      3.6          Yes  \n",
              "2     39.8          Yes  \n",
              "3      2.8          Yes  \n",
              "4      0.0           No  \n",
              "\n",
              "[5 rows x 22 columns]"
            ],
            "text/html": [
              "\n",
              "  <div id=\"df-ac1fe9ac-3df2-4d0c-96f7-df0291d15055\" class=\"colab-df-container\">\n",
              "    <div>\n",
              "<style scoped>\n",
              "    .dataframe tbody tr th:only-of-type {\n",
              "        vertical-align: middle;\n",
              "    }\n",
              "\n",
              "    .dataframe tbody tr th {\n",
              "        vertical-align: top;\n",
              "    }\n",
              "\n",
              "    .dataframe thead th {\n",
              "        text-align: right;\n",
              "    }\n",
              "</style>\n",
              "<table border=\"1\" class=\"dataframe\">\n",
              "  <thead>\n",
              "    <tr style=\"text-align: right;\">\n",
              "      <th></th>\n",
              "      <th>MinTemp</th>\n",
              "      <th>MaxTemp</th>\n",
              "      <th>Rainfall</th>\n",
              "      <th>Evaporation</th>\n",
              "      <th>Sunshine</th>\n",
              "      <th>WindGustDir</th>\n",
              "      <th>WindGustSpeed</th>\n",
              "      <th>WindDir9am</th>\n",
              "      <th>WindDir3pm</th>\n",
              "      <th>WindSpeed9am</th>\n",
              "      <th>...</th>\n",
              "      <th>Humidity3pm</th>\n",
              "      <th>Pressure9am</th>\n",
              "      <th>Pressure3pm</th>\n",
              "      <th>Cloud9am</th>\n",
              "      <th>Cloud3pm</th>\n",
              "      <th>Temp9am</th>\n",
              "      <th>Temp3pm</th>\n",
              "      <th>RainToday</th>\n",
              "      <th>RISK_MM</th>\n",
              "      <th>RainTomorrow</th>\n",
              "    </tr>\n",
              "  </thead>\n",
              "  <tbody>\n",
              "    <tr>\n",
              "      <th>0</th>\n",
              "      <td>8.0</td>\n",
              "      <td>24.3</td>\n",
              "      <td>0.0</td>\n",
              "      <td>3.4</td>\n",
              "      <td>6.3</td>\n",
              "      <td>NW</td>\n",
              "      <td>30.0</td>\n",
              "      <td>SW</td>\n",
              "      <td>NW</td>\n",
              "      <td>6.0</td>\n",
              "      <td>...</td>\n",
              "      <td>29</td>\n",
              "      <td>1019.7</td>\n",
              "      <td>1015.0</td>\n",
              "      <td>7</td>\n",
              "      <td>7</td>\n",
              "      <td>14.4</td>\n",
              "      <td>23.6</td>\n",
              "      <td>No</td>\n",
              "      <td>3.6</td>\n",
              "      <td>Yes</td>\n",
              "    </tr>\n",
              "    <tr>\n",
              "      <th>1</th>\n",
              "      <td>14.0</td>\n",
              "      <td>26.9</td>\n",
              "      <td>3.6</td>\n",
              "      <td>4.4</td>\n",
              "      <td>9.7</td>\n",
              "      <td>ENE</td>\n",
              "      <td>39.0</td>\n",
              "      <td>E</td>\n",
              "      <td>W</td>\n",
              "      <td>4.0</td>\n",
              "      <td>...</td>\n",
              "      <td>36</td>\n",
              "      <td>1012.4</td>\n",
              "      <td>1008.4</td>\n",
              "      <td>5</td>\n",
              "      <td>3</td>\n",
              "      <td>17.5</td>\n",
              "      <td>25.7</td>\n",
              "      <td>Yes</td>\n",
              "      <td>3.6</td>\n",
              "      <td>Yes</td>\n",
              "    </tr>\n",
              "    <tr>\n",
              "      <th>2</th>\n",
              "      <td>13.7</td>\n",
              "      <td>23.4</td>\n",
              "      <td>3.6</td>\n",
              "      <td>5.8</td>\n",
              "      <td>3.3</td>\n",
              "      <td>NW</td>\n",
              "      <td>85.0</td>\n",
              "      <td>N</td>\n",
              "      <td>NNE</td>\n",
              "      <td>6.0</td>\n",
              "      <td>...</td>\n",
              "      <td>69</td>\n",
              "      <td>1009.5</td>\n",
              "      <td>1007.2</td>\n",
              "      <td>8</td>\n",
              "      <td>7</td>\n",
              "      <td>15.4</td>\n",
              "      <td>20.2</td>\n",
              "      <td>Yes</td>\n",
              "      <td>39.8</td>\n",
              "      <td>Yes</td>\n",
              "    </tr>\n",
              "    <tr>\n",
              "      <th>3</th>\n",
              "      <td>13.3</td>\n",
              "      <td>15.5</td>\n",
              "      <td>39.8</td>\n",
              "      <td>7.2</td>\n",
              "      <td>9.1</td>\n",
              "      <td>NW</td>\n",
              "      <td>54.0</td>\n",
              "      <td>WNW</td>\n",
              "      <td>W</td>\n",
              "      <td>30.0</td>\n",
              "      <td>...</td>\n",
              "      <td>56</td>\n",
              "      <td>1005.5</td>\n",
              "      <td>1007.0</td>\n",
              "      <td>2</td>\n",
              "      <td>7</td>\n",
              "      <td>13.5</td>\n",
              "      <td>14.1</td>\n",
              "      <td>Yes</td>\n",
              "      <td>2.8</td>\n",
              "      <td>Yes</td>\n",
              "    </tr>\n",
              "    <tr>\n",
              "      <th>4</th>\n",
              "      <td>7.6</td>\n",
              "      <td>16.1</td>\n",
              "      <td>2.8</td>\n",
              "      <td>5.6</td>\n",
              "      <td>10.6</td>\n",
              "      <td>SSE</td>\n",
              "      <td>50.0</td>\n",
              "      <td>SSE</td>\n",
              "      <td>ESE</td>\n",
              "      <td>20.0</td>\n",
              "      <td>...</td>\n",
              "      <td>49</td>\n",
              "      <td>1018.3</td>\n",
              "      <td>1018.5</td>\n",
              "      <td>7</td>\n",
              "      <td>7</td>\n",
              "      <td>11.1</td>\n",
              "      <td>15.4</td>\n",
              "      <td>Yes</td>\n",
              "      <td>0.0</td>\n",
              "      <td>No</td>\n",
              "    </tr>\n",
              "  </tbody>\n",
              "</table>\n",
              "<p>5 rows × 22 columns</p>\n",
              "</div>\n",
              "    <div class=\"colab-df-buttons\">\n",
              "\n",
              "  <div class=\"colab-df-container\">\n",
              "    <button class=\"colab-df-convert\" onclick=\"convertToInteractive('df-ac1fe9ac-3df2-4d0c-96f7-df0291d15055')\"\n",
              "            title=\"Convert this dataframe to an interactive table.\"\n",
              "            style=\"display:none;\">\n",
              "\n",
              "  <svg xmlns=\"http://www.w3.org/2000/svg\" height=\"24px\" viewBox=\"0 -960 960 960\">\n",
              "    <path d=\"M120-120v-720h720v720H120Zm60-500h600v-160H180v160Zm220 220h160v-160H400v160Zm0 220h160v-160H400v160ZM180-400h160v-160H180v160Zm440 0h160v-160H620v160ZM180-180h160v-160H180v160Zm440 0h160v-160H620v160Z\"/>\n",
              "  </svg>\n",
              "    </button>\n",
              "\n",
              "  <style>\n",
              "    .colab-df-container {\n",
              "      display:flex;\n",
              "      gap: 12px;\n",
              "    }\n",
              "\n",
              "    .colab-df-convert {\n",
              "      background-color: #E8F0FE;\n",
              "      border: none;\n",
              "      border-radius: 50%;\n",
              "      cursor: pointer;\n",
              "      display: none;\n",
              "      fill: #1967D2;\n",
              "      height: 32px;\n",
              "      padding: 0 0 0 0;\n",
              "      width: 32px;\n",
              "    }\n",
              "\n",
              "    .colab-df-convert:hover {\n",
              "      background-color: #E2EBFA;\n",
              "      box-shadow: 0px 1px 2px rgba(60, 64, 67, 0.3), 0px 1px 3px 1px rgba(60, 64, 67, 0.15);\n",
              "      fill: #174EA6;\n",
              "    }\n",
              "\n",
              "    .colab-df-buttons div {\n",
              "      margin-bottom: 4px;\n",
              "    }\n",
              "\n",
              "    [theme=dark] .colab-df-convert {\n",
              "      background-color: #3B4455;\n",
              "      fill: #D2E3FC;\n",
              "    }\n",
              "\n",
              "    [theme=dark] .colab-df-convert:hover {\n",
              "      background-color: #434B5C;\n",
              "      box-shadow: 0px 1px 3px 1px rgba(0, 0, 0, 0.15);\n",
              "      filter: drop-shadow(0px 1px 2px rgba(0, 0, 0, 0.3));\n",
              "      fill: #FFFFFF;\n",
              "    }\n",
              "  </style>\n",
              "\n",
              "    <script>\n",
              "      const buttonEl =\n",
              "        document.querySelector('#df-ac1fe9ac-3df2-4d0c-96f7-df0291d15055 button.colab-df-convert');\n",
              "      buttonEl.style.display =\n",
              "        google.colab.kernel.accessAllowed ? 'block' : 'none';\n",
              "\n",
              "      async function convertToInteractive(key) {\n",
              "        const element = document.querySelector('#df-ac1fe9ac-3df2-4d0c-96f7-df0291d15055');\n",
              "        const dataTable =\n",
              "          await google.colab.kernel.invokeFunction('convertToInteractive',\n",
              "                                                    [key], {});\n",
              "        if (!dataTable) return;\n",
              "\n",
              "        const docLinkHtml = 'Like what you see? Visit the ' +\n",
              "          '<a target=\"_blank\" href=https://colab.research.google.com/notebooks/data_table.ipynb>data table notebook</a>'\n",
              "          + ' to learn more about interactive tables.';\n",
              "        element.innerHTML = '';\n",
              "        dataTable['output_type'] = 'display_data';\n",
              "        await google.colab.output.renderOutput(dataTable, element);\n",
              "        const docLink = document.createElement('div');\n",
              "        docLink.innerHTML = docLinkHtml;\n",
              "        element.appendChild(docLink);\n",
              "      }\n",
              "    </script>\n",
              "  </div>\n",
              "\n",
              "\n",
              "<div id=\"df-cc6568f9-e47d-4ac0-800d-e1d54552ffd3\">\n",
              "  <button class=\"colab-df-quickchart\" onclick=\"quickchart('df-cc6568f9-e47d-4ac0-800d-e1d54552ffd3')\"\n",
              "            title=\"Suggest charts\"\n",
              "            style=\"display:none;\">\n",
              "\n",
              "<svg xmlns=\"http://www.w3.org/2000/svg\" height=\"24px\"viewBox=\"0 0 24 24\"\n",
              "     width=\"24px\">\n",
              "    <g>\n",
              "        <path d=\"M19 3H5c-1.1 0-2 .9-2 2v14c0 1.1.9 2 2 2h14c1.1 0 2-.9 2-2V5c0-1.1-.9-2-2-2zM9 17H7v-7h2v7zm4 0h-2V7h2v10zm4 0h-2v-4h2v4z\"/>\n",
              "    </g>\n",
              "</svg>\n",
              "  </button>\n",
              "\n",
              "<style>\n",
              "  .colab-df-quickchart {\n",
              "      --bg-color: #E8F0FE;\n",
              "      --fill-color: #1967D2;\n",
              "      --hover-bg-color: #E2EBFA;\n",
              "      --hover-fill-color: #174EA6;\n",
              "      --disabled-fill-color: #AAA;\n",
              "      --disabled-bg-color: #DDD;\n",
              "  }\n",
              "\n",
              "  [theme=dark] .colab-df-quickchart {\n",
              "      --bg-color: #3B4455;\n",
              "      --fill-color: #D2E3FC;\n",
              "      --hover-bg-color: #434B5C;\n",
              "      --hover-fill-color: #FFFFFF;\n",
              "      --disabled-bg-color: #3B4455;\n",
              "      --disabled-fill-color: #666;\n",
              "  }\n",
              "\n",
              "  .colab-df-quickchart {\n",
              "    background-color: var(--bg-color);\n",
              "    border: none;\n",
              "    border-radius: 50%;\n",
              "    cursor: pointer;\n",
              "    display: none;\n",
              "    fill: var(--fill-color);\n",
              "    height: 32px;\n",
              "    padding: 0;\n",
              "    width: 32px;\n",
              "  }\n",
              "\n",
              "  .colab-df-quickchart:hover {\n",
              "    background-color: var(--hover-bg-color);\n",
              "    box-shadow: 0 1px 2px rgba(60, 64, 67, 0.3), 0 1px 3px 1px rgba(60, 64, 67, 0.15);\n",
              "    fill: var(--button-hover-fill-color);\n",
              "  }\n",
              "\n",
              "  .colab-df-quickchart-complete:disabled,\n",
              "  .colab-df-quickchart-complete:disabled:hover {\n",
              "    background-color: var(--disabled-bg-color);\n",
              "    fill: var(--disabled-fill-color);\n",
              "    box-shadow: none;\n",
              "  }\n",
              "\n",
              "  .colab-df-spinner {\n",
              "    border: 2px solid var(--fill-color);\n",
              "    border-color: transparent;\n",
              "    border-bottom-color: var(--fill-color);\n",
              "    animation:\n",
              "      spin 1s steps(1) infinite;\n",
              "  }\n",
              "\n",
              "  @keyframes spin {\n",
              "    0% {\n",
              "      border-color: transparent;\n",
              "      border-bottom-color: var(--fill-color);\n",
              "      border-left-color: var(--fill-color);\n",
              "    }\n",
              "    20% {\n",
              "      border-color: transparent;\n",
              "      border-left-color: var(--fill-color);\n",
              "      border-top-color: var(--fill-color);\n",
              "    }\n",
              "    30% {\n",
              "      border-color: transparent;\n",
              "      border-left-color: var(--fill-color);\n",
              "      border-top-color: var(--fill-color);\n",
              "      border-right-color: var(--fill-color);\n",
              "    }\n",
              "    40% {\n",
              "      border-color: transparent;\n",
              "      border-right-color: var(--fill-color);\n",
              "      border-top-color: var(--fill-color);\n",
              "    }\n",
              "    60% {\n",
              "      border-color: transparent;\n",
              "      border-right-color: var(--fill-color);\n",
              "    }\n",
              "    80% {\n",
              "      border-color: transparent;\n",
              "      border-right-color: var(--fill-color);\n",
              "      border-bottom-color: var(--fill-color);\n",
              "    }\n",
              "    90% {\n",
              "      border-color: transparent;\n",
              "      border-bottom-color: var(--fill-color);\n",
              "    }\n",
              "  }\n",
              "</style>\n",
              "\n",
              "  <script>\n",
              "    async function quickchart(key) {\n",
              "      const quickchartButtonEl =\n",
              "        document.querySelector('#' + key + ' button');\n",
              "      quickchartButtonEl.disabled = true;  // To prevent multiple clicks.\n",
              "      quickchartButtonEl.classList.add('colab-df-spinner');\n",
              "      try {\n",
              "        const charts = await google.colab.kernel.invokeFunction(\n",
              "            'suggestCharts', [key], {});\n",
              "      } catch (error) {\n",
              "        console.error('Error during call to suggestCharts:', error);\n",
              "      }\n",
              "      quickchartButtonEl.classList.remove('colab-df-spinner');\n",
              "      quickchartButtonEl.classList.add('colab-df-quickchart-complete');\n",
              "    }\n",
              "    (() => {\n",
              "      let quickchartButtonEl =\n",
              "        document.querySelector('#df-cc6568f9-e47d-4ac0-800d-e1d54552ffd3 button');\n",
              "      quickchartButtonEl.style.display =\n",
              "        google.colab.kernel.accessAllowed ? 'block' : 'none';\n",
              "    })();\n",
              "  </script>\n",
              "</div>\n",
              "\n",
              "    </div>\n",
              "  </div>\n"
            ],
            "application/vnd.google.colaboratory.intrinsic+json": {
              "type": "dataframe",
              "variable_name": "data"
            }
          },
          "metadata": {},
          "execution_count": 5
        }
      ]
    },
    {
      "cell_type": "code",
      "source": [
        "data.shape"
      ],
      "metadata": {
        "colab": {
          "base_uri": "https://localhost:8080/"
        },
        "id": "N26exQj4nhHF",
        "outputId": "479e2251-22a1-432e-e4d6-7a30d993e2af"
      },
      "execution_count": 6,
      "outputs": [
        {
          "output_type": "execute_result",
          "data": {
            "text/plain": [
              "(366, 22)"
            ]
          },
          "metadata": {},
          "execution_count": 6
        }
      ]
    },
    {
      "cell_type": "code",
      "source": [
        "data.columns"
      ],
      "metadata": {
        "colab": {
          "base_uri": "https://localhost:8080/"
        },
        "id": "l1JfPaK0nfMH",
        "outputId": "f941f760-ee65-49e9-9e3c-bb367c6dc91b"
      },
      "execution_count": 7,
      "outputs": [
        {
          "output_type": "execute_result",
          "data": {
            "text/plain": [
              "Index(['MinTemp', 'MaxTemp', 'Rainfall', 'Evaporation', 'Sunshine',\n",
              "       'WindGustDir', 'WindGustSpeed', 'WindDir9am', 'WindDir3pm',\n",
              "       'WindSpeed9am', 'WindSpeed3pm', 'Humidity9am', 'Humidity3pm',\n",
              "       'Pressure9am', 'Pressure3pm', 'Cloud9am', 'Cloud3pm', 'Temp9am',\n",
              "       'Temp3pm', 'RainToday', 'RISK_MM', 'RainTomorrow'],\n",
              "      dtype='object')"
            ]
          },
          "metadata": {},
          "execution_count": 7
        }
      ]
    },
    {
      "cell_type": "code",
      "source": [
        "data.info()"
      ],
      "metadata": {
        "colab": {
          "base_uri": "https://localhost:8080/"
        },
        "id": "W09IFqIDn1XZ",
        "outputId": "9fd4e487-951d-4373-a78a-c00fb4d8caac"
      },
      "execution_count": 8,
      "outputs": [
        {
          "output_type": "stream",
          "name": "stdout",
          "text": [
            "<class 'pandas.core.frame.DataFrame'>\n",
            "RangeIndex: 366 entries, 0 to 365\n",
            "Data columns (total 22 columns):\n",
            " #   Column         Non-Null Count  Dtype  \n",
            "---  ------         --------------  -----  \n",
            " 0   MinTemp        366 non-null    float64\n",
            " 1   MaxTemp        366 non-null    float64\n",
            " 2   Rainfall       366 non-null    float64\n",
            " 3   Evaporation    366 non-null    float64\n",
            " 4   Sunshine       363 non-null    float64\n",
            " 5   WindGustDir    363 non-null    object \n",
            " 6   WindGustSpeed  364 non-null    float64\n",
            " 7   WindDir9am     335 non-null    object \n",
            " 8   WindDir3pm     365 non-null    object \n",
            " 9   WindSpeed9am   359 non-null    float64\n",
            " 10  WindSpeed3pm   366 non-null    int64  \n",
            " 11  Humidity9am    366 non-null    int64  \n",
            " 12  Humidity3pm    366 non-null    int64  \n",
            " 13  Pressure9am    366 non-null    float64\n",
            " 14  Pressure3pm    366 non-null    float64\n",
            " 15  Cloud9am       366 non-null    int64  \n",
            " 16  Cloud3pm       366 non-null    int64  \n",
            " 17  Temp9am        366 non-null    float64\n",
            " 18  Temp3pm        366 non-null    float64\n",
            " 19  RainToday      366 non-null    object \n",
            " 20  RISK_MM        366 non-null    float64\n",
            " 21  RainTomorrow   366 non-null    object \n",
            "dtypes: float64(12), int64(5), object(5)\n",
            "memory usage: 63.0+ KB\n"
          ]
        }
      ]
    },
    {
      "cell_type": "code",
      "source": [
        "data.columns=data.columns.str.lower()"
      ],
      "metadata": {
        "id": "KKBmnCo3okVY"
      },
      "execution_count": 9,
      "outputs": []
    },
    {
      "cell_type": "markdown",
      "source": [
        "# analysing missing values"
      ],
      "metadata": {
        "id": "J-LuEUflosNz"
      }
    },
    {
      "cell_type": "code",
      "source": [
        "data.isnull().sum()"
      ],
      "metadata": {
        "colab": {
          "base_uri": "https://localhost:8080/"
        },
        "id": "8VSl1-Gco2ew",
        "outputId": "c410e210-9ebc-4223-b0f0-1f68bc189837"
      },
      "execution_count": 10,
      "outputs": [
        {
          "output_type": "execute_result",
          "data": {
            "text/plain": [
              "mintemp           0\n",
              "maxtemp           0\n",
              "rainfall          0\n",
              "evaporation       0\n",
              "sunshine          3\n",
              "windgustdir       3\n",
              "windgustspeed     2\n",
              "winddir9am       31\n",
              "winddir3pm        1\n",
              "windspeed9am      7\n",
              "windspeed3pm      0\n",
              "humidity9am       0\n",
              "humidity3pm       0\n",
              "pressure9am       0\n",
              "pressure3pm       0\n",
              "cloud9am          0\n",
              "cloud3pm          0\n",
              "temp9am           0\n",
              "temp3pm           0\n",
              "raintoday         0\n",
              "risk_mm           0\n",
              "raintomorrow      0\n",
              "dtype: int64"
            ]
          },
          "metadata": {},
          "execution_count": 10
        }
      ]
    },
    {
      "cell_type": "code",
      "source": [
        "numeric_cols = data.select_dtypes(include='number')\n",
        "print(numeric_cols)\n"
      ],
      "metadata": {
        "colab": {
          "base_uri": "https://localhost:8080/"
        },
        "id": "YVTUG-Ako9Kz",
        "outputId": "5fa4720e-0d69-4530-afe4-a789e9c190ef"
      },
      "execution_count": 11,
      "outputs": [
        {
          "output_type": "stream",
          "name": "stdout",
          "text": [
            "     mintemp  maxtemp  rainfall  evaporation  sunshine  windgustspeed  \\\n",
            "0        8.0     24.3       0.0          3.4       6.3           30.0   \n",
            "1       14.0     26.9       3.6          4.4       9.7           39.0   \n",
            "2       13.7     23.4       3.6          5.8       3.3           85.0   \n",
            "3       13.3     15.5      39.8          7.2       9.1           54.0   \n",
            "4        7.6     16.1       2.8          5.6      10.6           50.0   \n",
            "..       ...      ...       ...          ...       ...            ...   \n",
            "361      9.0     30.7       0.0          7.6      12.1           76.0   \n",
            "362      7.1     28.4       0.0         11.6      12.7           48.0   \n",
            "363     12.5     19.9       0.0          8.4       5.3           43.0   \n",
            "364     12.5     26.9       0.0          5.0       7.1           46.0   \n",
            "365     12.3     30.2       0.0          6.0      12.6           78.0   \n",
            "\n",
            "     windspeed9am  windspeed3pm  humidity9am  humidity3pm  pressure9am  \\\n",
            "0             6.0            20           68           29       1019.7   \n",
            "1             4.0            17           80           36       1012.4   \n",
            "2             6.0             6           82           69       1009.5   \n",
            "3            30.0            24           62           56       1005.5   \n",
            "4            20.0            28           68           49       1018.3   \n",
            "..            ...           ...          ...          ...          ...   \n",
            "361           7.0            50           38           15       1016.1   \n",
            "362           2.0            19           45           22       1020.0   \n",
            "363          11.0             9           63           47       1024.0   \n",
            "364           6.0            28           69           39       1021.0   \n",
            "365          31.0            35           43           13       1009.6   \n",
            "\n",
            "     pressure3pm  cloud9am  cloud3pm  temp9am  temp3pm  risk_mm  \n",
            "0         1015.0         7         7     14.4     23.6      3.6  \n",
            "1         1008.4         5         3     17.5     25.7      3.6  \n",
            "2         1007.2         8         7     15.4     20.2     39.8  \n",
            "3         1007.0         2         7     13.5     14.1      2.8  \n",
            "4         1018.5         7         7     11.1     15.4      0.0  \n",
            "..           ...       ...       ...      ...      ...      ...  \n",
            "361       1010.8         1         3     20.4     30.0      0.0  \n",
            "362       1016.9         0         1     17.2     28.2      0.0  \n",
            "363       1022.8         3         2     14.5     18.3      0.0  \n",
            "364       1016.2         6         7     15.8     25.9      0.0  \n",
            "365       1009.2         1         1     23.8     28.6      0.0  \n",
            "\n",
            "[366 rows x 17 columns]\n"
          ]
        }
      ]
    },
    {
      "cell_type": "code",
      "source": [
        "cate_cols = data.select_dtypes(include='object')\n",
        "print(cate_cols)\n"
      ],
      "metadata": {
        "colab": {
          "base_uri": "https://localhost:8080/"
        },
        "id": "5LwW6XtwksVE",
        "outputId": "869586b8-f941-4cc4-a7fc-57ece8174d40"
      },
      "execution_count": 12,
      "outputs": [
        {
          "output_type": "stream",
          "name": "stdout",
          "text": [
            "    windgustdir winddir9am winddir3pm raintoday raintomorrow\n",
            "0            NW         SW         NW        No          Yes\n",
            "1           ENE          E          W       Yes          Yes\n",
            "2            NW          N        NNE       Yes          Yes\n",
            "3            NW        WNW          W       Yes          Yes\n",
            "4           SSE        SSE        ESE       Yes           No\n",
            "..          ...        ...        ...       ...          ...\n",
            "361         NNW        SSE         NW        No           No\n",
            "362           N        NNW        NNW        No           No\n",
            "363         ESE        ENE        ENE        No           No\n",
            "364          NW        SSW        WNW        No           No\n",
            "365          NW         NW        WNW        No           No\n",
            "\n",
            "[366 rows x 5 columns]\n"
          ]
        }
      ]
    },
    {
      "cell_type": "markdown",
      "source": [
        "analysing numeric columns"
      ],
      "metadata": {
        "id": "f5e0DhsTk1c-"
      }
    },
    {
      "cell_type": "code",
      "source": [
        "numeric_cols.duplicated().sum()"
      ],
      "metadata": {
        "colab": {
          "base_uri": "https://localhost:8080/"
        },
        "id": "JrH8j4kHk1E_",
        "outputId": "015cc560-df98-41e4-cf50-62e10d3ff0ae"
      },
      "execution_count": 13,
      "outputs": [
        {
          "output_type": "execute_result",
          "data": {
            "text/plain": [
              "0"
            ]
          },
          "metadata": {},
          "execution_count": 13
        }
      ]
    },
    {
      "cell_type": "code",
      "source": [
        "numeric_cols.describe()"
      ],
      "metadata": {
        "colab": {
          "base_uri": "https://localhost:8080/",
          "height": 0
        },
        "id": "lq6WMKF2lCMV",
        "outputId": "d212d810-2c25-46bd-ae95-ddb126343a80"
      },
      "execution_count": 14,
      "outputs": [
        {
          "output_type": "execute_result",
          "data": {
            "text/plain": [
              "          mintemp     maxtemp    rainfall  evaporation    sunshine  \\\n",
              "count  366.000000  366.000000  366.000000   366.000000  363.000000   \n",
              "mean     7.265574   20.550273    1.428415     4.521858    7.909366   \n",
              "std      6.025800    6.690516    4.225800     2.669383    3.481517   \n",
              "min     -5.300000    7.600000    0.000000     0.200000    0.000000   \n",
              "25%      2.300000   15.025000    0.000000     2.200000    5.950000   \n",
              "50%      7.450000   19.650000    0.000000     4.200000    8.600000   \n",
              "75%     12.500000   25.500000    0.200000     6.400000   10.500000   \n",
              "max     20.900000   35.800000   39.800000    13.800000   13.600000   \n",
              "\n",
              "       windgustspeed  windspeed9am  windspeed3pm  humidity9am  humidity3pm  \\\n",
              "count     364.000000    359.000000    366.000000   366.000000   366.000000   \n",
              "mean       39.840659      9.651811     17.986339    72.035519    44.519126   \n",
              "std        13.059807      7.951929      8.856997    13.137058    16.850947   \n",
              "min        13.000000      0.000000      0.000000    36.000000    13.000000   \n",
              "25%        31.000000      6.000000     11.000000    64.000000    32.250000   \n",
              "50%        39.000000      7.000000     17.000000    72.000000    43.000000   \n",
              "75%        46.000000     13.000000     24.000000    81.000000    55.000000   \n",
              "max        98.000000     41.000000     52.000000    99.000000    96.000000   \n",
              "\n",
              "       pressure9am  pressure3pm    cloud9am    cloud3pm     temp9am  \\\n",
              "count   366.000000   366.000000  366.000000  366.000000  366.000000   \n",
              "mean   1019.709016  1016.810383    3.890710    4.024590   12.358470   \n",
              "std       6.686212     6.469422    2.956131    2.666268    5.630832   \n",
              "min     996.500000   996.800000    0.000000    0.000000    0.100000   \n",
              "25%    1015.350000  1012.800000    1.000000    1.000000    7.625000   \n",
              "50%    1020.150000  1017.400000    3.500000    4.000000   12.550000   \n",
              "75%    1024.475000  1021.475000    7.000000    7.000000   17.000000   \n",
              "max    1035.700000  1033.200000    8.000000    8.000000   24.700000   \n",
              "\n",
              "          temp3pm     risk_mm  \n",
              "count  366.000000  366.000000  \n",
              "mean    19.230874    1.428415  \n",
              "std      6.640346    4.225800  \n",
              "min      5.100000    0.000000  \n",
              "25%     14.150000    0.000000  \n",
              "50%     18.550000    0.000000  \n",
              "75%     24.000000    0.200000  \n",
              "max     34.500000   39.800000  "
            ],
            "text/html": [
              "\n",
              "  <div id=\"df-60e13efc-7409-470e-9eeb-144251e69f42\" class=\"colab-df-container\">\n",
              "    <div>\n",
              "<style scoped>\n",
              "    .dataframe tbody tr th:only-of-type {\n",
              "        vertical-align: middle;\n",
              "    }\n",
              "\n",
              "    .dataframe tbody tr th {\n",
              "        vertical-align: top;\n",
              "    }\n",
              "\n",
              "    .dataframe thead th {\n",
              "        text-align: right;\n",
              "    }\n",
              "</style>\n",
              "<table border=\"1\" class=\"dataframe\">\n",
              "  <thead>\n",
              "    <tr style=\"text-align: right;\">\n",
              "      <th></th>\n",
              "      <th>mintemp</th>\n",
              "      <th>maxtemp</th>\n",
              "      <th>rainfall</th>\n",
              "      <th>evaporation</th>\n",
              "      <th>sunshine</th>\n",
              "      <th>windgustspeed</th>\n",
              "      <th>windspeed9am</th>\n",
              "      <th>windspeed3pm</th>\n",
              "      <th>humidity9am</th>\n",
              "      <th>humidity3pm</th>\n",
              "      <th>pressure9am</th>\n",
              "      <th>pressure3pm</th>\n",
              "      <th>cloud9am</th>\n",
              "      <th>cloud3pm</th>\n",
              "      <th>temp9am</th>\n",
              "      <th>temp3pm</th>\n",
              "      <th>risk_mm</th>\n",
              "    </tr>\n",
              "  </thead>\n",
              "  <tbody>\n",
              "    <tr>\n",
              "      <th>count</th>\n",
              "      <td>366.000000</td>\n",
              "      <td>366.000000</td>\n",
              "      <td>366.000000</td>\n",
              "      <td>366.000000</td>\n",
              "      <td>363.000000</td>\n",
              "      <td>364.000000</td>\n",
              "      <td>359.000000</td>\n",
              "      <td>366.000000</td>\n",
              "      <td>366.000000</td>\n",
              "      <td>366.000000</td>\n",
              "      <td>366.000000</td>\n",
              "      <td>366.000000</td>\n",
              "      <td>366.000000</td>\n",
              "      <td>366.000000</td>\n",
              "      <td>366.000000</td>\n",
              "      <td>366.000000</td>\n",
              "      <td>366.000000</td>\n",
              "    </tr>\n",
              "    <tr>\n",
              "      <th>mean</th>\n",
              "      <td>7.265574</td>\n",
              "      <td>20.550273</td>\n",
              "      <td>1.428415</td>\n",
              "      <td>4.521858</td>\n",
              "      <td>7.909366</td>\n",
              "      <td>39.840659</td>\n",
              "      <td>9.651811</td>\n",
              "      <td>17.986339</td>\n",
              "      <td>72.035519</td>\n",
              "      <td>44.519126</td>\n",
              "      <td>1019.709016</td>\n",
              "      <td>1016.810383</td>\n",
              "      <td>3.890710</td>\n",
              "      <td>4.024590</td>\n",
              "      <td>12.358470</td>\n",
              "      <td>19.230874</td>\n",
              "      <td>1.428415</td>\n",
              "    </tr>\n",
              "    <tr>\n",
              "      <th>std</th>\n",
              "      <td>6.025800</td>\n",
              "      <td>6.690516</td>\n",
              "      <td>4.225800</td>\n",
              "      <td>2.669383</td>\n",
              "      <td>3.481517</td>\n",
              "      <td>13.059807</td>\n",
              "      <td>7.951929</td>\n",
              "      <td>8.856997</td>\n",
              "      <td>13.137058</td>\n",
              "      <td>16.850947</td>\n",
              "      <td>6.686212</td>\n",
              "      <td>6.469422</td>\n",
              "      <td>2.956131</td>\n",
              "      <td>2.666268</td>\n",
              "      <td>5.630832</td>\n",
              "      <td>6.640346</td>\n",
              "      <td>4.225800</td>\n",
              "    </tr>\n",
              "    <tr>\n",
              "      <th>min</th>\n",
              "      <td>-5.300000</td>\n",
              "      <td>7.600000</td>\n",
              "      <td>0.000000</td>\n",
              "      <td>0.200000</td>\n",
              "      <td>0.000000</td>\n",
              "      <td>13.000000</td>\n",
              "      <td>0.000000</td>\n",
              "      <td>0.000000</td>\n",
              "      <td>36.000000</td>\n",
              "      <td>13.000000</td>\n",
              "      <td>996.500000</td>\n",
              "      <td>996.800000</td>\n",
              "      <td>0.000000</td>\n",
              "      <td>0.000000</td>\n",
              "      <td>0.100000</td>\n",
              "      <td>5.100000</td>\n",
              "      <td>0.000000</td>\n",
              "    </tr>\n",
              "    <tr>\n",
              "      <th>25%</th>\n",
              "      <td>2.300000</td>\n",
              "      <td>15.025000</td>\n",
              "      <td>0.000000</td>\n",
              "      <td>2.200000</td>\n",
              "      <td>5.950000</td>\n",
              "      <td>31.000000</td>\n",
              "      <td>6.000000</td>\n",
              "      <td>11.000000</td>\n",
              "      <td>64.000000</td>\n",
              "      <td>32.250000</td>\n",
              "      <td>1015.350000</td>\n",
              "      <td>1012.800000</td>\n",
              "      <td>1.000000</td>\n",
              "      <td>1.000000</td>\n",
              "      <td>7.625000</td>\n",
              "      <td>14.150000</td>\n",
              "      <td>0.000000</td>\n",
              "    </tr>\n",
              "    <tr>\n",
              "      <th>50%</th>\n",
              "      <td>7.450000</td>\n",
              "      <td>19.650000</td>\n",
              "      <td>0.000000</td>\n",
              "      <td>4.200000</td>\n",
              "      <td>8.600000</td>\n",
              "      <td>39.000000</td>\n",
              "      <td>7.000000</td>\n",
              "      <td>17.000000</td>\n",
              "      <td>72.000000</td>\n",
              "      <td>43.000000</td>\n",
              "      <td>1020.150000</td>\n",
              "      <td>1017.400000</td>\n",
              "      <td>3.500000</td>\n",
              "      <td>4.000000</td>\n",
              "      <td>12.550000</td>\n",
              "      <td>18.550000</td>\n",
              "      <td>0.000000</td>\n",
              "    </tr>\n",
              "    <tr>\n",
              "      <th>75%</th>\n",
              "      <td>12.500000</td>\n",
              "      <td>25.500000</td>\n",
              "      <td>0.200000</td>\n",
              "      <td>6.400000</td>\n",
              "      <td>10.500000</td>\n",
              "      <td>46.000000</td>\n",
              "      <td>13.000000</td>\n",
              "      <td>24.000000</td>\n",
              "      <td>81.000000</td>\n",
              "      <td>55.000000</td>\n",
              "      <td>1024.475000</td>\n",
              "      <td>1021.475000</td>\n",
              "      <td>7.000000</td>\n",
              "      <td>7.000000</td>\n",
              "      <td>17.000000</td>\n",
              "      <td>24.000000</td>\n",
              "      <td>0.200000</td>\n",
              "    </tr>\n",
              "    <tr>\n",
              "      <th>max</th>\n",
              "      <td>20.900000</td>\n",
              "      <td>35.800000</td>\n",
              "      <td>39.800000</td>\n",
              "      <td>13.800000</td>\n",
              "      <td>13.600000</td>\n",
              "      <td>98.000000</td>\n",
              "      <td>41.000000</td>\n",
              "      <td>52.000000</td>\n",
              "      <td>99.000000</td>\n",
              "      <td>96.000000</td>\n",
              "      <td>1035.700000</td>\n",
              "      <td>1033.200000</td>\n",
              "      <td>8.000000</td>\n",
              "      <td>8.000000</td>\n",
              "      <td>24.700000</td>\n",
              "      <td>34.500000</td>\n",
              "      <td>39.800000</td>\n",
              "    </tr>\n",
              "  </tbody>\n",
              "</table>\n",
              "</div>\n",
              "    <div class=\"colab-df-buttons\">\n",
              "\n",
              "  <div class=\"colab-df-container\">\n",
              "    <button class=\"colab-df-convert\" onclick=\"convertToInteractive('df-60e13efc-7409-470e-9eeb-144251e69f42')\"\n",
              "            title=\"Convert this dataframe to an interactive table.\"\n",
              "            style=\"display:none;\">\n",
              "\n",
              "  <svg xmlns=\"http://www.w3.org/2000/svg\" height=\"24px\" viewBox=\"0 -960 960 960\">\n",
              "    <path d=\"M120-120v-720h720v720H120Zm60-500h600v-160H180v160Zm220 220h160v-160H400v160Zm0 220h160v-160H400v160ZM180-400h160v-160H180v160Zm440 0h160v-160H620v160ZM180-180h160v-160H180v160Zm440 0h160v-160H620v160Z\"/>\n",
              "  </svg>\n",
              "    </button>\n",
              "\n",
              "  <style>\n",
              "    .colab-df-container {\n",
              "      display:flex;\n",
              "      gap: 12px;\n",
              "    }\n",
              "\n",
              "    .colab-df-convert {\n",
              "      background-color: #E8F0FE;\n",
              "      border: none;\n",
              "      border-radius: 50%;\n",
              "      cursor: pointer;\n",
              "      display: none;\n",
              "      fill: #1967D2;\n",
              "      height: 32px;\n",
              "      padding: 0 0 0 0;\n",
              "      width: 32px;\n",
              "    }\n",
              "\n",
              "    .colab-df-convert:hover {\n",
              "      background-color: #E2EBFA;\n",
              "      box-shadow: 0px 1px 2px rgba(60, 64, 67, 0.3), 0px 1px 3px 1px rgba(60, 64, 67, 0.15);\n",
              "      fill: #174EA6;\n",
              "    }\n",
              "\n",
              "    .colab-df-buttons div {\n",
              "      margin-bottom: 4px;\n",
              "    }\n",
              "\n",
              "    [theme=dark] .colab-df-convert {\n",
              "      background-color: #3B4455;\n",
              "      fill: #D2E3FC;\n",
              "    }\n",
              "\n",
              "    [theme=dark] .colab-df-convert:hover {\n",
              "      background-color: #434B5C;\n",
              "      box-shadow: 0px 1px 3px 1px rgba(0, 0, 0, 0.15);\n",
              "      filter: drop-shadow(0px 1px 2px rgba(0, 0, 0, 0.3));\n",
              "      fill: #FFFFFF;\n",
              "    }\n",
              "  </style>\n",
              "\n",
              "    <script>\n",
              "      const buttonEl =\n",
              "        document.querySelector('#df-60e13efc-7409-470e-9eeb-144251e69f42 button.colab-df-convert');\n",
              "      buttonEl.style.display =\n",
              "        google.colab.kernel.accessAllowed ? 'block' : 'none';\n",
              "\n",
              "      async function convertToInteractive(key) {\n",
              "        const element = document.querySelector('#df-60e13efc-7409-470e-9eeb-144251e69f42');\n",
              "        const dataTable =\n",
              "          await google.colab.kernel.invokeFunction('convertToInteractive',\n",
              "                                                    [key], {});\n",
              "        if (!dataTable) return;\n",
              "\n",
              "        const docLinkHtml = 'Like what you see? Visit the ' +\n",
              "          '<a target=\"_blank\" href=https://colab.research.google.com/notebooks/data_table.ipynb>data table notebook</a>'\n",
              "          + ' to learn more about interactive tables.';\n",
              "        element.innerHTML = '';\n",
              "        dataTable['output_type'] = 'display_data';\n",
              "        await google.colab.output.renderOutput(dataTable, element);\n",
              "        const docLink = document.createElement('div');\n",
              "        docLink.innerHTML = docLinkHtml;\n",
              "        element.appendChild(docLink);\n",
              "      }\n",
              "    </script>\n",
              "  </div>\n",
              "\n",
              "\n",
              "<div id=\"df-07eed80a-9c55-44f0-8a41-8d7524d566d6\">\n",
              "  <button class=\"colab-df-quickchart\" onclick=\"quickchart('df-07eed80a-9c55-44f0-8a41-8d7524d566d6')\"\n",
              "            title=\"Suggest charts\"\n",
              "            style=\"display:none;\">\n",
              "\n",
              "<svg xmlns=\"http://www.w3.org/2000/svg\" height=\"24px\"viewBox=\"0 0 24 24\"\n",
              "     width=\"24px\">\n",
              "    <g>\n",
              "        <path d=\"M19 3H5c-1.1 0-2 .9-2 2v14c0 1.1.9 2 2 2h14c1.1 0 2-.9 2-2V5c0-1.1-.9-2-2-2zM9 17H7v-7h2v7zm4 0h-2V7h2v10zm4 0h-2v-4h2v4z\"/>\n",
              "    </g>\n",
              "</svg>\n",
              "  </button>\n",
              "\n",
              "<style>\n",
              "  .colab-df-quickchart {\n",
              "      --bg-color: #E8F0FE;\n",
              "      --fill-color: #1967D2;\n",
              "      --hover-bg-color: #E2EBFA;\n",
              "      --hover-fill-color: #174EA6;\n",
              "      --disabled-fill-color: #AAA;\n",
              "      --disabled-bg-color: #DDD;\n",
              "  }\n",
              "\n",
              "  [theme=dark] .colab-df-quickchart {\n",
              "      --bg-color: #3B4455;\n",
              "      --fill-color: #D2E3FC;\n",
              "      --hover-bg-color: #434B5C;\n",
              "      --hover-fill-color: #FFFFFF;\n",
              "      --disabled-bg-color: #3B4455;\n",
              "      --disabled-fill-color: #666;\n",
              "  }\n",
              "\n",
              "  .colab-df-quickchart {\n",
              "    background-color: var(--bg-color);\n",
              "    border: none;\n",
              "    border-radius: 50%;\n",
              "    cursor: pointer;\n",
              "    display: none;\n",
              "    fill: var(--fill-color);\n",
              "    height: 32px;\n",
              "    padding: 0;\n",
              "    width: 32px;\n",
              "  }\n",
              "\n",
              "  .colab-df-quickchart:hover {\n",
              "    background-color: var(--hover-bg-color);\n",
              "    box-shadow: 0 1px 2px rgba(60, 64, 67, 0.3), 0 1px 3px 1px rgba(60, 64, 67, 0.15);\n",
              "    fill: var(--button-hover-fill-color);\n",
              "  }\n",
              "\n",
              "  .colab-df-quickchart-complete:disabled,\n",
              "  .colab-df-quickchart-complete:disabled:hover {\n",
              "    background-color: var(--disabled-bg-color);\n",
              "    fill: var(--disabled-fill-color);\n",
              "    box-shadow: none;\n",
              "  }\n",
              "\n",
              "  .colab-df-spinner {\n",
              "    border: 2px solid var(--fill-color);\n",
              "    border-color: transparent;\n",
              "    border-bottom-color: var(--fill-color);\n",
              "    animation:\n",
              "      spin 1s steps(1) infinite;\n",
              "  }\n",
              "\n",
              "  @keyframes spin {\n",
              "    0% {\n",
              "      border-color: transparent;\n",
              "      border-bottom-color: var(--fill-color);\n",
              "      border-left-color: var(--fill-color);\n",
              "    }\n",
              "    20% {\n",
              "      border-color: transparent;\n",
              "      border-left-color: var(--fill-color);\n",
              "      border-top-color: var(--fill-color);\n",
              "    }\n",
              "    30% {\n",
              "      border-color: transparent;\n",
              "      border-left-color: var(--fill-color);\n",
              "      border-top-color: var(--fill-color);\n",
              "      border-right-color: var(--fill-color);\n",
              "    }\n",
              "    40% {\n",
              "      border-color: transparent;\n",
              "      border-right-color: var(--fill-color);\n",
              "      border-top-color: var(--fill-color);\n",
              "    }\n",
              "    60% {\n",
              "      border-color: transparent;\n",
              "      border-right-color: var(--fill-color);\n",
              "    }\n",
              "    80% {\n",
              "      border-color: transparent;\n",
              "      border-right-color: var(--fill-color);\n",
              "      border-bottom-color: var(--fill-color);\n",
              "    }\n",
              "    90% {\n",
              "      border-color: transparent;\n",
              "      border-bottom-color: var(--fill-color);\n",
              "    }\n",
              "  }\n",
              "</style>\n",
              "\n",
              "  <script>\n",
              "    async function quickchart(key) {\n",
              "      const quickchartButtonEl =\n",
              "        document.querySelector('#' + key + ' button');\n",
              "      quickchartButtonEl.disabled = true;  // To prevent multiple clicks.\n",
              "      quickchartButtonEl.classList.add('colab-df-spinner');\n",
              "      try {\n",
              "        const charts = await google.colab.kernel.invokeFunction(\n",
              "            'suggestCharts', [key], {});\n",
              "      } catch (error) {\n",
              "        console.error('Error during call to suggestCharts:', error);\n",
              "      }\n",
              "      quickchartButtonEl.classList.remove('colab-df-spinner');\n",
              "      quickchartButtonEl.classList.add('colab-df-quickchart-complete');\n",
              "    }\n",
              "    (() => {\n",
              "      let quickchartButtonEl =\n",
              "        document.querySelector('#df-07eed80a-9c55-44f0-8a41-8d7524d566d6 button');\n",
              "      quickchartButtonEl.style.display =\n",
              "        google.colab.kernel.accessAllowed ? 'block' : 'none';\n",
              "    })();\n",
              "  </script>\n",
              "</div>\n",
              "\n",
              "    </div>\n",
              "  </div>\n"
            ],
            "application/vnd.google.colaboratory.intrinsic+json": {
              "type": "dataframe",
              "summary": "{\n  \"name\": \"numeric_cols\",\n  \"rows\": 8,\n  \"fields\": [\n    {\n      \"column\": \"mintemp\",\n      \"properties\": {\n        \"dtype\": \"number\",\n        \"std\": 127.0411494804792,\n        \"min\": -5.3,\n        \"max\": 366.0,\n        \"num_unique_values\": 8,\n        \"samples\": [\n          7.265573770491804,\n          7.45,\n          366.0\n        ],\n        \"semantic_type\": \"\",\n        \"description\": \"\"\n      }\n    },\n    {\n      \"column\": \"maxtemp\",\n      \"properties\": {\n        \"dtype\": \"number\",\n        \"std\": 123.15574277124328,\n        \"min\": 6.690515669598577,\n        \"max\": 366.0,\n        \"num_unique_values\": 8,\n        \"samples\": [\n          20.550273224043714,\n          19.65,\n          366.0\n        ],\n        \"semantic_type\": \"\",\n        \"description\": \"\"\n      }\n    },\n    {\n      \"column\": \"rainfall\",\n      \"properties\": {\n        \"dtype\": \"number\",\n        \"std\": 127.82665643820597,\n        \"min\": 0.0,\n        \"max\": 366.0,\n        \"num_unique_values\": 6,\n        \"samples\": [\n          366.0,\n          1.428415300546448,\n          39.8\n        ],\n        \"semantic_type\": \"\",\n        \"description\": \"\"\n      }\n    },\n    {\n      \"column\": \"evaporation\",\n      \"properties\": {\n        \"dtype\": \"number\",\n        \"std\": 127.7488432974367,\n        \"min\": 0.2,\n        \"max\": 366.0,\n        \"num_unique_values\": 8,\n        \"samples\": [\n          4.521857923497268,\n          4.2,\n          366.0\n        ],\n        \"semantic_type\": \"\",\n        \"description\": \"\"\n      }\n    },\n    {\n      \"column\": \"sunshine\",\n      \"properties\": {\n        \"dtype\": \"number\",\n        \"std\": 125.88140966947581,\n        \"min\": 0.0,\n        \"max\": 363.0,\n        \"num_unique_values\": 8,\n        \"samples\": [\n          7.909366391184574,\n          8.6,\n          363.0\n        ],\n        \"semantic_type\": \"\",\n        \"description\": \"\"\n      }\n    },\n    {\n      \"column\": \"windgustspeed\",\n      \"properties\": {\n        \"dtype\": \"number\",\n        \"std\": 117.5942542066241,\n        \"min\": 13.0,\n        \"max\": 364.0,\n        \"num_unique_values\": 8,\n        \"samples\": [\n          39.84065934065934,\n          39.0,\n          364.0\n        ],\n        \"semantic_type\": \"\",\n        \"description\": \"\"\n      }\n    },\n    {\n      \"column\": \"windspeed9am\",\n      \"properties\": {\n        \"dtype\": \"number\",\n        \"std\": 123.27342194433017,\n        \"min\": 0.0,\n        \"max\": 359.0,\n        \"num_unique_values\": 8,\n        \"samples\": [\n          9.651810584958218,\n          7.0,\n          359.0\n        ],\n        \"semantic_type\": \"\",\n        \"description\": \"\"\n      }\n    },\n    {\n      \"column\": \"windspeed3pm\",\n      \"properties\": {\n        \"dtype\": \"number\",\n        \"std\": 123.74587570870167,\n        \"min\": 0.0,\n        \"max\": 366.0,\n        \"num_unique_values\": 8,\n        \"samples\": [\n          17.98633879781421,\n          17.0,\n          366.0\n        ],\n        \"semantic_type\": \"\",\n        \"description\": \"\"\n      }\n    },\n    {\n      \"column\": \"humidity9am\",\n      \"properties\": {\n        \"dtype\": \"number\",\n        \"std\": 110.5957404910172,\n        \"min\": 13.137058140203433,\n        \"max\": 366.0,\n        \"num_unique_values\": 8,\n        \"samples\": [\n          72.03551912568307,\n          72.0,\n          366.0\n        ],\n        \"semantic_type\": \"\",\n        \"description\": \"\"\n      }\n    },\n    {\n      \"column\": \"humidity3pm\",\n      \"properties\": {\n        \"dtype\": \"number\",\n        \"std\": 117.09164863008382,\n        \"min\": 13.0,\n        \"max\": 366.0,\n        \"num_unique_values\": 8,\n        \"samples\": [\n          44.51912568306011,\n          43.0,\n          366.0\n        ],\n        \"semantic_type\": \"\",\n        \"description\": \"\"\n      }\n    },\n    {\n      \"column\": \"pressure9am\",\n      \"properties\": {\n        \"dtype\": \"number\",\n        \"std\": 397.21858213794894,\n        \"min\": 6.6862115828948605,\n        \"max\": 1035.7,\n        \"num_unique_values\": 8,\n        \"samples\": [\n          1019.7090163934428,\n          1020.1500000000001,\n          366.0\n        ],\n        \"semantic_type\": \"\",\n        \"description\": \"\"\n      }\n    },\n    {\n      \"column\": \"pressure3pm\",\n      \"properties\": {\n        \"dtype\": \"number\",\n        \"std\": 396.25649199525606,\n        \"min\": 6.469422397297334,\n        \"max\": 1033.2,\n        \"num_unique_values\": 8,\n        \"samples\": [\n          1016.8103825136611,\n          1017.4,\n          366.0\n        ],\n        \"semantic_type\": \"\",\n        \"description\": \"\"\n      }\n    },\n    {\n      \"column\": \"cloud9am\",\n      \"properties\": {\n        \"dtype\": \"number\",\n        \"std\": 128.09824404055945,\n        \"min\": 0.0,\n        \"max\": 366.0,\n        \"num_unique_values\": 8,\n        \"samples\": [\n          3.890710382513661,\n          3.5,\n          366.0\n        ],\n        \"semantic_type\": \"\",\n        \"description\": \"\"\n      }\n    },\n    {\n      \"column\": \"cloud3pm\",\n      \"properties\": {\n        \"dtype\": \"number\",\n        \"std\": 128.0811922130848,\n        \"min\": 0.0,\n        \"max\": 366.0,\n        \"num_unique_values\": 8,\n        \"samples\": [\n          4.024590163934426,\n          4.0,\n          366.0\n        ],\n        \"semantic_type\": \"\",\n        \"description\": \"\"\n      }\n    },\n    {\n      \"column\": \"temp9am\",\n      \"properties\": {\n        \"dtype\": \"number\",\n        \"std\": 125.5813119250404,\n        \"min\": 0.1,\n        \"max\": 366.0,\n        \"num_unique_values\": 8,\n        \"samples\": [\n          12.358469945355191,\n          12.55,\n          366.0\n        ],\n        \"semantic_type\": \"\",\n        \"description\": \"\"\n      }\n    },\n    {\n      \"column\": \"temp3pm\",\n      \"properties\": {\n        \"dtype\": \"number\",\n        \"std\": 123.58780174434932,\n        \"min\": 5.1,\n        \"max\": 366.0,\n        \"num_unique_values\": 8,\n        \"samples\": [\n          19.23087431693989,\n          18.55,\n          366.0\n        ],\n        \"semantic_type\": \"\",\n        \"description\": \"\"\n      }\n    },\n    {\n      \"column\": \"risk_mm\",\n      \"properties\": {\n        \"dtype\": \"number\",\n        \"std\": 127.82665643820597,\n        \"min\": 0.0,\n        \"max\": 366.0,\n        \"num_unique_values\": 6,\n        \"samples\": [\n          366.0,\n          1.428415300546448,\n          39.8\n        ],\n        \"semantic_type\": \"\",\n        \"description\": \"\"\n      }\n    }\n  ]\n}"
            }
          },
          "metadata": {},
          "execution_count": 14
        }
      ]
    },
    {
      "cell_type": "code",
      "source": [
        "null_values=data[data['sunshine'].isnull()].index.tolist()"
      ],
      "metadata": {
        "id": "zTYvwqTsnRPr"
      },
      "execution_count": 15,
      "outputs": []
    },
    {
      "cell_type": "code",
      "source": [
        "for x in null_values:\n",
        "  print(data.loc[x,:])\n"
      ],
      "metadata": {
        "colab": {
          "base_uri": "https://localhost:8080/"
        },
        "id": "Fb__Jb7mo2_F",
        "outputId": "0bddc7c0-3846-4481-ad1f-59416fb9b4e4"
      },
      "execution_count": 16,
      "outputs": [
        {
          "output_type": "stream",
          "name": "stdout",
          "text": [
            "mintemp             7.4\n",
            "maxtemp            16.3\n",
            "rainfall            0.0\n",
            "evaporation         1.2\n",
            "sunshine            NaN\n",
            "windgustdir         NNE\n",
            "windgustspeed      30.0\n",
            "winddir9am          SSE\n",
            "winddir3pm           NE\n",
            "windspeed9am        6.0\n",
            "windspeed3pm         19\n",
            "humidity9am          75\n",
            "humidity3pm          65\n",
            "pressure9am      1031.4\n",
            "pressure3pm      1027.9\n",
            "cloud9am              7\n",
            "cloud3pm              7\n",
            "temp9am            12.1\n",
            "temp3pm            14.5\n",
            "raintoday            No\n",
            "risk_mm             6.2\n",
            "raintomorrow        Yes\n",
            "Name: 221, dtype: object\n",
            "mintemp            -3.3\n",
            "maxtemp            15.1\n",
            "rainfall            0.0\n",
            "evaporation         3.0\n",
            "sunshine            NaN\n",
            "windgustdir         SSW\n",
            "windgustspeed      30.0\n",
            "winddir9am          SSE\n",
            "winddir3pm           SE\n",
            "windspeed9am        9.0\n",
            "windspeed3pm         13\n",
            "humidity9am          57\n",
            "humidity3pm          23\n",
            "pressure9am      1027.7\n",
            "pressure3pm      1025.5\n",
            "cloud9am              1\n",
            "cloud3pm              1\n",
            "temp9am             7.9\n",
            "temp3pm            14.4\n",
            "raintoday            No\n",
            "risk_mm             0.0\n",
            "raintomorrow         No\n",
            "Name: 300, dtype: object\n",
            "mintemp            11.9\n",
            "maxtemp            21.1\n",
            "rainfall           13.2\n",
            "evaporation         6.6\n",
            "sunshine            NaN\n",
            "windgustdir          NW\n",
            "windgustspeed      41.0\n",
            "winddir9am          NNE\n",
            "winddir3pm            N\n",
            "windspeed9am        7.0\n",
            "windspeed3pm         24\n",
            "humidity9am          82\n",
            "humidity3pm          61\n",
            "pressure9am      1019.2\n",
            "pressure3pm      1016.7\n",
            "cloud9am              7\n",
            "cloud3pm              3\n",
            "temp9am            14.5\n",
            "temp3pm            19.4\n",
            "raintoday           Yes\n",
            "risk_mm             0.6\n",
            "raintomorrow         No\n",
            "Name: 348, dtype: object\n"
          ]
        }
      ]
    },
    {
      "cell_type": "code",
      "source": [
        "cate_cols['winddir9am'].value_counts()"
      ],
      "metadata": {
        "colab": {
          "base_uri": "https://localhost:8080/"
        },
        "id": "xYIy9-N5yTfL",
        "outputId": "583f0f78-d2b9-45f0-d715-2d9fb715bcb5"
      },
      "execution_count": 17,
      "outputs": [
        {
          "output_type": "execute_result",
          "data": {
            "text/plain": [
              "winddir9am\n",
              "SE     47\n",
              "SSE    40\n",
              "NNW    36\n",
              "N      31\n",
              "NW     30\n",
              "ESE    29\n",
              "S      27\n",
              "E      22\n",
              "SSW    17\n",
              "WNW    16\n",
              "NNE     8\n",
              "ENE     8\n",
              "W       8\n",
              "SW      7\n",
              "WSW     5\n",
              "NE      4\n",
              "Name: count, dtype: int64"
            ]
          },
          "metadata": {},
          "execution_count": 17
        }
      ]
    },
    {
      "cell_type": "code",
      "source": [
        "dummy=data[data['winddir9am'].isnull()].index.tolist()"
      ],
      "metadata": {
        "id": "pFtlGMUy3aes"
      },
      "execution_count": 18,
      "outputs": []
    },
    {
      "cell_type": "code",
      "source": [
        "count=0\n",
        "for x in dummy:\n",
        "  if (data.loc[x,'windgustspeed']>30):\n",
        "    count=count+1\n",
        "\n",
        "print(count)"
      ],
      "metadata": {
        "colab": {
          "base_uri": "https://localhost:8080/"
        },
        "id": "mGQ4av9Y3l6y",
        "outputId": "07675ed6-e340-4fb7-d475-a8dcddbcef13"
      },
      "execution_count": 19,
      "outputs": [
        {
          "output_type": "stream",
          "name": "stdout",
          "text": [
            "20\n"
          ]
        }
      ]
    },
    {
      "cell_type": "code",
      "source": [
        "comp=data.loc[:,('windgustspeed','winddir9am')]\n",
        "comp.value_counts()"
      ],
      "metadata": {
        "colab": {
          "base_uri": "https://localhost:8080/"
        },
        "id": "Mr_scYqT4WtX",
        "outputId": "718edb48-de0d-4573-92d5-3bddbb0c57c9"
      },
      "execution_count": 20,
      "outputs": [
        {
          "output_type": "execute_result",
          "data": {
            "text/plain": [
              "windgustspeed  winddir9am\n",
              "41.0           SE            7\n",
              "               E             6\n",
              "30.0           SE            6\n",
              "43.0           N             6\n",
              "31.0           S             6\n",
              "                            ..\n",
              "               W             1\n",
              "               NE            1\n",
              "30.0           SSW           1\n",
              "               NW            1\n",
              "98.0           NW            1\n",
              "Name: count, Length: 186, dtype: int64"
            ]
          },
          "metadata": {},
          "execution_count": 20
        }
      ]
    },
    {
      "cell_type": "code",
      "source": [
        "dummy=data[data['winddir9am'].isnull()].index.tolist()\n",
        "for y in dummy:\n",
        "  print(data.loc[y,'winddir3pm'])"
      ],
      "metadata": {
        "colab": {
          "base_uri": "https://localhost:8080/"
        },
        "id": "_dBBl2Tg5dxp",
        "outputId": "3a348194-75e0-4a88-d1ed-4cc63712b222"
      },
      "execution_count": 21,
      "outputs": [
        {
          "output_type": "stream",
          "name": "stdout",
          "text": [
            "W\n",
            "W\n",
            "ENE\n",
            "WNW\n",
            "WSW\n",
            "ESE\n",
            "NW\n",
            "NNW\n",
            "NW\n",
            "NNW\n",
            "WNW\n",
            "NW\n",
            "NW\n",
            "N\n",
            "ENE\n",
            "WNW\n",
            "WNW\n",
            "N\n",
            "NW\n",
            "NW\n",
            "NNW\n",
            "NNW\n",
            "NE\n",
            "NNW\n",
            "WNW\n",
            "SSW\n",
            "WNW\n",
            "ENE\n",
            "WNW\n",
            "NNW\n",
            "WNW\n"
          ]
        }
      ]
    },
    {
      "cell_type": "code",
      "source": [
        "comp=data.loc[:,('windspeed9am','winddir9am')]\n",
        "comp.value_counts()"
      ],
      "metadata": {
        "colab": {
          "base_uri": "https://localhost:8080/"
        },
        "id": "vqBNbiIR_Z-t",
        "outputId": "5b9796bd-1a6b-46b1-f49e-fa8c3f760019"
      },
      "execution_count": 22,
      "outputs": [
        {
          "output_type": "execute_result",
          "data": {
            "text/plain": [
              "windspeed9am  winddir9am\n",
              "7.0           SE            16\n",
              "              SSE            9\n",
              "6.0           SSE            9\n",
              "              SE             9\n",
              "              NNW            9\n",
              "                            ..\n",
              "11.0          SSE            1\n",
              "              NNW            1\n",
              "              NNE            1\n",
              "              E              1\n",
              "41.0          N              1\n",
              "Name: count, Length: 137, dtype: int64"
            ]
          },
          "metadata": {},
          "execution_count": 22
        }
      ]
    },
    {
      "cell_type": "code",
      "source": [
        "for y in dummy :\n",
        "  if(data.loc[y,'windspeed9am'] in range (5,8)):\n",
        "    print(data.loc[y,'winddir3pm'])"
      ],
      "metadata": {
        "id": "Mu7lyl9NAPQc"
      },
      "execution_count": 23,
      "outputs": []
    },
    {
      "cell_type": "code",
      "source": [
        "dummy_list=[]\n",
        "for y in dummy :\n",
        "  dummy_list.append(data.loc[y,'windspeed9am'])\n",
        "print(dummy_list)"
      ],
      "metadata": {
        "colab": {
          "base_uri": "https://localhost:8080/"
        },
        "id": "v8V9J3b9AjSI",
        "outputId": "5ae7df38-9ed3-43dc-eced-3aaf57a69e51"
      },
      "execution_count": 24,
      "outputs": [
        {
          "output_type": "stream",
          "name": "stdout",
          "text": [
            "[nan, nan, nan, 0.0, 0.0, 0.0, 0.0, 0.0, 0.0, nan, 0.0, 0.0, 0.0, 0.0, nan, 0.0, nan, 0.0, 0.0, 0.0, nan, 0.0, 0.0, 0.0, 0.0, 0.0, 0.0, 0.0, 0.0, 0.0, 0.0]\n"
          ]
        }
      ]
    },
    {
      "cell_type": "code",
      "source": [
        "data['windspeed9am'].value_counts()"
      ],
      "metadata": {
        "colab": {
          "base_uri": "https://localhost:8080/"
        },
        "id": "xYSeGL1JA8fV",
        "outputId": "222e477f-ffa8-4c1e-c7bc-00ef74a62006"
      },
      "execution_count": 25,
      "outputs": [
        {
          "output_type": "execute_result",
          "data": {
            "text/plain": [
              "windspeed9am\n",
              "6.0     76\n",
              "7.0     53\n",
              "2.0     36\n",
              "9.0     29\n",
              "4.0     26\n",
              "0.0     24\n",
              "11.0    19\n",
              "13.0    17\n",
              "20.0    14\n",
              "15.0    13\n",
              "19.0     8\n",
              "17.0     8\n",
              "24.0     7\n",
              "31.0     6\n",
              "26.0     6\n",
              "30.0     5\n",
              "28.0     4\n",
              "22.0     4\n",
              "33.0     1\n",
              "41.0     1\n",
              "39.0     1\n",
              "35.0     1\n",
              "Name: count, dtype: int64"
            ]
          },
          "metadata": {},
          "execution_count": 25
        }
      ]
    },
    {
      "cell_type": "code",
      "source": [
        "dummy_index_2=data[data['windspeed9am']==0].index.tolist()\n",
        "for x in dummy_index_2:\n",
        "  print(data.loc[x,'winddir9am'])"
      ],
      "metadata": {
        "colab": {
          "base_uri": "https://localhost:8080/"
        },
        "id": "95wr_BSLBy2V",
        "outputId": "d82823ad-c39d-406d-beae-e0534693bcf6"
      },
      "execution_count": 26,
      "outputs": [
        {
          "output_type": "stream",
          "name": "stdout",
          "text": [
            "nan\n",
            "nan\n",
            "nan\n",
            "nan\n",
            "nan\n",
            "nan\n",
            "nan\n",
            "nan\n",
            "nan\n",
            "nan\n",
            "nan\n",
            "nan\n",
            "nan\n",
            "nan\n",
            "nan\n",
            "nan\n",
            "nan\n",
            "nan\n",
            "nan\n",
            "nan\n",
            "nan\n",
            "nan\n",
            "nan\n",
            "nan\n"
          ]
        }
      ]
    },
    {
      "cell_type": "code",
      "source": [
        "data['winddir9am']=data['winddir9am'].fillna(0)"
      ],
      "metadata": {
        "id": "PHxo8KzoDW9S"
      },
      "execution_count": 27,
      "outputs": []
    },
    {
      "cell_type": "code",
      "source": [
        "data.isnull().sum()"
      ],
      "metadata": {
        "colab": {
          "base_uri": "https://localhost:8080/"
        },
        "id": "M7PU7IaxI3Nt",
        "outputId": "4c3c2495-a303-49fc-d471-356d35d6c753"
      },
      "execution_count": 28,
      "outputs": [
        {
          "output_type": "execute_result",
          "data": {
            "text/plain": [
              "mintemp          0\n",
              "maxtemp          0\n",
              "rainfall         0\n",
              "evaporation      0\n",
              "sunshine         3\n",
              "windgustdir      3\n",
              "windgustspeed    2\n",
              "winddir9am       0\n",
              "winddir3pm       1\n",
              "windspeed9am     7\n",
              "windspeed3pm     0\n",
              "humidity9am      0\n",
              "humidity3pm      0\n",
              "pressure9am      0\n",
              "pressure3pm      0\n",
              "cloud9am         0\n",
              "cloud3pm         0\n",
              "temp9am          0\n",
              "temp3pm          0\n",
              "raintoday        0\n",
              "risk_mm          0\n",
              "raintomorrow     0\n",
              "dtype: int64"
            ]
          },
          "metadata": {},
          "execution_count": 28
        }
      ]
    },
    {
      "cell_type": "code",
      "source": [
        "dummy=data[data['windspeed9am'].isnull()].index.tolist()\n",
        "print(dummy)\n",
        "for k in dummy:\n",
        "  print(data.loc[k,'winddir9am'])"
      ],
      "metadata": {
        "colab": {
          "base_uri": "https://localhost:8080/"
        },
        "id": "elvBqJ3XJUJM",
        "outputId": "e933a646-5eb3-4196-f8d0-8527adfcd273"
      },
      "execution_count": 29,
      "outputs": [
        {
          "output_type": "stream",
          "name": "stdout",
          "text": [
            "[113, 118, 127, 195, 213, 247, 257]\n",
            "0\n",
            "0\n",
            "0\n",
            "0\n",
            "0\n",
            "0\n",
            "0\n"
          ]
        }
      ]
    },
    {
      "cell_type": "code",
      "source": [
        "dummy=data[data['windspeed9am'].isnull()].index.tolist()\n",
        "print(dummy)\n",
        "for k in dummy:\n",
        "  print(data.loc[k,'winddir9am'])"
      ],
      "metadata": {
        "colab": {
          "base_uri": "https://localhost:8080/"
        },
        "id": "O84Pur-TKIKd",
        "outputId": "8f5132f4-e6bb-4cb8-cee0-de78416db7fd"
      },
      "execution_count": 30,
      "outputs": [
        {
          "output_type": "stream",
          "name": "stdout",
          "text": [
            "[113, 118, 127, 195, 213, 247, 257]\n",
            "0\n",
            "0\n",
            "0\n",
            "0\n",
            "0\n",
            "0\n",
            "0\n"
          ]
        }
      ]
    },
    {
      "cell_type": "code",
      "source": [
        "data['windspeed9am']=data['windspeed9am'].fillna(0)"
      ],
      "metadata": {
        "id": "Sq2UIoICKk_I"
      },
      "execution_count": 31,
      "outputs": []
    },
    {
      "cell_type": "code",
      "source": [
        "data.columns"
      ],
      "metadata": {
        "colab": {
          "base_uri": "https://localhost:8080/"
        },
        "id": "X0I7nPO8J72g",
        "outputId": "ddc13e66-82bd-4cef-9cb5-59ceb5dc5936"
      },
      "execution_count": 32,
      "outputs": [
        {
          "output_type": "execute_result",
          "data": {
            "text/plain": [
              "Index(['mintemp', 'maxtemp', 'rainfall', 'evaporation', 'sunshine',\n",
              "       'windgustdir', 'windgustspeed', 'winddir9am', 'winddir3pm',\n",
              "       'windspeed9am', 'windspeed3pm', 'humidity9am', 'humidity3pm',\n",
              "       'pressure9am', 'pressure3pm', 'cloud9am', 'cloud3pm', 'temp9am',\n",
              "       'temp3pm', 'raintoday', 'risk_mm', 'raintomorrow'],\n",
              "      dtype='object')"
            ]
          },
          "metadata": {},
          "execution_count": 32
        }
      ]
    },
    {
      "cell_type": "code",
      "source": [
        "data.isnull().sum()"
      ],
      "metadata": {
        "colab": {
          "base_uri": "https://localhost:8080/"
        },
        "id": "hWwzHGykK1Gb",
        "outputId": "b0989695-98fb-4948-b97d-2cf18f263899"
      },
      "execution_count": 33,
      "outputs": [
        {
          "output_type": "execute_result",
          "data": {
            "text/plain": [
              "mintemp          0\n",
              "maxtemp          0\n",
              "rainfall         0\n",
              "evaporation      0\n",
              "sunshine         3\n",
              "windgustdir      3\n",
              "windgustspeed    2\n",
              "winddir9am       0\n",
              "winddir3pm       1\n",
              "windspeed9am     0\n",
              "windspeed3pm     0\n",
              "humidity9am      0\n",
              "humidity3pm      0\n",
              "pressure9am      0\n",
              "pressure3pm      0\n",
              "cloud9am         0\n",
              "cloud3pm         0\n",
              "temp9am          0\n",
              "temp3pm          0\n",
              "raintoday        0\n",
              "risk_mm          0\n",
              "raintomorrow     0\n",
              "dtype: int64"
            ]
          },
          "metadata": {},
          "execution_count": 33
        }
      ]
    },
    {
      "cell_type": "code",
      "source": [
        "data.shape"
      ],
      "metadata": {
        "colab": {
          "base_uri": "https://localhost:8080/"
        },
        "id": "lyTMrGYB8q8C",
        "outputId": "4951916d-1e20-4ec6-cc51-752fd2e57004"
      },
      "execution_count": 34,
      "outputs": [
        {
          "output_type": "execute_result",
          "data": {
            "text/plain": [
              "(366, 22)"
            ]
          },
          "metadata": {},
          "execution_count": 34
        }
      ]
    },
    {
      "cell_type": "code",
      "source": [
        "data=data.dropna(subset=['winddir3pm'] , axis=0)"
      ],
      "metadata": {
        "id": "Viso4sYJNvag"
      },
      "execution_count": 35,
      "outputs": []
    },
    {
      "cell_type": "code",
      "source": [
        "data.shape"
      ],
      "metadata": {
        "colab": {
          "base_uri": "https://localhost:8080/"
        },
        "id": "H633WgAb8w3t",
        "outputId": "b0149a13-5f46-4213-909f-f367a57aa31e"
      },
      "execution_count": 36,
      "outputs": [
        {
          "output_type": "execute_result",
          "data": {
            "text/plain": [
              "(365, 22)"
            ]
          },
          "metadata": {},
          "execution_count": 36
        }
      ]
    },
    {
      "cell_type": "code",
      "source": [
        "data.reset_index(inplace = True, drop = True)"
      ],
      "metadata": {
        "id": "aEC2-m_o78sk"
      },
      "execution_count": 37,
      "outputs": []
    },
    {
      "cell_type": "code",
      "source": [
        "data.isnull().sum()"
      ],
      "metadata": {
        "colab": {
          "base_uri": "https://localhost:8080/"
        },
        "id": "JKgdMgJjLZt7",
        "outputId": "b6a0dda3-ac5f-43c7-ac8d-ab9cefc88da2"
      },
      "execution_count": 38,
      "outputs": [
        {
          "output_type": "execute_result",
          "data": {
            "text/plain": [
              "mintemp          0\n",
              "maxtemp          0\n",
              "rainfall         0\n",
              "evaporation      0\n",
              "sunshine         3\n",
              "windgustdir      3\n",
              "windgustspeed    2\n",
              "winddir9am       0\n",
              "winddir3pm       0\n",
              "windspeed9am     0\n",
              "windspeed3pm     0\n",
              "humidity9am      0\n",
              "humidity3pm      0\n",
              "pressure9am      0\n",
              "pressure3pm      0\n",
              "cloud9am         0\n",
              "cloud3pm         0\n",
              "temp9am          0\n",
              "temp3pm          0\n",
              "raintoday        0\n",
              "risk_mm          0\n",
              "raintomorrow     0\n",
              "dtype: int64"
            ]
          },
          "metadata": {},
          "execution_count": 38
        }
      ]
    },
    {
      "cell_type": "code",
      "source": [
        "data=data.dropna(subset=['sunshine'] , axis=0)\n",
        "data.shape"
      ],
      "metadata": {
        "colab": {
          "base_uri": "https://localhost:8080/"
        },
        "id": "eol0yHw_OeXh",
        "outputId": "83f7cde9-f164-4cb7-c669-cd77e5ad16fe"
      },
      "execution_count": 39,
      "outputs": [
        {
          "output_type": "execute_result",
          "data": {
            "text/plain": [
              "(362, 22)"
            ]
          },
          "metadata": {},
          "execution_count": 39
        }
      ]
    },
    {
      "cell_type": "code",
      "source": [
        "data=data.dropna(subset=['windgustdir'] , axis=0)\n",
        "data=data.dropna(subset=['windgustspeed'] , axis=0)\n",
        "data=data.dropna(subset=['windspeed9am'] , axis=0)\n",
        "data.shape"
      ],
      "metadata": {
        "colab": {
          "base_uri": "https://localhost:8080/"
        },
        "id": "DW1xNHZQOqJM",
        "outputId": "d6a2f18d-d5b9-43a8-b68f-7d5680d0423d"
      },
      "execution_count": 40,
      "outputs": [
        {
          "output_type": "execute_result",
          "data": {
            "text/plain": [
              "(359, 22)"
            ]
          },
          "metadata": {},
          "execution_count": 40
        }
      ]
    },
    {
      "cell_type": "code",
      "source": [
        "data.isnull().sum()"
      ],
      "metadata": {
        "colab": {
          "base_uri": "https://localhost:8080/"
        },
        "id": "qS6hAivV-8tO",
        "outputId": "c53fcc45-efea-4128-84b5-815a3954c977"
      },
      "execution_count": 41,
      "outputs": [
        {
          "output_type": "execute_result",
          "data": {
            "text/plain": [
              "mintemp          0\n",
              "maxtemp          0\n",
              "rainfall         0\n",
              "evaporation      0\n",
              "sunshine         0\n",
              "windgustdir      0\n",
              "windgustspeed    0\n",
              "winddir9am       0\n",
              "winddir3pm       0\n",
              "windspeed9am     0\n",
              "windspeed3pm     0\n",
              "humidity9am      0\n",
              "humidity3pm      0\n",
              "pressure9am      0\n",
              "pressure3pm      0\n",
              "cloud9am         0\n",
              "cloud3pm         0\n",
              "temp9am          0\n",
              "temp3pm          0\n",
              "raintoday        0\n",
              "risk_mm          0\n",
              "raintomorrow     0\n",
              "dtype: int64"
            ]
          },
          "metadata": {},
          "execution_count": 41
        }
      ]
    },
    {
      "cell_type": "code",
      "source": [
        "data.reset_index(inplace = True, drop = True)"
      ],
      "metadata": {
        "id": "q4adlwPW72AJ"
      },
      "execution_count": 42,
      "outputs": []
    },
    {
      "cell_type": "code",
      "source": [
        "data.shape"
      ],
      "metadata": {
        "colab": {
          "base_uri": "https://localhost:8080/"
        },
        "id": "a4mS1xfXOvLi",
        "outputId": "0dc31cc1-bf2c-4ecb-f6c5-39c726d8b2f4"
      },
      "execution_count": 43,
      "outputs": [
        {
          "output_type": "execute_result",
          "data": {
            "text/plain": [
              "(359, 22)"
            ]
          },
          "metadata": {},
          "execution_count": 43
        }
      ]
    },
    {
      "cell_type": "code",
      "source": [
        "numeric_cols=data.select_dtypes(include='number')\n",
        "cate_cols=data.select_dtypes(include='object')"
      ],
      "metadata": {
        "id": "6Tckds7kACwe"
      },
      "execution_count": 44,
      "outputs": []
    },
    {
      "cell_type": "code",
      "source": [
        "data.isnull().sum()"
      ],
      "metadata": {
        "colab": {
          "base_uri": "https://localhost:8080/"
        },
        "id": "N_yeV5psOzDs",
        "outputId": "2f9a01cf-5772-4471-bc08-838520fe2865"
      },
      "execution_count": 45,
      "outputs": [
        {
          "output_type": "execute_result",
          "data": {
            "text/plain": [
              "mintemp          0\n",
              "maxtemp          0\n",
              "rainfall         0\n",
              "evaporation      0\n",
              "sunshine         0\n",
              "windgustdir      0\n",
              "windgustspeed    0\n",
              "winddir9am       0\n",
              "winddir3pm       0\n",
              "windspeed9am     0\n",
              "windspeed3pm     0\n",
              "humidity9am      0\n",
              "humidity3pm      0\n",
              "pressure9am      0\n",
              "pressure3pm      0\n",
              "cloud9am         0\n",
              "cloud3pm         0\n",
              "temp9am          0\n",
              "temp3pm          0\n",
              "raintoday        0\n",
              "risk_mm          0\n",
              "raintomorrow     0\n",
              "dtype: int64"
            ]
          },
          "metadata": {},
          "execution_count": 45
        }
      ]
    },
    {
      "cell_type": "markdown",
      "source": [
        "#  visualization and capping the outliers"
      ],
      "metadata": {
        "id": "__X7-fy_O6Ab"
      }
    },
    {
      "cell_type": "code",
      "source": [
        "numeric_cols=data.select_dtypes(include='number')"
      ],
      "metadata": {
        "id": "t3BUeg8NO3tM"
      },
      "execution_count": 46,
      "outputs": []
    },
    {
      "cell_type": "code",
      "source": [
        "cate_cols=data.select_dtypes(include='object')"
      ],
      "metadata": {
        "id": "vIst5FcdoQpE"
      },
      "execution_count": 47,
      "outputs": []
    },
    {
      "cell_type": "code",
      "source": [
        "numeric_cols.columns\n"
      ],
      "metadata": {
        "colab": {
          "base_uri": "https://localhost:8080/"
        },
        "id": "vQWUN08gPCTq",
        "outputId": "afa802dd-bc0c-48e2-f227-d74ca454f857"
      },
      "execution_count": 48,
      "outputs": [
        {
          "output_type": "execute_result",
          "data": {
            "text/plain": [
              "Index(['mintemp', 'maxtemp', 'rainfall', 'evaporation', 'sunshine',\n",
              "       'windgustspeed', 'windspeed9am', 'windspeed3pm', 'humidity9am',\n",
              "       'humidity3pm', 'pressure9am', 'pressure3pm', 'cloud9am', 'cloud3pm',\n",
              "       'temp9am', 'temp3pm', 'risk_mm'],\n",
              "      dtype='object')"
            ]
          },
          "metadata": {},
          "execution_count": 48
        }
      ]
    },
    {
      "cell_type": "code",
      "source": [
        "numeric_cols.isnull().sum()"
      ],
      "metadata": {
        "colab": {
          "base_uri": "https://localhost:8080/"
        },
        "id": "a6fK4LbFk_a3",
        "outputId": "b31452a1-e9b0-4f27-e7c1-c9e76ffd27a6"
      },
      "execution_count": 49,
      "outputs": [
        {
          "output_type": "execute_result",
          "data": {
            "text/plain": [
              "mintemp          0\n",
              "maxtemp          0\n",
              "rainfall         0\n",
              "evaporation      0\n",
              "sunshine         0\n",
              "windgustspeed    0\n",
              "windspeed9am     0\n",
              "windspeed3pm     0\n",
              "humidity9am      0\n",
              "humidity3pm      0\n",
              "pressure9am      0\n",
              "pressure3pm      0\n",
              "cloud9am         0\n",
              "cloud3pm         0\n",
              "temp9am          0\n",
              "temp3pm          0\n",
              "risk_mm          0\n",
              "dtype: int64"
            ]
          },
          "metadata": {},
          "execution_count": 49
        }
      ]
    },
    {
      "cell_type": "code",
      "source": [
        "import matplotlib.pyplot as plt\n",
        "for column in numeric_cols.columns:\n",
        "\n",
        "  fig = plt.figure(figsize =(10, 7))\n",
        "  plt.boxplot(data[column])\n",
        "  plt.title(column)\n",
        "  plt.show()"
      ],
      "metadata": {
        "colab": {
          "base_uri": "https://localhost:8080/",
          "height": 0
        },
        "id": "tS326geEnSVj",
        "outputId": "94e6598a-2426-4c17-aea1-027607b619bd"
      },
      "execution_count": 50,
      "outputs": [
        {
          "output_type": "display_data",
          "data": {
            "text/plain": [
              "<Figure size 1000x700 with 1 Axes>"
            ],
            "image/png": "[encoded data removed]"
          },
          "metadata": {}
        },
        {
          "output_type": "display_data",
          "data": {
            "text/plain": [
              "<Figure size 1000x700 with 1 Axes>"
            ],
            "image/png": "[encoded data removed]"
          },
          "metadata": {}
        },
        {
          "output_type": "display_data",
          "data": {
            "text/plain": [
              "<Figure size 1000x700 with 1 Axes>"
            ],
            "image/png": "[encoded data removed]"
          },
          "metadata": {}
        },
        {
          "output_type": "display_data",
          "data": {
            "text/plain": [
              "<Figure size 1000x700 with 1 Axes>"
            ],
            "image/png": "[encoded data removed]"
          },
          "metadata": {}
        },
        {
          "output_type": "display_data",
          "data": {
            "text/plain": [
              "<Figure size 1000x700 with 1 Axes>"
            ],
            "image/png": "[encoded data removed]"
          },
          "metadata": {}
        },
        {
          "output_type": "display_data",
          "data": {
            "text/plain": [
              "<Figure size 1000x700 with 1 Axes>"
            ],
            "image/png": "[encoded data removed]"
          },
          "metadata": {}
        },
        {
          "output_type": "display_data",
          "data": {
            "text/plain": [
              "<Figure size 1000x700 with 1 Axes>"
            ],
            "image/png": "[encoded data removed]"
          },
          "metadata": {}
        },
        {
          "output_type": "display_data",
          "data": {
            "text/plain": [
              "<Figure size 1000x700 with 1 Axes>"
            ],
            "image/png": "[encoded data removed]"
          },
          "metadata": {}
        },
        {
          "output_type": "display_data",
          "data": {
            "text/plain": [
              "<Figure size 1000x700 with 1 Axes>"
            ],
            "image/png": "[encoded data removed]"
          },
          "metadata": {}
        },
        {
          "output_type": "display_data",
          "data": {
            "text/plain": [
              "<Figure size 1000x700 with 1 Axes>"
            ],
            "image/png": "[encoded data removed]"
          },
          "metadata": {}
        },
        {
          "output_type": "display_data",
          "data": {
            "text/plain": [
              "<Figure size 1000x700 with 1 Axes>"
            ],
            "image/png": "[encoded data removed]"
          },
          "metadata": {}
        },
        {
          "output_type": "display_data",
          "data": {
            "text/plain": [
              "<Figure size 1000x700 with 1 Axes>"
            ],
            "image/png": "[encoded data removed]"
          },
          "metadata": {}
        },
        {
          "output_type": "display_data",
          "data": {
            "text/plain": [
              "<Figure size 1000x700 with 1 Axes>"
            ],
            "image/png": "[encoded data removed]"
          },
          "metadata": {}
        },
        {
          "output_type": "display_data",
          "data": {
            "text/plain": [
              "<Figure size 1000x700 with 1 Axes>"
            ],
            "image/png": "[encoded data removed]"
          },
          "metadata": {}
        },
        {
          "output_type": "display_data",
          "data": {
            "text/plain": [
              "<Figure size 1000x700 with 1 Axes>"
            ],
            "image/png": "[encoded data removed]"
          },
          "metadata": {}
        },
        {
          "output_type": "display_data",
          "data": {
            "text/plain": [
              "<Figure size 1000x700 with 1 Axes>"
            ],
            "image/png": "[encoded data removed]"
          },
          "metadata": {}
        },
        {
          "output_type": "display_data",
          "data": {
            "text/plain": [
              "<Figure size 1000x700 with 1 Axes>"
            ],
            "image/png": "[encoded data removed]"
          },
          "metadata": {}
        }
      ]
    },
    {
      "cell_type": "code",
      "source": [
        "Q1 = data['windspeed9am'].quantile(0.25)\n",
        "Q3 = data['windspeed9am'].quantile(0.75)\n",
        "IQR = Q3 - Q1\n",
        "lower = Q1 - 1.5*IQR\n",
        "upper = Q3 + 1.5*IQR\n",
        "data['windspeed9am']=np.where(data['windspeed9am'] > upper , upper , data['windspeed9am'])\n",
        "\n"
      ],
      "metadata": {
        "id": "U8GV-Rx8nc05"
      },
      "execution_count": 51,
      "outputs": []
    },
    {
      "cell_type": "code",
      "source": [
        "sns.boxplot(data['windspeed9am'])"
      ],
      "metadata": {
        "colab": {
          "base_uri": "https://localhost:8080/",
          "height": 0
        },
        "id": "w2FyQ0UNrfrR",
        "outputId": "e9869102-4e86-4d87-b7a0-6478eed6d354"
      },
      "execution_count": 52,
      "outputs": [
        {
          "output_type": "execute_result",
          "data": {
            "text/plain": [
              "<Axes: ylabel='windspeed9am'>"
            ]
          },
          "metadata": {},
          "execution_count": 52
        },
        {
          "output_type": "display_data",
          "data": {
            "text/plain": [
              "<Figure size 640x480 with 1 Axes>"
            ],
            "image/png": "[encoded data removed]"
          },
          "metadata": {}
        }
      ]
    },
    {
      "cell_type": "code",
      "source": [
        "Q1 = data['windgustspeed'].quantile(0.25)\n",
        "Q3 = data['windgustspeed'].quantile(0.75)\n",
        "IQR = Q3 - Q1\n",
        "lower = Q1 - 1.5*IQR\n",
        "upper = Q3 + 1.5*IQR\n",
        "data['windgustspeed']=np.where(data['windgustspeed'] > upper , upper , data['windgustspeed'])"
      ],
      "metadata": {
        "id": "8S2Ylvu2thqT"
      },
      "execution_count": 53,
      "outputs": []
    },
    {
      "cell_type": "code",
      "source": [
        "sns.boxplot(data['windgustspeed'])"
      ],
      "metadata": {
        "colab": {
          "base_uri": "https://localhost:8080/",
          "height": 0
        },
        "id": "N-Q8F8BmtrRY",
        "outputId": "e007b7a9-5817-4ad7-ba59-4344ad9eb1e3"
      },
      "execution_count": 54,
      "outputs": [
        {
          "output_type": "execute_result",
          "data": {
            "text/plain": [
              "<Axes: ylabel='windgustspeed'>"
            ]
          },
          "metadata": {},
          "execution_count": 54
        },
        {
          "output_type": "display_data",
          "data": {
            "text/plain": [
              "<Figure size 640x480 with 1 Axes>"
            ],
            "image/png": "[encoded data removed]"
          },
          "metadata": {}
        }
      ]
    },
    {
      "cell_type": "code",
      "source": [
        "Q1 = data['windspeed3pm'].quantile(0.25)\n",
        "Q3 = data['windspeed3pm'].quantile(0.75)\n",
        "IQR = Q3 - Q1\n",
        "lower = Q1 - 1.5*IQR\n",
        "upper = Q3 + 1.5*IQR\n",
        "data['windspeed3pm']=np.where(data['windspeed3pm'] > upper , upper , data['windspeed3pm'])\n",
        "\n"
      ],
      "metadata": {
        "id": "twKsLK2XvnKv"
      },
      "execution_count": 55,
      "outputs": []
    },
    {
      "cell_type": "code",
      "source": [
        "sns.boxplot(data['windspeed3pm'])"
      ],
      "metadata": {
        "colab": {
          "base_uri": "https://localhost:8080/",
          "height": 0
        },
        "id": "vFEj0kIuvtkM",
        "outputId": "f1cec94f-7a1f-474f-f1b5-10491d261977"
      },
      "execution_count": 56,
      "outputs": [
        {
          "output_type": "execute_result",
          "data": {
            "text/plain": [
              "<Axes: ylabel='windspeed3pm'>"
            ]
          },
          "metadata": {},
          "execution_count": 56
        },
        {
          "output_type": "display_data",
          "data": {
            "text/plain": [
              "<Figure size 640x480 with 1 Axes>"
            ],
            "image/png": "[encoded data removed]"
          },
          "metadata": {}
        }
      ]
    },
    {
      "cell_type": "code",
      "source": [
        "Q1 = data['humidity9am'].quantile(0.25)\n",
        "Q3 = data['humidity9am'].quantile(0.75)\n",
        "IQR = Q3 - Q1\n",
        "lower = Q1 - 1.5*IQR\n",
        "upper = Q3 + 1.5*IQR\n",
        "data['humidity9am']=np.where(data['humidity9am'] <lower  , lower , data['humidity9am'])\n",
        "\n"
      ],
      "metadata": {
        "id": "poTBoj_Vvv_J"
      },
      "execution_count": 57,
      "outputs": []
    },
    {
      "cell_type": "code",
      "source": [
        "sns.boxplot(data['humidity9am'])"
      ],
      "metadata": {
        "colab": {
          "base_uri": "https://localhost:8080/",
          "height": 0
        },
        "id": "CMEtt4BXv4CW",
        "outputId": "db6fb6ad-e3a8-4a88-c5e5-4dc7855d2cc4"
      },
      "execution_count": 58,
      "outputs": [
        {
          "output_type": "execute_result",
          "data": {
            "text/plain": [
              "<Axes: ylabel='humidity9am'>"
            ]
          },
          "metadata": {},
          "execution_count": 58
        },
        {
          "output_type": "display_data",
          "data": {
            "text/plain": [
              "<Figure size 640x480 with 1 Axes>"
            ],
            "image/png": "[encoded data removed]"
          },
          "metadata": {}
        }
      ]
    },
    {
      "cell_type": "code",
      "source": [
        "Q1 = data['pressure3pm'].quantile(0.25)\n",
        "Q3 = data['pressure3pm'].quantile(0.75)\n",
        "IQR = Q3 - Q1\n",
        "lower = Q1 - 1.5*IQR\n",
        "upper = Q3 + 1.5*IQR\n",
        "data['pressure3pm']=np.where(data['pressure3pm'] <lower , lower , data['pressure3pm'])\n",
        "\n"
      ],
      "metadata": {
        "id": "tGIKXho4wEen"
      },
      "execution_count": 59,
      "outputs": []
    },
    {
      "cell_type": "code",
      "source": [
        "sns.boxplot(data['pressure3pm'])"
      ],
      "metadata": {
        "colab": {
          "base_uri": "https://localhost:8080/",
          "height": 0
        },
        "id": "OiDnJC4iwaOP",
        "outputId": "0a286cf5-629f-4dbf-91de-184908f324a0"
      },
      "execution_count": 60,
      "outputs": [
        {
          "output_type": "execute_result",
          "data": {
            "text/plain": [
              "<Axes: ylabel='pressure3pm'>"
            ]
          },
          "metadata": {},
          "execution_count": 60
        },
        {
          "output_type": "display_data",
          "data": {
            "text/plain": [
              "<Figure size 640x480 with 1 Axes>"
            ],
            "image/png": "[encoded data removed]"
          },
          "metadata": {}
        }
      ]
    },
    {
      "cell_type": "code",
      "source": [
        "Q1 = data['pressure9am'].quantile(0.25)\n",
        "Q3 = data['pressure9am'].quantile(0.75)\n",
        "IQR = Q3 - Q1\n",
        "lower = Q1 - 1.5*IQR\n",
        "upper = Q3 + 1.5*IQR\n",
        "data['pressure9am']=np.where(data['pressure9am'] <lower , lower , data['pressure9am'])\n"
      ],
      "metadata": {
        "id": "sE0AGRzFPcYr"
      },
      "execution_count": 61,
      "outputs": []
    },
    {
      "cell_type": "code",
      "source": [
        "sns.boxplot(data['pressure9am'])"
      ],
      "metadata": {
        "colab": {
          "base_uri": "https://localhost:8080/",
          "height": 0
        },
        "id": "Txx7faaCPjdZ",
        "outputId": "274da555-984b-41fd-80e0-a5ef32ad13c7"
      },
      "execution_count": 62,
      "outputs": [
        {
          "output_type": "execute_result",
          "data": {
            "text/plain": [
              "<Axes: ylabel='pressure9am'>"
            ]
          },
          "metadata": {},
          "execution_count": 62
        },
        {
          "output_type": "display_data",
          "data": {
            "text/plain": [
              "<Figure size 640x480 with 1 Axes>"
            ],
            "image/png": "[encoded data removed]"
          },
          "metadata": {}
        }
      ]
    },
    {
      "cell_type": "code",
      "source": [
        "Q1 = data['evaporation'].quantile(0.25)\n",
        "Q3 = data['evaporation'].quantile(0.75)\n",
        "IQR = Q3 - Q1\n",
        "lower = Q1 - 1.5*IQR\n",
        "upper = Q3 + 1.5*IQR\n",
        "data['evaporation']=np.where(data['evaporation'] >upper, upper , data['evaporation'])\n"
      ],
      "metadata": {
        "id": "A6BJSdXlP13F"
      },
      "execution_count": 63,
      "outputs": []
    },
    {
      "cell_type": "code",
      "source": [
        "sns.boxplot(data['evaporation'])"
      ],
      "metadata": {
        "colab": {
          "base_uri": "https://localhost:8080/",
          "height": 0
        },
        "id": "YNr2wIj6P-aW",
        "outputId": "e6203a80-7cac-4efc-92dc-96b63ead5d6c"
      },
      "execution_count": 64,
      "outputs": [
        {
          "output_type": "execute_result",
          "data": {
            "text/plain": [
              "<Axes: ylabel='evaporation'>"
            ]
          },
          "metadata": {},
          "execution_count": 64
        },
        {
          "output_type": "display_data",
          "data": {
            "text/plain": [
              "<Figure size 640x480 with 1 Axes>"
            ],
            "image/png": "[encoded data removed]"
          },
          "metadata": {}
        }
      ]
    },
    {
      "cell_type": "code",
      "source": [
        "numeric_cols=data.select_dtypes(include='number')\n",
        "cate_cols=data.select_dtypes(include='object')"
      ],
      "metadata": {
        "id": "fegqbcnO4g6O"
      },
      "execution_count": 65,
      "outputs": []
    },
    {
      "cell_type": "markdown",
      "source": [
        "# converting categorical variables"
      ],
      "metadata": {
        "id": "EKUXEjAz0h01"
      }
    },
    {
      "cell_type": "code",
      "source": [
        "data['windgustdir'].unique()"
      ],
      "metadata": {
        "colab": {
          "base_uri": "https://localhost:8080/"
        },
        "id": "M3hMufI20rE0",
        "outputId": "ad1b4be2-ea24-4b4d-82df-306a4ea6b844"
      },
      "execution_count": 66,
      "outputs": [
        {
          "output_type": "execute_result",
          "data": {
            "text/plain": [
              "array(['NW', 'ENE', 'SSE', 'SE', 'E', 'S', 'N', 'WNW', 'ESE', 'NE', 'NNE',\n",
              "       'NNW', 'SW', 'W', 'WSW', 'SSW'], dtype=object)"
            ]
          },
          "metadata": {},
          "execution_count": 66
        }
      ]
    },
    {
      "cell_type": "code",
      "source": [
        "data['windgustdir']=data['windgustdir'].map({'NW':1, 'ENE':2, 'SSE':3, 'SE':4, 'E':5, 'S':6, 'N':7, 'WNW':8, 'ESE':9, 'NE':10, 'NNE':11,\n",
        "       'NNW':12, 'SW':13, 'W':14, 'WSW':15, 'SSW':16})"
      ],
      "metadata": {
        "id": "9yE-jO7Q040F"
      },
      "execution_count": 67,
      "outputs": []
    },
    {
      "cell_type": "code",
      "source": [
        "data['windgustdir'].unique()"
      ],
      "metadata": {
        "colab": {
          "base_uri": "https://localhost:8080/"
        },
        "id": "UeeP2aud1RTD",
        "outputId": "e05a5d69-ee6e-47ef-9e40-9184fa0f4558"
      },
      "execution_count": 68,
      "outputs": [
        {
          "output_type": "execute_result",
          "data": {
            "text/plain": [
              "array([ 1,  2,  3,  4,  5,  6,  7,  8,  9, 10, 11, 12, 13, 14, 15, 16])"
            ]
          },
          "metadata": {},
          "execution_count": 68
        }
      ]
    },
    {
      "cell_type": "code",
      "source": [
        "data['winddir9am']=data['winddir9am'].map({'SW':1, 'E':2, 'N':3, 'WNW':4, 'SSE':5, 'SE':6, 'S':7, 'WSW':8, 'NNE':9, 'NNW':10,\n",
        "       'ENE':11, 'SSW':12, 'NW':13, 'ESE':14, 'NE':15, 'W':16,0:0})"
      ],
      "metadata": {
        "id": "-GI3LHjQFEiH"
      },
      "execution_count": 69,
      "outputs": []
    },
    {
      "cell_type": "code",
      "source": [
        "data['winddir3pm'].unique()"
      ],
      "metadata": {
        "colab": {
          "base_uri": "https://localhost:8080/"
        },
        "id": "kk9HPNbk1Tk3",
        "outputId": "fcaa018e-3ee4-4b52-dbcd-954f93f2d33e"
      },
      "execution_count": 70,
      "outputs": [
        {
          "output_type": "execute_result",
          "data": {
            "text/plain": [
              "array(['NW', 'W', 'NNE', 'ESE', 'E', 'ENE', 'WSW', 'NE', 'NNW', 'SE', 'S',\n",
              "       'SW', 'WNW', 'N', 'SSW', 'SSE'], dtype=object)"
            ]
          },
          "metadata": {},
          "execution_count": 70
        }
      ]
    },
    {
      "cell_type": "code",
      "source": [
        "data['winddir3pm']=data['winddir3pm'].map({'NW':1, 'ENE':2, 'SSE':3, 'SE':4, 'E':5, 'S':6, 'N':7, 'WNW':8, 'ESE':9, 'NE':10, 'NNE':11,\n",
        "       'NNW':12, 'SW':13, 'W':14, 'WSW':15, 'SSW':16})"
      ],
      "metadata": {
        "id": "ddEAqxXv1dyy"
      },
      "execution_count": 71,
      "outputs": []
    },
    {
      "cell_type": "code",
      "source": [
        "data['winddir3pm'].unique()"
      ],
      "metadata": {
        "colab": {
          "base_uri": "https://localhost:8080/"
        },
        "id": "31BTspJu1kpj",
        "outputId": "48d4680e-344f-479a-8d80-198080647e71"
      },
      "execution_count": 72,
      "outputs": [
        {
          "output_type": "execute_result",
          "data": {
            "text/plain": [
              "array([ 1, 14, 11,  9,  5,  2, 15, 10, 12,  4,  6, 13,  8,  7, 16,  3])"
            ]
          },
          "metadata": {},
          "execution_count": 72
        }
      ]
    },
    {
      "cell_type": "code",
      "source": [
        "data['raintoday'].unique()"
      ],
      "metadata": {
        "colab": {
          "base_uri": "https://localhost:8080/"
        },
        "id": "qbWPATAF1nSN",
        "outputId": "b1f0c675-953d-43ad-fdf5-bb1ed99332e0"
      },
      "execution_count": 73,
      "outputs": [
        {
          "output_type": "execute_result",
          "data": {
            "text/plain": [
              "array(['No', 'Yes'], dtype=object)"
            ]
          },
          "metadata": {},
          "execution_count": 73
        }
      ]
    },
    {
      "cell_type": "code",
      "source": [
        "data['raintoday']=data['raintoday'].map({'No':0, 'Yes':1})\n",
        "data['raintoday'].unique()"
      ],
      "metadata": {
        "colab": {
          "base_uri": "https://localhost:8080/"
        },
        "id": "Pn_LodyX1wPt",
        "outputId": "e5049de7-3767-4a1b-e097-aeb3787b5976"
      },
      "execution_count": 74,
      "outputs": [
        {
          "output_type": "execute_result",
          "data": {
            "text/plain": [
              "array([0, 1])"
            ]
          },
          "metadata": {},
          "execution_count": 74
        }
      ]
    },
    {
      "cell_type": "code",
      "source": [
        "data['raintomorrow'].unique()"
      ],
      "metadata": {
        "colab": {
          "base_uri": "https://localhost:8080/"
        },
        "id": "9jcvvhYh1-YZ",
        "outputId": "dae22b84-539b-4840-8d3b-c3f9a70bac54"
      },
      "execution_count": 75,
      "outputs": [
        {
          "output_type": "execute_result",
          "data": {
            "text/plain": [
              "array(['Yes', 'No'], dtype=object)"
            ]
          },
          "metadata": {},
          "execution_count": 75
        }
      ]
    },
    {
      "cell_type": "code",
      "source": [
        "data['raintomorrow']=data['raintomorrow'].map({'No':0, 'Yes':1})\n",
        "data['raintomorrow'].unique()"
      ],
      "metadata": {
        "colab": {
          "base_uri": "https://localhost:8080/"
        },
        "id": "hiljbfw72CY1",
        "outputId": "ef4a085a-df20-41af-83d3-49b7b1f78f4a"
      },
      "execution_count": 76,
      "outputs": [
        {
          "output_type": "execute_result",
          "data": {
            "text/plain": [
              "array([1, 0])"
            ]
          },
          "metadata": {},
          "execution_count": 76
        }
      ]
    },
    {
      "cell_type": "code",
      "source": [
        "data.isnull().sum()"
      ],
      "metadata": {
        "colab": {
          "base_uri": "https://localhost:8080/"
        },
        "id": "JmgqNayCE3f_",
        "outputId": "486cccc8-5b07-475f-cf9d-2171938b176c"
      },
      "execution_count": 77,
      "outputs": [
        {
          "output_type": "execute_result",
          "data": {
            "text/plain": [
              "mintemp          0\n",
              "maxtemp          0\n",
              "rainfall         0\n",
              "evaporation      0\n",
              "sunshine         0\n",
              "windgustdir      0\n",
              "windgustspeed    0\n",
              "winddir9am       0\n",
              "winddir3pm       0\n",
              "windspeed9am     0\n",
              "windspeed3pm     0\n",
              "humidity9am      0\n",
              "humidity3pm      0\n",
              "pressure9am      0\n",
              "pressure3pm      0\n",
              "cloud9am         0\n",
              "cloud3pm         0\n",
              "temp9am          0\n",
              "temp3pm          0\n",
              "raintoday        0\n",
              "risk_mm          0\n",
              "raintomorrow     0\n",
              "dtype: int64"
            ]
          },
          "metadata": {},
          "execution_count": 77
        }
      ]
    },
    {
      "cell_type": "markdown",
      "source": [
        "# raw model_1"
      ],
      "metadata": {
        "id": "GrsEfJ_3hRFg"
      }
    },
    {
      "cell_type": "code",
      "source": [
        "data.shape"
      ],
      "metadata": {
        "colab": {
          "base_uri": "https://localhost:8080/"
        },
        "id": "VkpVDvxgr8XM",
        "outputId": "53ed1a78-5f72-4aa6-c447-68d52b14165a"
      },
      "execution_count": 78,
      "outputs": [
        {
          "output_type": "execute_result",
          "data": {
            "text/plain": [
              "(359, 22)"
            ]
          },
          "metadata": {},
          "execution_count": 78
        }
      ]
    },
    {
      "cell_type": "code",
      "source": [
        "data.isnull().sum()"
      ],
      "metadata": {
        "colab": {
          "base_uri": "https://localhost:8080/"
        },
        "id": "VIlWlN0Lr_RF",
        "outputId": "9859d7d1-5ffe-4890-e242-381aa160c7eb"
      },
      "execution_count": 79,
      "outputs": [
        {
          "output_type": "execute_result",
          "data": {
            "text/plain": [
              "mintemp          0\n",
              "maxtemp          0\n",
              "rainfall         0\n",
              "evaporation      0\n",
              "sunshine         0\n",
              "windgustdir      0\n",
              "windgustspeed    0\n",
              "winddir9am       0\n",
              "winddir3pm       0\n",
              "windspeed9am     0\n",
              "windspeed3pm     0\n",
              "humidity9am      0\n",
              "humidity3pm      0\n",
              "pressure9am      0\n",
              "pressure3pm      0\n",
              "cloud9am         0\n",
              "cloud3pm         0\n",
              "temp9am          0\n",
              "temp3pm          0\n",
              "raintoday        0\n",
              "risk_mm          0\n",
              "raintomorrow     0\n",
              "dtype: int64"
            ]
          },
          "metadata": {},
          "execution_count": 79
        }
      ]
    },
    {
      "cell_type": "code",
      "source": [
        "all_num=data[numeric_cols.columns]"
      ],
      "metadata": {
        "id": "RkDmje01Gjob"
      },
      "execution_count": 80,
      "outputs": []
    },
    {
      "cell_type": "code",
      "source": [
        "all_num.isnull().sum()"
      ],
      "metadata": {
        "colab": {
          "base_uri": "https://localhost:8080/"
        },
        "id": "0TcwjJIrmLPO",
        "outputId": "1f0d9219-bb15-43c4-e7cd-de8ee7d3d343"
      },
      "execution_count": 81,
      "outputs": [
        {
          "output_type": "execute_result",
          "data": {
            "text/plain": [
              "mintemp          0\n",
              "maxtemp          0\n",
              "rainfall         0\n",
              "evaporation      0\n",
              "sunshine         0\n",
              "windgustspeed    0\n",
              "windspeed9am     0\n",
              "windspeed3pm     0\n",
              "humidity9am      0\n",
              "humidity3pm      0\n",
              "pressure9am      0\n",
              "pressure3pm      0\n",
              "cloud9am         0\n",
              "cloud3pm         0\n",
              "temp9am          0\n",
              "temp3pm          0\n",
              "risk_mm          0\n",
              "dtype: int64"
            ]
          },
          "metadata": {},
          "execution_count": 81
        }
      ]
    },
    {
      "cell_type": "code",
      "source": [
        "all_num.shape"
      ],
      "metadata": {
        "colab": {
          "base_uri": "https://localhost:8080/"
        },
        "id": "0xZP1TNXIJZM",
        "outputId": "750a6070-8fd4-48c3-85dc-e1b834570ff5"
      },
      "execution_count": 82,
      "outputs": [
        {
          "output_type": "execute_result",
          "data": {
            "text/plain": [
              "(359, 17)"
            ]
          },
          "metadata": {},
          "execution_count": 82
        }
      ]
    },
    {
      "cell_type": "code",
      "source": [
        "all_object=data[cate_cols.columns]\n",
        "cate_cols.shape"
      ],
      "metadata": {
        "colab": {
          "base_uri": "https://localhost:8080/"
        },
        "id": "po2vFKNdIO1L",
        "outputId": "f91555fc-d880-472c-aae2-9567cde0eadf"
      },
      "execution_count": 83,
      "outputs": [
        {
          "output_type": "execute_result",
          "data": {
            "text/plain": [
              "(359, 5)"
            ]
          },
          "metadata": {},
          "execution_count": 83
        }
      ]
    },
    {
      "cell_type": "code",
      "source": [
        "from sklearn.preprocessing import StandardScaler\n",
        "scaler=StandardScaler()\n",
        "normalized_data_all=scaler.fit_transform(all_num)"
      ],
      "metadata": {
        "id": "Mk6QjBGVmf6p"
      },
      "execution_count": 84,
      "outputs": []
    },
    {
      "cell_type": "code",
      "source": [
        "\n",
        "norm_data_all=pd.DataFrame(data=normalized_data_all,columns=all_num.columns)\n",
        "norm_data_all.head()"
      ],
      "metadata": {
        "colab": {
          "base_uri": "https://localhost:8080/",
          "height": 0
        },
        "id": "NoTTkCDJhT6u",
        "outputId": "33ceb8b2-1751-41f2-ed41-255e754ddcff"
      },
      "execution_count": 85,
      "outputs": [
        {
          "output_type": "execute_result",
          "data": {
            "text/plain": [
              "    mintemp   maxtemp  rainfall  evaporation  sunshine  windgustspeed  \\\n",
              "0  0.114491  0.547106 -0.333511    -0.434008 -0.469126      -0.792973   \n",
              "1  1.110913  0.934592  0.522726    -0.057749  0.510540      -0.053231   \n",
              "2  1.061092  0.412976  0.522726     0.469014 -1.333537       2.371479   \n",
              "3  0.994664 -0.764387  9.132671     0.995777  0.337658       1.179672   \n",
              "4  0.048063 -0.674967  0.332451     0.393762  0.769864       0.850898   \n",
              "\n",
              "   windspeed9am  windspeed3pm  humidity9am  humidity3pm  pressure9am  \\\n",
              "0     -0.445889      0.232347    -0.302291    -0.917620     0.015459   \n",
              "1     -0.727958     -0.113047     0.613832    -0.498199    -1.092954   \n",
              "2     -0.445889     -1.379492     0.766519     1.479075    -1.533283   \n",
              "3      2.233765      0.692873    -0.760352     0.700149    -2.140633   \n",
              "4      1.528593      1.153399    -0.302291     0.280727    -0.197114   \n",
              "\n",
              "   pressure3pm  cloud9am  cloud3pm   temp9am   temp3pm   risk_mm  \n",
              "0    -0.268898  1.060061  1.113816  0.352655  0.644668  0.512385  \n",
              "1    -1.304540  0.382301 -0.392248  0.901258  0.960017  0.512385  \n",
              "2    -1.492838  1.398940  1.113816  0.529624  0.134104  9.036268  \n",
              "3    -1.524221 -0.634337  1.113816  0.193384 -0.781909  0.324012  \n",
              "4     0.280306  1.060061  1.113816 -0.231341 -0.586693 -0.335294  "
            ],
            "text/html": [
              "\n",
              "  <div id=\"df-ca17151f-0752-4c61-ab55-0547ab7750cf\" class=\"colab-df-container\">\n",
              "    <div>\n",
              "<style scoped>\n",
              "    .dataframe tbody tr th:only-of-type {\n",
              "        vertical-align: middle;\n",
              "    }\n",
              "\n",
              "    .dataframe tbody tr th {\n",
              "        vertical-align: top;\n",
              "    }\n",
              "\n",
              "    .dataframe thead th {\n",
              "        text-align: right;\n",
              "    }\n",
              "</style>\n",
              "<table border=\"1\" class=\"dataframe\">\n",
              "  <thead>\n",
              "    <tr style=\"text-align: right;\">\n",
              "      <th></th>\n",
              "      <th>mintemp</th>\n",
              "      <th>maxtemp</th>\n",
              "      <th>rainfall</th>\n",
              "      <th>evaporation</th>\n",
              "      <th>sunshine</th>\n",
              "      <th>windgustspeed</th>\n",
              "      <th>windspeed9am</th>\n",
              "      <th>windspeed3pm</th>\n",
              "      <th>humidity9am</th>\n",
              "      <th>humidity3pm</th>\n",
              "      <th>pressure9am</th>\n",
              "      <th>pressure3pm</th>\n",
              "      <th>cloud9am</th>\n",
              "      <th>cloud3pm</th>\n",
              "      <th>temp9am</th>\n",
              "      <th>temp3pm</th>\n",
              "      <th>risk_mm</th>\n",
              "    </tr>\n",
              "  </thead>\n",
              "  <tbody>\n",
              "    <tr>\n",
              "      <th>0</th>\n",
              "      <td>0.114491</td>\n",
              "      <td>0.547106</td>\n",
              "      <td>-0.333511</td>\n",
              "      <td>-0.434008</td>\n",
              "      <td>-0.469126</td>\n",
              "      <td>-0.792973</td>\n",
              "      <td>-0.445889</td>\n",
              "      <td>0.232347</td>\n",
              "      <td>-0.302291</td>\n",
              "      <td>-0.917620</td>\n",
              "      <td>0.015459</td>\n",
              "      <td>-0.268898</td>\n",
              "      <td>1.060061</td>\n",
              "      <td>1.113816</td>\n",
              "      <td>0.352655</td>\n",
              "      <td>0.644668</td>\n",
              "      <td>0.512385</td>\n",
              "    </tr>\n",
              "    <tr>\n",
              "      <th>1</th>\n",
              "      <td>1.110913</td>\n",
              "      <td>0.934592</td>\n",
              "      <td>0.522726</td>\n",
              "      <td>-0.057749</td>\n",
              "      <td>0.510540</td>\n",
              "      <td>-0.053231</td>\n",
              "      <td>-0.727958</td>\n",
              "      <td>-0.113047</td>\n",
              "      <td>0.613832</td>\n",
              "      <td>-0.498199</td>\n",
              "      <td>-1.092954</td>\n",
              "      <td>-1.304540</td>\n",
              "      <td>0.382301</td>\n",
              "      <td>-0.392248</td>\n",
              "      <td>0.901258</td>\n",
              "      <td>0.960017</td>\n",
              "      <td>0.512385</td>\n",
              "    </tr>\n",
              "    <tr>\n",
              "      <th>2</th>\n",
              "      <td>1.061092</td>\n",
              "      <td>0.412976</td>\n",
              "      <td>0.522726</td>\n",
              "      <td>0.469014</td>\n",
              "      <td>-1.333537</td>\n",
              "      <td>2.371479</td>\n",
              "      <td>-0.445889</td>\n",
              "      <td>-1.379492</td>\n",
              "      <td>0.766519</td>\n",
              "      <td>1.479075</td>\n",
              "      <td>-1.533283</td>\n",
              "      <td>-1.492838</td>\n",
              "      <td>1.398940</td>\n",
              "      <td>1.113816</td>\n",
              "      <td>0.529624</td>\n",
              "      <td>0.134104</td>\n",
              "      <td>9.036268</td>\n",
              "    </tr>\n",
              "    <tr>\n",
              "      <th>3</th>\n",
              "      <td>0.994664</td>\n",
              "      <td>-0.764387</td>\n",
              "      <td>9.132671</td>\n",
              "      <td>0.995777</td>\n",
              "      <td>0.337658</td>\n",
              "      <td>1.179672</td>\n",
              "      <td>2.233765</td>\n",
              "      <td>0.692873</td>\n",
              "      <td>-0.760352</td>\n",
              "      <td>0.700149</td>\n",
              "      <td>-2.140633</td>\n",
              "      <td>-1.524221</td>\n",
              "      <td>-0.634337</td>\n",
              "      <td>1.113816</td>\n",
              "      <td>0.193384</td>\n",
              "      <td>-0.781909</td>\n",
              "      <td>0.324012</td>\n",
              "    </tr>\n",
              "    <tr>\n",
              "      <th>4</th>\n",
              "      <td>0.048063</td>\n",
              "      <td>-0.674967</td>\n",
              "      <td>0.332451</td>\n",
              "      <td>0.393762</td>\n",
              "      <td>0.769864</td>\n",
              "      <td>0.850898</td>\n",
              "      <td>1.528593</td>\n",
              "      <td>1.153399</td>\n",
              "      <td>-0.302291</td>\n",
              "      <td>0.280727</td>\n",
              "      <td>-0.197114</td>\n",
              "      <td>0.280306</td>\n",
              "      <td>1.060061</td>\n",
              "      <td>1.113816</td>\n",
              "      <td>-0.231341</td>\n",
              "      <td>-0.586693</td>\n",
              "      <td>-0.335294</td>\n",
              "    </tr>\n",
              "  </tbody>\n",
              "</table>\n",
              "</div>\n",
              "    <div class=\"colab-df-buttons\">\n",
              "\n",
              "  <div class=\"colab-df-container\">\n",
              "    <button class=\"colab-df-convert\" onclick=\"convertToInteractive('df-ca17151f-0752-4c61-ab55-0547ab7750cf')\"\n",
              "            title=\"Convert this dataframe to an interactive table.\"\n",
              "            style=\"display:none;\">\n",
              "\n",
              "  <svg xmlns=\"http://www.w3.org/2000/svg\" height=\"24px\" viewBox=\"0 -960 960 960\">\n",
              "    <path d=\"M120-120v-720h720v720H120Zm60-500h600v-160H180v160Zm220 220h160v-160H400v160Zm0 220h160v-160H400v160ZM180-400h160v-160H180v160Zm440 0h160v-160H620v160ZM180-180h160v-160H180v160Zm440 0h160v-160H620v160Z\"/>\n",
              "  </svg>\n",
              "    </button>\n",
              "\n",
              "  <style>\n",
              "    .colab-df-container {\n",
              "      display:flex;\n",
              "      gap: 12px;\n",
              "    }\n",
              "\n",
              "    .colab-df-convert {\n",
              "      background-color: #E8F0FE;\n",
              "      border: none;\n",
              "      border-radius: 50%;\n",
              "      cursor: pointer;\n",
              "      display: none;\n",
              "      fill: #1967D2;\n",
              "      height: 32px;\n",
              "      padding: 0 0 0 0;\n",
              "      width: 32px;\n",
              "    }\n",
              "\n",
              "    .colab-df-convert:hover {\n",
              "      background-color: #E2EBFA;\n",
              "      box-shadow: 0px 1px 2px rgba(60, 64, 67, 0.3), 0px 1px 3px 1px rgba(60, 64, 67, 0.15);\n",
              "      fill: #174EA6;\n",
              "    }\n",
              "\n",
              "    .colab-df-buttons div {\n",
              "      margin-bottom: 4px;\n",
              "    }\n",
              "\n",
              "    [theme=dark] .colab-df-convert {\n",
              "      background-color: #3B4455;\n",
              "      fill: #D2E3FC;\n",
              "    }\n",
              "\n",
              "    [theme=dark] .colab-df-convert:hover {\n",
              "      background-color: #434B5C;\n",
              "      box-shadow: 0px 1px 3px 1px rgba(0, 0, 0, 0.15);\n",
              "      filter: drop-shadow(0px 1px 2px rgba(0, 0, 0, 0.3));\n",
              "      fill: #FFFFFF;\n",
              "    }\n",
              "  </style>\n",
              "\n",
              "    <script>\n",
              "      const buttonEl =\n",
              "        document.querySelector('#df-ca17151f-0752-4c61-ab55-0547ab7750cf button.colab-df-convert');\n",
              "      buttonEl.style.display =\n",
              "        google.colab.kernel.accessAllowed ? 'block' : 'none';\n",
              "\n",
              "      async function convertToInteractive(key) {\n",
              "        const element = document.querySelector('#df-ca17151f-0752-4c61-ab55-0547ab7750cf');\n",
              "        const dataTable =\n",
              "          await google.colab.kernel.invokeFunction('convertToInteractive',\n",
              "                                                    [key], {});\n",
              "        if (!dataTable) return;\n",
              "\n",
              "        const docLinkHtml = 'Like what you see? Visit the ' +\n",
              "          '<a target=\"_blank\" href=https://colab.research.google.com/notebooks/data_table.ipynb>data table notebook</a>'\n",
              "          + ' to learn more about interactive tables.';\n",
              "        element.innerHTML = '';\n",
              "        dataTable['output_type'] = 'display_data';\n",
              "        await google.colab.output.renderOutput(dataTable, element);\n",
              "        const docLink = document.createElement('div');\n",
              "        docLink.innerHTML = docLinkHtml;\n",
              "        element.appendChild(docLink);\n",
              "      }\n",
              "    </script>\n",
              "  </div>\n",
              "\n",
              "\n",
              "<div id=\"df-11718f15-dfa2-47f2-add2-6f57220669da\">\n",
              "  <button class=\"colab-df-quickchart\" onclick=\"quickchart('df-11718f15-dfa2-47f2-add2-6f57220669da')\"\n",
              "            title=\"Suggest charts\"\n",
              "            style=\"display:none;\">\n",
              "\n",
              "<svg xmlns=\"http://www.w3.org/2000/svg\" height=\"24px\"viewBox=\"0 0 24 24\"\n",
              "     width=\"24px\">\n",
              "    <g>\n",
              "        <path d=\"M19 3H5c-1.1 0-2 .9-2 2v14c0 1.1.9 2 2 2h14c1.1 0 2-.9 2-2V5c0-1.1-.9-2-2-2zM9 17H7v-7h2v7zm4 0h-2V7h2v10zm4 0h-2v-4h2v4z\"/>\n",
              "    </g>\n",
              "</svg>\n",
              "  </button>\n",
              "\n",
              "<style>\n",
              "  .colab-df-quickchart {\n",
              "      --bg-color: #E8F0FE;\n",
              "      --fill-color: #1967D2;\n",
              "      --hover-bg-color: #E2EBFA;\n",
              "      --hover-fill-color: #174EA6;\n",
              "      --disabled-fill-color: #AAA;\n",
              "      --disabled-bg-color: #DDD;\n",
              "  }\n",
              "\n",
              "  [theme=dark] .colab-df-quickchart {\n",
              "      --bg-color: #3B4455;\n",
              "      --fill-color: #D2E3FC;\n",
              "      --hover-bg-color: #434B5C;\n",
              "      --hover-fill-color: #FFFFFF;\n",
              "      --disabled-bg-color: #3B4455;\n",
              "      --disabled-fill-color: #666;\n",
              "  }\n",
              "\n",
              "  .colab-df-quickchart {\n",
              "    background-color: var(--bg-color);\n",
              "    border: none;\n",
              "    border-radius: 50%;\n",
              "    cursor: pointer;\n",
              "    display: none;\n",
              "    fill: var(--fill-color);\n",
              "    height: 32px;\n",
              "    padding: 0;\n",
              "    width: 32px;\n",
              "  }\n",
              "\n",
              "  .colab-df-quickchart:hover {\n",
              "    background-color: var(--hover-bg-color);\n",
              "    box-shadow: 0 1px 2px rgba(60, 64, 67, 0.3), 0 1px 3px 1px rgba(60, 64, 67, 0.15);\n",
              "    fill: var(--button-hover-fill-color);\n",
              "  }\n",
              "\n",
              "  .colab-df-quickchart-complete:disabled,\n",
              "  .colab-df-quickchart-complete:disabled:hover {\n",
              "    background-color: var(--disabled-bg-color);\n",
              "    fill: var(--disabled-fill-color);\n",
              "    box-shadow: none;\n",
              "  }\n",
              "\n",
              "  .colab-df-spinner {\n",
              "    border: 2px solid var(--fill-color);\n",
              "    border-color: transparent;\n",
              "    border-bottom-color: var(--fill-color);\n",
              "    animation:\n",
              "      spin 1s steps(1) infinite;\n",
              "  }\n",
              "\n",
              "  @keyframes spin {\n",
              "    0% {\n",
              "      border-color: transparent;\n",
              "      border-bottom-color: var(--fill-color);\n",
              "      border-left-color: var(--fill-color);\n",
              "    }\n",
              "    20% {\n",
              "      border-color: transparent;\n",
              "      border-left-color: var(--fill-color);\n",
              "      border-top-color: var(--fill-color);\n",
              "    }\n",
              "    30% {\n",
              "      border-color: transparent;\n",
              "      border-left-color: var(--fill-color);\n",
              "      border-top-color: var(--fill-color);\n",
              "      border-right-color: var(--fill-color);\n",
              "    }\n",
              "    40% {\n",
              "      border-color: transparent;\n",
              "      border-right-color: var(--fill-color);\n",
              "      border-top-color: var(--fill-color);\n",
              "    }\n",
              "    60% {\n",
              "      border-color: transparent;\n",
              "      border-right-color: var(--fill-color);\n",
              "    }\n",
              "    80% {\n",
              "      border-color: transparent;\n",
              "      border-right-color: var(--fill-color);\n",
              "      border-bottom-color: var(--fill-color);\n",
              "    }\n",
              "    90% {\n",
              "      border-color: transparent;\n",
              "      border-bottom-color: var(--fill-color);\n",
              "    }\n",
              "  }\n",
              "</style>\n",
              "\n",
              "  <script>\n",
              "    async function quickchart(key) {\n",
              "      const quickchartButtonEl =\n",
              "        document.querySelector('#' + key + ' button');\n",
              "      quickchartButtonEl.disabled = true;  // To prevent multiple clicks.\n",
              "      quickchartButtonEl.classList.add('colab-df-spinner');\n",
              "      try {\n",
              "        const charts = await google.colab.kernel.invokeFunction(\n",
              "            'suggestCharts', [key], {});\n",
              "      } catch (error) {\n",
              "        console.error('Error during call to suggestCharts:', error);\n",
              "      }\n",
              "      quickchartButtonEl.classList.remove('colab-df-spinner');\n",
              "      quickchartButtonEl.classList.add('colab-df-quickchart-complete');\n",
              "    }\n",
              "    (() => {\n",
              "      let quickchartButtonEl =\n",
              "        document.querySelector('#df-11718f15-dfa2-47f2-add2-6f57220669da button');\n",
              "      quickchartButtonEl.style.display =\n",
              "        google.colab.kernel.accessAllowed ? 'block' : 'none';\n",
              "    })();\n",
              "  </script>\n",
              "</div>\n",
              "\n",
              "    </div>\n",
              "  </div>\n"
            ],
            "application/vnd.google.colaboratory.intrinsic+json": {
              "type": "dataframe",
              "variable_name": "norm_data_all",
              "summary": "{\n  \"name\": \"norm_data_all\",\n  \"rows\": 359,\n  \"fields\": [\n    {\n      \"column\": \"mintemp\",\n      \"properties\": {\n        \"dtype\": \"number\",\n        \"std\": 1.0013956740916077,\n        \"min\": -2.0942426886902745,\n        \"max\": 2.25679722147119,\n        \"num_unique_values\": 177,\n        \"samples\": [\n          1.5094812063671217,\n          0.41341771754782175,\n          -0.7324668389450832\n        ],\n        \"semantic_type\": \"\",\n        \"description\": \"\"\n      }\n    },\n    {\n      \"column\": \"maxtemp\",\n      \"properties\": {\n        \"dtype\": \"number\",\n        \"std\": 1.0013956740916075,\n        \"min\": -1.9417502159765752,\n        \"max\": 2.2609886638506036,\n        \"num_unique_values\": 185,\n        \"samples\": [\n          -0.1831573513680393,\n          0.05529591840938953,\n          -1.166777089199932\n        ],\n        \"semantic_type\": \"\",\n        \"description\": \"\"\n      }\n    },\n    {\n      \"column\": \"rainfall\",\n      \"properties\": {\n        \"dtype\": \"number\",\n        \"std\": 1.0013956740916075,\n        \"min\": -0.3335112892534648,\n        \"max\": 9.13267067958117,\n        \"num_unique_values\": 45,\n        \"samples\": [\n          0.04703873964440999,\n          -0.1432362748045274,\n          0.9032763046646283\n        ],\n        \"semantic_type\": \"\",\n        \"description\": \"\"\n      }\n    },\n    {\n      \"column\": \"evaporation\",\n      \"properties\": {\n        \"dtype\": \"number\",\n        \"std\": 1.0013956740916077,\n        \"min\": -1.638038321633959,\n        \"max\": 3.008764803781873,\n        \"num_unique_values\": 54,\n        \"samples\": [\n          -0.7350158519175221,\n          -1.33703083172848,\n          -0.9607714693466313\n        ],\n        \"semantic_type\": \"\",\n        \"description\": \"\"\n      }\n    },\n    {\n      \"column\": \"sunshine\",\n      \"properties\": {\n        \"dtype\": \"number\",\n        \"std\": 1.0013956740916077,\n        \"min\": -2.284388850307559,\n        \"max\": 1.634274673949916,\n        \"num_unique_values\": 114,\n        \"samples\": [\n          -0.3250570881788213,\n          0.7698636024225319,\n          -2.05387923123359\n        ],\n        \"semantic_type\": \"\",\n        \"description\": \"\"\n      }\n    },\n    {\n      \"column\": \"windgustspeed\",\n      \"properties\": {\n        \"dtype\": \"number\",\n        \"std\": 1.0013956740916075,\n        \"min\": -2.1902636852558803,\n        \"max\": 2.371478728048963,\n        \"num_unique_values\": 28,\n        \"samples\": [\n          -0.7107796593191742,\n          -2.0258765712629128,\n          0.686510809621048\n        ],\n        \"semantic_type\": \"\",\n        \"description\": \"\"\n      }\n    },\n    {\n      \"column\": \"windspeed9am\",\n      \"properties\": {\n        \"dtype\": \"number\",\n        \"std\": 1.0013956740916075,\n        \"min\": -1.2920952618980632,\n        \"max\": 2.2337651745674636,\n        \"num_unique_values\": 15,\n        \"samples\": [\n          -0.022785504770473506,\n          1.8106619221916005,\n          -0.4458887571463367\n        ],\n        \"semantic_type\": \"\",\n        \"description\": \"\"\n      }\n    },\n    {\n      \"column\": \"windspeed3pm\",\n      \"properties\": {\n        \"dtype\": \"number\",\n        \"std\": 1.0013956740916077,\n        \"min\": -1.8400177803123645,\n        \"max\": 2.9379351434320826,\n        \"num_unique_values\": 23,\n        \"samples\": [\n          1.3836613007682264,\n          0.11721594748656558,\n          0.2323473432394438\n        ],\n        \"semantic_type\": \"\",\n        \"description\": \"\"\n      }\n    },\n    {\n      \"column\": \"humidity9am\",\n      \"properties\": {\n        \"dtype\": \"number\",\n        \"std\": 1.001395674091608,\n        \"min\": -2.497169141222236,\n        \"max\": 2.064360515076525,\n        \"num_unique_values\": 59,\n        \"samples\": [\n          -0.30229085471864814,\n          -0.6840088175888374,\n          0.38480147844769247\n        ],\n        \"semantic_type\": \"\",\n        \"description\": \"\"\n      }\n    },\n    {\n      \"column\": \"humidity3pm\",\n      \"properties\": {\n        \"dtype\": \"number\",\n        \"std\": 1.0013956740916077,\n        \"min\": -1.876298509678208,\n        \"max\": 3.096843875385087,\n        \"num_unique_values\": 73,\n        \"samples\": [\n          0.28072710312032956,\n          1.5389920439194764,\n          1.6588268001860618\n        ],\n        \"semantic_type\": \"\",\n        \"description\": \"\"\n      }\n    },\n    {\n      \"column\": \"pressure9am\",\n      \"properties\": {\n        \"dtype\": \"number\",\n        \"std\": 1.0013956740916077,\n        \"min\": -2.7821456479456828,\n        \"max\": 2.444857236819939,\n        \"num_unique_values\": 186,\n        \"samples\": [\n          0.9264831235982603,\n          0.3950521839706729,\n          1.5642002511513722\n        ],\n        \"semantic_type\": \"\",\n        \"description\": \"\"\n      }\n    },\n    {\n      \"column\": \"pressure3pm\",\n      \"properties\": {\n        \"dtype\": \"number\",\n        \"std\": 1.0013956740916077,\n        \"min\": -2.673626307934866,\n        \"max\": 2.586962242344981,\n        \"num_unique_values\": 187,\n        \"samples\": [\n          -0.9279425608248902,\n          -0.786718707126087,\n          -1.25746488612205\n        ],\n        \"semantic_type\": \"\",\n        \"description\": \"\"\n      }\n    },\n    {\n      \"column\": \"cloud9am\",\n      \"properties\": {\n        \"dtype\": \"number\",\n        \"std\": 1.0013956740916077,\n        \"min\": -1.312096377338373,\n        \"max\": 1.3989401663420638,\n        \"num_unique_values\": 9,\n        \"samples\": [\n          -1.312096377338373,\n          0.3823014624619,\n          0.7211810304219546\n        ],\n        \"semantic_type\": \"\",\n        \"description\": \"\"\n      }\n    },\n    {\n      \"column\": \"cloud3pm\",\n      \"properties\": {\n        \"dtype\": \"number\",\n        \"std\": 1.001395674091608,\n        \"min\": -1.5217956162123432,\n        \"max\": 1.4903318887923773,\n        \"num_unique_values\": 9,\n        \"samples\": [\n          1.4903318887923773,\n          -0.392247801835573,\n          -0.7687637399611631\n        ],\n        \"semantic_type\": \"\",\n        \"description\": \"\"\n      }\n    },\n    {\n      \"column\": \"temp9am\",\n      \"properties\": {\n        \"dtype\": \"number\",\n        \"std\": 1.0013956740916077,\n        \"min\": -2.1779951779584406,\n        \"max\": 2.175431844792883,\n        \"num_unique_values\": 178,\n        \"samples\": [\n          1.7330103993913257,\n          1.9453726931840731,\n          -1.8771485950853815\n        ],\n        \"semantic_type\": \"\",\n        \"description\": \"\"\n      }\n    },\n    {\n      \"column\": \"temp3pm\",\n      \"properties\": {\n        \"dtype\": \"number\",\n        \"std\": 1.0013956740916077,\n        \"min\": -2.133403362331977,\n        \"max\": 2.281477944271377,\n        \"num_unique_values\": 199,\n        \"samples\": [\n          1.080149697576587,\n          1.5756975993381879,\n          -0.1662283583692581\n        ],\n        \"semantic_type\": \"\",\n        \"description\": \"\"\n      }\n    },\n    {\n      \"column\": \"risk_mm\",\n      \"properties\": {\n        \"dtype\": \"number\",\n        \"std\": 1.0013956740916075,\n        \"min\": -0.3352936107423491,\n        \"max\": 9.036267752733457,\n        \"num_unique_values\": 46,\n        \"samples\": [\n          0.04145257472401503,\n          -0.14692051800916703,\n          0.8891314920233342\n        ],\n        \"semantic_type\": \"\",\n        \"description\": \"\"\n      }\n    }\n  ]\n}"
            }
          },
          "metadata": {},
          "execution_count": 85
        }
      ]
    },
    {
      "cell_type": "code",
      "source": [
        "norm_data_all.isnull().sum()\n",
        "norm_data_all.shape"
      ],
      "metadata": {
        "colab": {
          "base_uri": "https://localhost:8080/"
        },
        "id": "AE_YeJNJh2IX",
        "outputId": "11a174ff-7759-4e3a-f854-a73294d3693a"
      },
      "execution_count": 86,
      "outputs": [
        {
          "output_type": "execute_result",
          "data": {
            "text/plain": [
              "(359, 17)"
            ]
          },
          "metadata": {},
          "execution_count": 86
        }
      ]
    },
    {
      "cell_type": "code",
      "source": [
        "norm_data=pd.concat([norm_data_all,all_object],axis=1 ,join='inner')"
      ],
      "metadata": {
        "id": "ky20d5MMG2lL"
      },
      "execution_count": 87,
      "outputs": []
    },
    {
      "cell_type": "code",
      "source": [
        "norm_data.shape"
      ],
      "metadata": {
        "colab": {
          "base_uri": "https://localhost:8080/"
        },
        "id": "8FSumUWVHJTN",
        "outputId": "4dcdb0ce-f23b-47ab-e84b-7c4cd6742418"
      },
      "execution_count": 88,
      "outputs": [
        {
          "output_type": "execute_result",
          "data": {
            "text/plain": [
              "(359, 22)"
            ]
          },
          "metadata": {},
          "execution_count": 88
        }
      ]
    },
    {
      "cell_type": "code",
      "source": [
        "norm_data.isnull().sum()"
      ],
      "metadata": {
        "colab": {
          "base_uri": "https://localhost:8080/"
        },
        "id": "mTeFriE8Cads",
        "outputId": "89d9dba4-6faa-45e0-9077-d42a2abfc860"
      },
      "execution_count": 89,
      "outputs": [
        {
          "output_type": "execute_result",
          "data": {
            "text/plain": [
              "mintemp          0\n",
              "maxtemp          0\n",
              "rainfall         0\n",
              "evaporation      0\n",
              "sunshine         0\n",
              "windgustspeed    0\n",
              "windspeed9am     0\n",
              "windspeed3pm     0\n",
              "humidity9am      0\n",
              "humidity3pm      0\n",
              "pressure9am      0\n",
              "pressure3pm      0\n",
              "cloud9am         0\n",
              "cloud3pm         0\n",
              "temp9am          0\n",
              "temp3pm          0\n",
              "risk_mm          0\n",
              "windgustdir      0\n",
              "winddir9am       0\n",
              "winddir3pm       0\n",
              "raintoday        0\n",
              "raintomorrow     0\n",
              "dtype: int64"
            ]
          },
          "metadata": {},
          "execution_count": 89
        }
      ]
    },
    {
      "cell_type": "code",
      "source": [
        "norm_data.columns"
      ],
      "metadata": {
        "colab": {
          "base_uri": "https://localhost:8080/"
        },
        "id": "86OPOssyD5Nb",
        "outputId": "b25ec5cb-f239-4385-f068-141eb9c27a24"
      },
      "execution_count": 90,
      "outputs": [
        {
          "output_type": "execute_result",
          "data": {
            "text/plain": [
              "Index(['mintemp', 'maxtemp', 'rainfall', 'evaporation', 'sunshine',\n",
              "       'windgustspeed', 'windspeed9am', 'windspeed3pm', 'humidity9am',\n",
              "       'humidity3pm', 'pressure9am', 'pressure3pm', 'cloud9am', 'cloud3pm',\n",
              "       'temp9am', 'temp3pm', 'risk_mm', 'windgustdir', 'winddir9am',\n",
              "       'winddir3pm', 'raintoday', 'raintomorrow'],\n",
              "      dtype='object')"
            ]
          },
          "metadata": {},
          "execution_count": 90
        }
      ]
    },
    {
      "cell_type": "code",
      "source": [
        "x_raw=norm_data.drop(['raintomorrow'],axis=1)\n",
        "y_raw=norm_data['raintomorrow']\n",
        "from sklearn.model_selection import train_test_split\n",
        "x_train_raw,x_test_raw,y_train_raw,y_test_raw=train_test_split(x_raw,y_raw,test_size=0.2,random_state=42)"
      ],
      "metadata": {
        "id": "MkKRTWbRh6H2"
      },
      "execution_count": 91,
      "outputs": []
    },
    {
      "cell_type": "code",
      "source": [
        "from sklearn.linear_model import LogisticRegression\n",
        "model=LogisticRegression()\n",
        "model.fit(x_train_raw,y_train_raw)\n",
        "from sklearn.metrics import f1_score,confusion_matrix,classification_report\n",
        "y_pred_raw=model.predict(x_test_raw)\n",
        "print(f1_score(y_test_raw,y_pred_raw))\n",
        "print(accuracy_score(y_test_raw,y_pred_raw))\n"
      ],
      "metadata": {
        "colab": {
          "base_uri": "https://localhost:8080/"
        },
        "id": "9Eq18J-GiL4Q",
        "outputId": "8a0ccd2c-6e90-401e-dafd-c51f8492a71b"
      },
      "execution_count": 92,
      "outputs": [
        {
          "output_type": "stream",
          "name": "stdout",
          "text": [
            "0.923076923076923\n",
            "0.9722222222222222\n"
          ]
        }
      ]
    },
    {
      "cell_type": "markdown",
      "source": [
        "# feature selection"
      ],
      "metadata": {
        "id": "tfEOgZjFbrFv"
      }
    },
    {
      "cell_type": "code",
      "source": [
        "corr=numeric_cols.corr()\n",
        "sns.heatmap(corr)"
      ],
      "metadata": {
        "colab": {
          "base_uri": "https://localhost:8080/",
          "height": 0
        },
        "id": "LQW47_mByRHV",
        "outputId": "b5597903-6940-492b-94ee-0aec9e53a9dc"
      },
      "execution_count": 93,
      "outputs": [
        {
          "output_type": "execute_result",
          "data": {
            "text/plain": [
              "<Axes: >"
            ]
          },
          "metadata": {},
          "execution_count": 93
        },
        {
          "output_type": "display_data",
          "data": {
            "text/plain": [
              "<Figure size 640x480 with 2 Axes>"
            ],
            "image/png": "[encoded data removed]"
          },
          "metadata": {}
        }
      ]
    },
    {
      "cell_type": "code",
      "source": [
        "plt.scatter(data['maxtemp'],data['temp3pm'])"
      ],
      "metadata": {
        "colab": {
          "base_uri": "https://localhost:8080/",
          "height": 0
        },
        "id": "-npcHM16yZdY",
        "outputId": "1ed4120e-41ab-4933-fe79-67d58d810b88"
      },
      "execution_count": 94,
      "outputs": [
        {
          "output_type": "execute_result",
          "data": {
            "text/plain": [
              "<matplotlib.collections.PathCollection at 0x7fc613b48520>"
            ]
          },
          "metadata": {},
          "execution_count": 94
        },
        {
          "output_type": "display_data",
          "data": {
            "text/plain": [
              "<Figure size 640x480 with 1 Axes>"
            ],
            "image/png": "[encoded data removed]"
          },
          "metadata": {}
        }
      ]
    },
    {
      "cell_type": "code",
      "source": [
        "data['maxtemp'].corr(data['raintomorrow'])"
      ],
      "metadata": {
        "colab": {
          "base_uri": "https://localhost:8080/"
        },
        "id": "o39CXM9SR89K",
        "outputId": "5d786b34-26b9-4629-c370-a4fe95b2851c"
      },
      "execution_count": 95,
      "outputs": [
        {
          "output_type": "execute_result",
          "data": {
            "text/plain": [
              "0.05677609013685437"
            ]
          },
          "metadata": {},
          "execution_count": 95
        }
      ]
    },
    {
      "cell_type": "code",
      "source": [
        "data['raintomorrow'].corr(data['temp3pm'])"
      ],
      "metadata": {
        "colab": {
          "base_uri": "https://localhost:8080/"
        },
        "id": "1LO7XKY2SKmi",
        "outputId": "6ac3fdf4-08e9-4923-cef3-140030c011e5"
      },
      "execution_count": 96,
      "outputs": [
        {
          "output_type": "execute_result",
          "data": {
            "text/plain": [
              "0.019512546966220887"
            ]
          },
          "metadata": {},
          "execution_count": 96
        }
      ]
    },
    {
      "cell_type": "code",
      "source": [
        "norm_data = norm_data.drop(['temp3pm'],axis=1)"
      ],
      "metadata": {
        "id": "U66otCCwSR5_"
      },
      "execution_count": 97,
      "outputs": []
    },
    {
      "cell_type": "code",
      "source": [
        "plt.scatter(data['mintemp'],data['temp9am'])"
      ],
      "metadata": {
        "colab": {
          "base_uri": "https://localhost:8080/",
          "height": 0
        },
        "id": "yfdlB4nfzIvA",
        "outputId": "ed19b8ee-2e46-4853-a212-3bee8ed439ab"
      },
      "execution_count": 98,
      "outputs": [
        {
          "output_type": "execute_result",
          "data": {
            "text/plain": [
              "<matplotlib.collections.PathCollection at 0x7fc613aea620>"
            ]
          },
          "metadata": {},
          "execution_count": 98
        },
        {
          "output_type": "display_data",
          "data": {
            "text/plain": [
              "<Figure size 640x480 with 1 Axes>"
            ],
            "image/png": "[encoded data removed]"
          },
          "metadata": {}
        }
      ]
    },
    {
      "cell_type": "code",
      "source": [
        "data['mintemp'].corr(data['raintomorrow'])"
      ],
      "metadata": {
        "colab": {
          "base_uri": "https://localhost:8080/"
        },
        "id": "UjzyieGrSjp_",
        "outputId": "a1f3c176-5fb9-4013-90b4-4f67704f49b7"
      },
      "execution_count": 99,
      "outputs": [
        {
          "output_type": "execute_result",
          "data": {
            "text/plain": [
              "0.23341233130639014"
            ]
          },
          "metadata": {},
          "execution_count": 99
        }
      ]
    },
    {
      "cell_type": "code",
      "source": [
        "data['raintomorrow'].corr(data['temp9am'])"
      ],
      "metadata": {
        "colab": {
          "base_uri": "https://localhost:8080/"
        },
        "id": "YHaE27tFSncc",
        "outputId": "ad3f5e3a-c582-4146-a2aa-6578de5bbd82"
      },
      "execution_count": 100,
      "outputs": [
        {
          "output_type": "execute_result",
          "data": {
            "text/plain": [
              "0.18460860166721804"
            ]
          },
          "metadata": {},
          "execution_count": 100
        }
      ]
    },
    {
      "cell_type": "code",
      "source": [
        "data['temp9am'].var()"
      ],
      "metadata": {
        "colab": {
          "base_uri": "https://localhost:8080/"
        },
        "id": "3yhzGgyLSq1N",
        "outputId": "b09f324e-0e61-425c-c958-c38e42c6a367"
      },
      "execution_count": 101,
      "outputs": [
        {
          "output_type": "execute_result",
          "data": {
            "text/plain": [
              "32.01983567015763"
            ]
          },
          "metadata": {},
          "execution_count": 101
        }
      ]
    },
    {
      "cell_type": "code",
      "source": [
        "data['mintemp'].var()"
      ],
      "metadata": {
        "colab": {
          "base_uri": "https://localhost:8080/"
        },
        "id": "npQFRNDbSu6r",
        "outputId": "51220373-54c5-44dd-86d1-feddbce521ac"
      },
      "execution_count": 102,
      "outputs": [
        {
          "output_type": "execute_result",
          "data": {
            "text/plain": [
              "36.360334573069196"
            ]
          },
          "metadata": {},
          "execution_count": 102
        }
      ]
    },
    {
      "cell_type": "code",
      "source": [
        "norm_data=norm_data.drop(['temp9am'],axis=1)"
      ],
      "metadata": {
        "id": "JplmnaRzzTFv"
      },
      "execution_count": 103,
      "outputs": []
    },
    {
      "cell_type": "code",
      "source": [
        "(data['maxtemp']).corr(data['mintemp'])"
      ],
      "metadata": {
        "colab": {
          "base_uri": "https://localhost:8080/"
        },
        "id": "WLJnzaEB0RS5",
        "outputId": "46626fb3-46a3-44ef-d233-f4b11f6355c4"
      },
      "execution_count": 104,
      "outputs": [
        {
          "output_type": "execute_result",
          "data": {
            "text/plain": [
              "0.7549919717665492"
            ]
          },
          "metadata": {},
          "execution_count": 104
        }
      ]
    },
    {
      "cell_type": "code",
      "source": [
        "norm_data=norm_data.drop(['maxtemp'],axis=1)"
      ],
      "metadata": {
        "id": "3tP0mf4S0VGR"
      },
      "execution_count": 105,
      "outputs": []
    },
    {
      "cell_type": "markdown",
      "source": [
        "# scaling numeric columns"
      ],
      "metadata": {
        "id": "hiNyR4QW4uSO"
      }
    },
    {
      "cell_type": "code",
      "source": [
        "norm_data.describe()"
      ],
      "metadata": {
        "colab": {
          "base_uri": "https://localhost:8080/",
          "height": 0
        },
        "id": "CEVi6LfDx7KO",
        "outputId": "9357c37c-2183-4ae5-ce19-d72f58e07b88"
      },
      "execution_count": 106,
      "outputs": [
        {
          "output_type": "execute_result",
          "data": {
            "text/plain": [
              "          mintemp      rainfall   evaporation      sunshine  windgustspeed  \\\n",
              "count  359.000000  3.590000e+02  3.590000e+02  3.590000e+02   3.590000e+02   \n",
              "mean     0.000000 -4.948069e-17  2.375073e-16  9.896138e-17  -2.968842e-17   \n",
              "std      1.001396  1.001396e+00  1.001396e+00  1.001396e+00   1.001396e+00   \n",
              "min     -2.094243 -3.335113e-01 -1.638038e+00 -2.284389e+00  -2.190264e+00   \n",
              "25%     -0.832109 -3.335113e-01 -8.478937e-01 -5.699736e-01  -7.107797e-01   \n",
              "50%      0.031456 -3.335113e-01 -1.330009e-01  1.935896e-01  -5.323120e-02   \n",
              "75%      0.861807 -2.859425e-01  6.947697e-01  7.554568e-01   5.221237e-01   \n",
              "max      2.256797  9.132671e+00  3.008765e+00  1.634275e+00   2.371479e+00   \n",
              "\n",
              "       windspeed9am  windspeed3pm   humidity9am   humidity3pm   pressure9am  \\\n",
              "count  3.590000e+02  3.590000e+02  3.590000e+02  3.590000e+02  3.590000e+02   \n",
              "mean   7.916911e-17  1.187537e-16  3.364687e-16 -8.906525e-17 -4.868900e-15   \n",
              "std    1.001396e+00  1.001396e+00  1.001396e+00  1.001396e+00  1.001396e+00   \n",
              "min   -1.292095e+00 -1.840018e+00 -2.497169e+00 -1.876299e+00 -2.782146e+00   \n",
              "25%   -5.869232e-01 -8.038352e-01 -6.076652e-01 -7.378683e-01 -6.754016e-01   \n",
              "50%   -3.048543e-01 -1.130468e-01  3.083516e-03 -7.877717e-02  6.100988e-02   \n",
              "75%    5.413522e-01  6.928729e-01  6.520041e-01  6.102727e-01  7.290945e-01   \n",
              "max    2.233765e+00  2.937935e+00  2.064361e+00  3.096844e+00  2.444857e+00   \n",
              "\n",
              "        pressure3pm      cloud9am      cloud3pm       risk_mm  windgustdir  \\\n",
              "count  3.590000e+02  3.590000e+02  3.590000e+02  3.590000e+02   359.000000   \n",
              "mean   2.863942e-14 -8.411718e-17 -7.916911e-17 -2.968842e-17     6.529248   \n",
              "std    1.001396e+00  1.001396e+00  1.001396e+00  1.001396e+00     4.332366   \n",
              "min   -2.673626e+00 -1.312096e+00 -1.521796e+00 -3.352936e-01     1.000000   \n",
              "25%   -6.376491e-01 -9.732168e-01 -1.145280e+00 -3.352936e-01     2.000000   \n",
              "50%    9.200749e-02 -2.954577e-01 -1.573186e-02 -3.352936e-01     6.000000   \n",
              "75%    7.196691e-01  1.060061e+00  1.113816e+00 -2.882003e-01    10.000000   \n",
              "max    2.586962e+00  1.398940e+00  1.490332e+00  9.036268e+00    16.000000   \n",
              "\n",
              "       winddir9am  winddir3pm   raintoday  raintomorrow  \n",
              "count  359.000000  359.000000  359.000000    359.000000  \n",
              "mean     7.225627    7.688022    0.178273      0.178273  \n",
              "std      4.543620    4.388615    0.383277      0.383277  \n",
              "min      0.000000    1.000000    0.000000      0.000000  \n",
              "25%      4.000000    4.000000    0.000000      0.000000  \n",
              "50%      6.000000    8.000000    0.000000      0.000000  \n",
              "75%     11.000000   12.000000    0.000000      0.000000  \n",
              "max     16.000000   16.000000    1.000000      1.000000  "
            ],
            "text/html": [
              "\n",
              "  <div id=\"df-ddea0155-a851-4567-becd-09f6f3776019\" class=\"colab-df-container\">\n",
              "    <div>\n",
              "<style scoped>\n",
              "    .dataframe tbody tr th:only-of-type {\n",
              "        vertical-align: middle;\n",
              "    }\n",
              "\n",
              "    .dataframe tbody tr th {\n",
              "        vertical-align: top;\n",
              "    }\n",
              "\n",
              "    .dataframe thead th {\n",
              "        text-align: right;\n",
              "    }\n",
              "</style>\n",
              "<table border=\"1\" class=\"dataframe\">\n",
              "  <thead>\n",
              "    <tr style=\"text-align: right;\">\n",
              "      <th></th>\n",
              "      <th>mintemp</th>\n",
              "      <th>rainfall</th>\n",
              "      <th>evaporation</th>\n",
              "      <th>sunshine</th>\n",
              "      <th>windgustspeed</th>\n",
              "      <th>windspeed9am</th>\n",
              "      <th>windspeed3pm</th>\n",
              "      <th>humidity9am</th>\n",
              "      <th>humidity3pm</th>\n",
              "      <th>pressure9am</th>\n",
              "      <th>pressure3pm</th>\n",
              "      <th>cloud9am</th>\n",
              "      <th>cloud3pm</th>\n",
              "      <th>risk_mm</th>\n",
              "      <th>windgustdir</th>\n",
              "      <th>winddir9am</th>\n",
              "      <th>winddir3pm</th>\n",
              "      <th>raintoday</th>\n",
              "      <th>raintomorrow</th>\n",
              "    </tr>\n",
              "  </thead>\n",
              "  <tbody>\n",
              "    <tr>\n",
              "      <th>count</th>\n",
              "      <td>359.000000</td>\n",
              "      <td>3.590000e+02</td>\n",
              "      <td>3.590000e+02</td>\n",
              "      <td>3.590000e+02</td>\n",
              "      <td>3.590000e+02</td>\n",
              "      <td>3.590000e+02</td>\n",
              "      <td>3.590000e+02</td>\n",
              "      <td>3.590000e+02</td>\n",
              "      <td>3.590000e+02</td>\n",
              "      <td>3.590000e+02</td>\n",
              "      <td>3.590000e+02</td>\n",
              "      <td>3.590000e+02</td>\n",
              "      <td>3.590000e+02</td>\n",
              "      <td>3.590000e+02</td>\n",
              "      <td>359.000000</td>\n",
              "      <td>359.000000</td>\n",
              "      <td>359.000000</td>\n",
              "      <td>359.000000</td>\n",
              "      <td>359.000000</td>\n",
              "    </tr>\n",
              "    <tr>\n",
              "      <th>mean</th>\n",
              "      <td>0.000000</td>\n",
              "      <td>-4.948069e-17</td>\n",
              "      <td>2.375073e-16</td>\n",
              "      <td>9.896138e-17</td>\n",
              "      <td>-2.968842e-17</td>\n",
              "      <td>7.916911e-17</td>\n",
              "      <td>1.187537e-16</td>\n",
              "      <td>3.364687e-16</td>\n",
              "      <td>-8.906525e-17</td>\n",
              "      <td>-4.868900e-15</td>\n",
              "      <td>2.863942e-14</td>\n",
              "      <td>-8.411718e-17</td>\n",
              "      <td>-7.916911e-17</td>\n",
              "      <td>-2.968842e-17</td>\n",
              "      <td>6.529248</td>\n",
              "      <td>7.225627</td>\n",
              "      <td>7.688022</td>\n",
              "      <td>0.178273</td>\n",
              "      <td>0.178273</td>\n",
              "    </tr>\n",
              "    <tr>\n",
              "      <th>std</th>\n",
              "      <td>1.001396</td>\n",
              "      <td>1.001396e+00</td>\n",
              "      <td>1.001396e+00</td>\n",
              "      <td>1.001396e+00</td>\n",
              "      <td>1.001396e+00</td>\n",
              "      <td>1.001396e+00</td>\n",
              "      <td>1.001396e+00</td>\n",
              "      <td>1.001396e+00</td>\n",
              "      <td>1.001396e+00</td>\n",
              "      <td>1.001396e+00</td>\n",
              "      <td>1.001396e+00</td>\n",
              "      <td>1.001396e+00</td>\n",
              "      <td>1.001396e+00</td>\n",
              "      <td>1.001396e+00</td>\n",
              "      <td>4.332366</td>\n",
              "      <td>4.543620</td>\n",
              "      <td>4.388615</td>\n",
              "      <td>0.383277</td>\n",
              "      <td>0.383277</td>\n",
              "    </tr>\n",
              "    <tr>\n",
              "      <th>min</th>\n",
              "      <td>-2.094243</td>\n",
              "      <td>-3.335113e-01</td>\n",
              "      <td>-1.638038e+00</td>\n",
              "      <td>-2.284389e+00</td>\n",
              "      <td>-2.190264e+00</td>\n",
              "      <td>-1.292095e+00</td>\n",
              "      <td>-1.840018e+00</td>\n",
              "      <td>-2.497169e+00</td>\n",
              "      <td>-1.876299e+00</td>\n",
              "      <td>-2.782146e+00</td>\n",
              "      <td>-2.673626e+00</td>\n",
              "      <td>-1.312096e+00</td>\n",
              "      <td>-1.521796e+00</td>\n",
              "      <td>-3.352936e-01</td>\n",
              "      <td>1.000000</td>\n",
              "      <td>0.000000</td>\n",
              "      <td>1.000000</td>\n",
              "      <td>0.000000</td>\n",
              "      <td>0.000000</td>\n",
              "    </tr>\n",
              "    <tr>\n",
              "      <th>25%</th>\n",
              "      <td>-0.832109</td>\n",
              "      <td>-3.335113e-01</td>\n",
              "      <td>-8.478937e-01</td>\n",
              "      <td>-5.699736e-01</td>\n",
              "      <td>-7.107797e-01</td>\n",
              "      <td>-5.869232e-01</td>\n",
              "      <td>-8.038352e-01</td>\n",
              "      <td>-6.076652e-01</td>\n",
              "      <td>-7.378683e-01</td>\n",
              "      <td>-6.754016e-01</td>\n",
              "      <td>-6.376491e-01</td>\n",
              "      <td>-9.732168e-01</td>\n",
              "      <td>-1.145280e+00</td>\n",
              "      <td>-3.352936e-01</td>\n",
              "      <td>2.000000</td>\n",
              "      <td>4.000000</td>\n",
              "      <td>4.000000</td>\n",
              "      <td>0.000000</td>\n",
              "      <td>0.000000</td>\n",
              "    </tr>\n",
              "    <tr>\n",
              "      <th>50%</th>\n",
              "      <td>0.031456</td>\n",
              "      <td>-3.335113e-01</td>\n",
              "      <td>-1.330009e-01</td>\n",
              "      <td>1.935896e-01</td>\n",
              "      <td>-5.323120e-02</td>\n",
              "      <td>-3.048543e-01</td>\n",
              "      <td>-1.130468e-01</td>\n",
              "      <td>3.083516e-03</td>\n",
              "      <td>-7.877717e-02</td>\n",
              "      <td>6.100988e-02</td>\n",
              "      <td>9.200749e-02</td>\n",
              "      <td>-2.954577e-01</td>\n",
              "      <td>-1.573186e-02</td>\n",
              "      <td>-3.352936e-01</td>\n",
              "      <td>6.000000</td>\n",
              "      <td>6.000000</td>\n",
              "      <td>8.000000</td>\n",
              "      <td>0.000000</td>\n",
              "      <td>0.000000</td>\n",
              "    </tr>\n",
              "    <tr>\n",
              "      <th>75%</th>\n",
              "      <td>0.861807</td>\n",
              "      <td>-2.859425e-01</td>\n",
              "      <td>6.947697e-01</td>\n",
              "      <td>7.554568e-01</td>\n",
              "      <td>5.221237e-01</td>\n",
              "      <td>5.413522e-01</td>\n",
              "      <td>6.928729e-01</td>\n",
              "      <td>6.520041e-01</td>\n",
              "      <td>6.102727e-01</td>\n",
              "      <td>7.290945e-01</td>\n",
              "      <td>7.196691e-01</td>\n",
              "      <td>1.060061e+00</td>\n",
              "      <td>1.113816e+00</td>\n",
              "      <td>-2.882003e-01</td>\n",
              "      <td>10.000000</td>\n",
              "      <td>11.000000</td>\n",
              "      <td>12.000000</td>\n",
              "      <td>0.000000</td>\n",
              "      <td>0.000000</td>\n",
              "    </tr>\n",
              "    <tr>\n",
              "      <th>max</th>\n",
              "      <td>2.256797</td>\n",
              "      <td>9.132671e+00</td>\n",
              "      <td>3.008765e+00</td>\n",
              "      <td>1.634275e+00</td>\n",
              "      <td>2.371479e+00</td>\n",
              "      <td>2.233765e+00</td>\n",
              "      <td>2.937935e+00</td>\n",
              "      <td>2.064361e+00</td>\n",
              "      <td>3.096844e+00</td>\n",
              "      <td>2.444857e+00</td>\n",
              "      <td>2.586962e+00</td>\n",
              "      <td>1.398940e+00</td>\n",
              "      <td>1.490332e+00</td>\n",
              "      <td>9.036268e+00</td>\n",
              "      <td>16.000000</td>\n",
              "      <td>16.000000</td>\n",
              "      <td>16.000000</td>\n",
              "      <td>1.000000</td>\n",
              "      <td>1.000000</td>\n",
              "    </tr>\n",
              "  </tbody>\n",
              "</table>\n",
              "</div>\n",
              "    <div class=\"colab-df-buttons\">\n",
              "\n",
              "  <div class=\"colab-df-container\">\n",
              "    <button class=\"colab-df-convert\" onclick=\"convertToInteractive('df-ddea0155-a851-4567-becd-09f6f3776019')\"\n",
              "            title=\"Convert this dataframe to an interactive table.\"\n",
              "            style=\"display:none;\">\n",
              "\n",
              "  <svg xmlns=\"http://www.w3.org/2000/svg\" height=\"24px\" viewBox=\"0 -960 960 960\">\n",
              "    <path d=\"M120-120v-720h720v720H120Zm60-500h600v-160H180v160Zm220 220h160v-160H400v160Zm0 220h160v-160H400v160ZM180-400h160v-160H180v160Zm440 0h160v-160H620v160ZM180-180h160v-160H180v160Zm440 0h160v-160H620v160Z\"/>\n",
              "  </svg>\n",
              "    </button>\n",
              "\n",
              "  <style>\n",
              "    .colab-df-container {\n",
              "      display:flex;\n",
              "      gap: 12px;\n",
              "    }\n",
              "\n",
              "    .colab-df-convert {\n",
              "      background-color: #E8F0FE;\n",
              "      border: none;\n",
              "      border-radius: 50%;\n",
              "      cursor: pointer;\n",
              "      display: none;\n",
              "      fill: #1967D2;\n",
              "      height: 32px;\n",
              "      padding: 0 0 0 0;\n",
              "      width: 32px;\n",
              "    }\n",
              "\n",
              "    .colab-df-convert:hover {\n",
              "      background-color: #E2EBFA;\n",
              "      box-shadow: 0px 1px 2px rgba(60, 64, 67, 0.3), 0px 1px 3px 1px rgba(60, 64, 67, 0.15);\n",
              "      fill: #174EA6;\n",
              "    }\n",
              "\n",
              "    .colab-df-buttons div {\n",
              "      margin-bottom: 4px;\n",
              "    }\n",
              "\n",
              "    [theme=dark] .colab-df-convert {\n",
              "      background-color: #3B4455;\n",
              "      fill: #D2E3FC;\n",
              "    }\n",
              "\n",
              "    [theme=dark] .colab-df-convert:hover {\n",
              "      background-color: #434B5C;\n",
              "      box-shadow: 0px 1px 3px 1px rgba(0, 0, 0, 0.15);\n",
              "      filter: drop-shadow(0px 1px 2px rgba(0, 0, 0, 0.3));\n",
              "      fill: #FFFFFF;\n",
              "    }\n",
              "  </style>\n",
              "\n",
              "    <script>\n",
              "      const buttonEl =\n",
              "        document.querySelector('#df-ddea0155-a851-4567-becd-09f6f3776019 button.colab-df-convert');\n",
              "      buttonEl.style.display =\n",
              "        google.colab.kernel.accessAllowed ? 'block' : 'none';\n",
              "\n",
              "      async function convertToInteractive(key) {\n",
              "        const element = document.querySelector('#df-ddea0155-a851-4567-becd-09f6f3776019');\n",
              "        const dataTable =\n",
              "          await google.colab.kernel.invokeFunction('convertToInteractive',\n",
              "                                                    [key], {});\n",
              "        if (!dataTable) return;\n",
              "\n",
              "        const docLinkHtml = 'Like what you see? Visit the ' +\n",
              "          '<a target=\"_blank\" href=https://colab.research.google.com/notebooks/data_table.ipynb>data table notebook</a>'\n",
              "          + ' to learn more about interactive tables.';\n",
              "        element.innerHTML = '';\n",
              "        dataTable['output_type'] = 'display_data';\n",
              "        await google.colab.output.renderOutput(dataTable, element);\n",
              "        const docLink = document.createElement('div');\n",
              "        docLink.innerHTML = docLinkHtml;\n",
              "        element.appendChild(docLink);\n",
              "      }\n",
              "    </script>\n",
              "  </div>\n",
              "\n",
              "\n",
              "<div id=\"df-fff6db8d-48a0-476e-9acb-5384baed0172\">\n",
              "  <button class=\"colab-df-quickchart\" onclick=\"quickchart('df-fff6db8d-48a0-476e-9acb-5384baed0172')\"\n",
              "            title=\"Suggest charts\"\n",
              "            style=\"display:none;\">\n",
              "\n",
              "<svg xmlns=\"http://www.w3.org/2000/svg\" height=\"24px\"viewBox=\"0 0 24 24\"\n",
              "     width=\"24px\">\n",
              "    <g>\n",
              "        <path d=\"M19 3H5c-1.1 0-2 .9-2 2v14c0 1.1.9 2 2 2h14c1.1 0 2-.9 2-2V5c0-1.1-.9-2-2-2zM9 17H7v-7h2v7zm4 0h-2V7h2v10zm4 0h-2v-4h2v4z\"/>\n",
              "    </g>\n",
              "</svg>\n",
              "  </button>\n",
              "\n",
              "<style>\n",
              "  .colab-df-quickchart {\n",
              "      --bg-color: #E8F0FE;\n",
              "      --fill-color: #1967D2;\n",
              "      --hover-bg-color: #E2EBFA;\n",
              "      --hover-fill-color: #174EA6;\n",
              "      --disabled-fill-color: #AAA;\n",
              "      --disabled-bg-color: #DDD;\n",
              "  }\n",
              "\n",
              "  [theme=dark] .colab-df-quickchart {\n",
              "      --bg-color: #3B4455;\n",
              "      --fill-color: #D2E3FC;\n",
              "      --hover-bg-color: #434B5C;\n",
              "      --hover-fill-color: #FFFFFF;\n",
              "      --disabled-bg-color: #3B4455;\n",
              "      --disabled-fill-color: #666;\n",
              "  }\n",
              "\n",
              "  .colab-df-quickchart {\n",
              "    background-color: var(--bg-color);\n",
              "    border: none;\n",
              "    border-radius: 50%;\n",
              "    cursor: pointer;\n",
              "    display: none;\n",
              "    fill: var(--fill-color);\n",
              "    height: 32px;\n",
              "    padding: 0;\n",
              "    width: 32px;\n",
              "  }\n",
              "\n",
              "  .colab-df-quickchart:hover {\n",
              "    background-color: var(--hover-bg-color);\n",
              "    box-shadow: 0 1px 2px rgba(60, 64, 67, 0.3), 0 1px 3px 1px rgba(60, 64, 67, 0.15);\n",
              "    fill: var(--button-hover-fill-color);\n",
              "  }\n",
              "\n",
              "  .colab-df-quickchart-complete:disabled,\n",
              "  .colab-df-quickchart-complete:disabled:hover {\n",
              "    background-color: var(--disabled-bg-color);\n",
              "    fill: var(--disabled-fill-color);\n",
              "    box-shadow: none;\n",
              "  }\n",
              "\n",
              "  .colab-df-spinner {\n",
              "    border: 2px solid var(--fill-color);\n",
              "    border-color: transparent;\n",
              "    border-bottom-color: var(--fill-color);\n",
              "    animation:\n",
              "      spin 1s steps(1) infinite;\n",
              "  }\n",
              "\n",
              "  @keyframes spin {\n",
              "    0% {\n",
              "      border-color: transparent;\n",
              "      border-bottom-color: var(--fill-color);\n",
              "      border-left-color: var(--fill-color);\n",
              "    }\n",
              "    20% {\n",
              "      border-color: transparent;\n",
              "      border-left-color: var(--fill-color);\n",
              "      border-top-color: var(--fill-color);\n",
              "    }\n",
              "    30% {\n",
              "      border-color: transparent;\n",
              "      border-left-color: var(--fill-color);\n",
              "      border-top-color: var(--fill-color);\n",
              "      border-right-color: var(--fill-color);\n",
              "    }\n",
              "    40% {\n",
              "      border-color: transparent;\n",
              "      border-right-color: var(--fill-color);\n",
              "      border-top-color: var(--fill-color);\n",
              "    }\n",
              "    60% {\n",
              "      border-color: transparent;\n",
              "      border-right-color: var(--fill-color);\n",
              "    }\n",
              "    80% {\n",
              "      border-color: transparent;\n",
              "      border-right-color: var(--fill-color);\n",
              "      border-bottom-color: var(--fill-color);\n",
              "    }\n",
              "    90% {\n",
              "      border-color: transparent;\n",
              "      border-bottom-color: var(--fill-color);\n",
              "    }\n",
              "  }\n",
              "</style>\n",
              "\n",
              "  <script>\n",
              "    async function quickchart(key) {\n",
              "      const quickchartButtonEl =\n",
              "        document.querySelector('#' + key + ' button');\n",
              "      quickchartButtonEl.disabled = true;  // To prevent multiple clicks.\n",
              "      quickchartButtonEl.classList.add('colab-df-spinner');\n",
              "      try {\n",
              "        const charts = await google.colab.kernel.invokeFunction(\n",
              "            'suggestCharts', [key], {});\n",
              "      } catch (error) {\n",
              "        console.error('Error during call to suggestCharts:', error);\n",
              "      }\n",
              "      quickchartButtonEl.classList.remove('colab-df-spinner');\n",
              "      quickchartButtonEl.classList.add('colab-df-quickchart-complete');\n",
              "    }\n",
              "    (() => {\n",
              "      let quickchartButtonEl =\n",
              "        document.querySelector('#df-fff6db8d-48a0-476e-9acb-5384baed0172 button');\n",
              "      quickchartButtonEl.style.display =\n",
              "        google.colab.kernel.accessAllowed ? 'block' : 'none';\n",
              "    })();\n",
              "  </script>\n",
              "</div>\n",
              "\n",
              "    </div>\n",
              "  </div>\n"
            ],
            "application/vnd.google.colaboratory.intrinsic+json": {
              "type": "dataframe",
              "summary": "{\n  \"name\": \"norm_data\",\n  \"rows\": 8,\n  \"fields\": [\n    {\n      \"column\": \"mintemp\",\n      \"properties\": {\n        \"dtype\": \"number\",\n        \"std\": 126.87037936633769,\n        \"min\": -2.0942426886902745,\n        \"max\": 359.0,\n        \"num_unique_values\": 8,\n        \"samples\": [\n          0.0,\n          0.03145619871685335,\n          359.0\n        ],\n        \"semantic_type\": \"\",\n        \"description\": \"\"\n      }\n    },\n    {\n      \"column\": \"rainfall\",\n      \"properties\": {\n        \"dtype\": \"number\",\n        \"std\": 126.52037822336527,\n        \"min\": -0.3335112892534648,\n        \"max\": 359.0,\n        \"num_unique_values\": 6,\n        \"samples\": [\n          359.0,\n          -4.9480691905299454e-17,\n          9.13267067958117\n        ],\n        \"semantic_type\": \"\",\n        \"description\": \"\"\n      }\n    },\n    {\n      \"column\": \"evaporation\",\n      \"properties\": {\n        \"dtype\": \"number\",\n        \"std\": 126.82781959423184,\n        \"min\": -1.638038321633959,\n        \"max\": 359.0,\n        \"num_unique_values\": 8,\n        \"samples\": [\n          2.375073211454374e-16,\n          -0.1330008721065641,\n          359.0\n        ],\n        \"semantic_type\": \"\",\n        \"description\": \"\"\n      }\n    },\n    {\n      \"column\": \"sunshine\",\n      \"properties\": {\n        \"dtype\": \"number\",\n        \"std\": 126.89426654301273,\n        \"min\": -2.284388850307559,\n        \"max\": 359.0,\n        \"num_unique_values\": 8,\n        \"samples\": [\n          9.896138381059891e-17,\n          0.19358955473760914,\n          359.0\n        ],\n        \"semantic_type\": \"\",\n        \"description\": \"\"\n      }\n    },\n    {\n      \"column\": \"windgustspeed\",\n      \"properties\": {\n        \"dtype\": \"number\",\n        \"std\": 126.88495298351683,\n        \"min\": -2.1902636852558803,\n        \"max\": 359.0,\n        \"num_unique_values\": 8,\n        \"samples\": [\n          -2.9688415143179675e-17,\n          -0.05323120334730491,\n          359.0\n        ],\n        \"semantic_type\": \"\",\n        \"description\": \"\"\n      }\n    },\n    {\n      \"column\": \"windspeed9am\",\n      \"properties\": {\n        \"dtype\": \"number\",\n        \"std\": 126.84974855726001,\n        \"min\": -1.2920952618980632,\n        \"max\": 359.0,\n        \"num_unique_values\": 8,\n        \"samples\": [\n          7.916910704847913e-17,\n          -0.30485433968771564,\n          359.0\n        ],\n        \"semantic_type\": \"\",\n        \"description\": \"\"\n      }\n    },\n    {\n      \"column\": \"windspeed3pm\",\n      \"properties\": {\n        \"dtype\": \"number\",\n        \"std\": 126.83864091518458,\n        \"min\": -1.8400177803123645,\n        \"max\": 359.0,\n        \"num_unique_values\": 8,\n        \"samples\": [\n          1.187536605727187e-16,\n          -0.1130468440191909,\n          359.0\n        ],\n        \"semantic_type\": \"\",\n        \"description\": \"\"\n      }\n    },\n    {\n      \"column\": \"humidity9am\",\n      \"properties\": {\n        \"dtype\": \"number\",\n        \"std\": 126.90144394702808,\n        \"min\": -2.497169141222236,\n        \"max\": 359.0,\n        \"num_unique_values\": 8,\n        \"samples\": [\n          3.364687049560363e-16,\n          0.0030835155775032477,\n          359.0\n        ],\n        \"semantic_type\": \"\",\n        \"description\": \"\"\n      }\n    },\n    {\n      \"column\": \"humidity3pm\",\n      \"properties\": {\n        \"dtype\": \"number\",\n        \"std\": 126.83200742738288,\n        \"min\": -1.876298509678208,\n        \"max\": 359.0,\n        \"num_unique_values\": 8,\n        \"samples\": [\n          -8.906524542953902e-17,\n          -0.07877716567942672,\n          359.0\n        ],\n        \"semantic_type\": \"\",\n        \"description\": \"\"\n      }\n    },\n    {\n      \"column\": \"pressure9am\",\n      \"properties\": {\n        \"dtype\": \"number\",\n        \"std\": 126.8951270602093,\n        \"min\": -2.7821456479456828,\n        \"max\": 359.0,\n        \"num_unique_values\": 8,\n        \"samples\": [\n          -4.868900083481466e-15,\n          0.061009879061896706,\n          359.0\n        ],\n        \"semantic_type\": \"\",\n        \"description\": \"\"\n      }\n    },\n    {\n      \"column\": \"pressure3pm\",\n      \"properties\": {\n        \"dtype\": \"number\",\n        \"std\": 126.87946311785977,\n        \"min\": -2.673626307934866,\n        \"max\": 359.0,\n        \"num_unique_values\": 8,\n        \"samples\": [\n          2.863942447478733e-14,\n          0.092007493666363,\n          359.0\n        ],\n        \"semantic_type\": \"\",\n        \"description\": \"\"\n      }\n    },\n    {\n      \"column\": \"cloud9am\",\n      \"properties\": {\n        \"dtype\": \"number\",\n        \"std\": 126.88502753343718,\n        \"min\": -1.312096377338373,\n        \"max\": 359.0,\n        \"num_unique_values\": 8,\n        \"samples\": [\n          -8.411717623900907e-17,\n          -0.2954576734582092,\n          359.0\n        ],\n        \"semantic_type\": \"\",\n        \"description\": \"\"\n      }\n    },\n    {\n      \"column\": \"cloud3pm\",\n      \"properties\": {\n        \"dtype\": \"number\",\n        \"std\": 126.88354909979988,\n        \"min\": -1.5217956162123432,\n        \"max\": 359.0,\n        \"num_unique_values\": 8,\n        \"samples\": [\n          -7.916910704847913e-17,\n          -0.015731863709982967,\n          359.0\n        ],\n        \"semantic_type\": \"\",\n        \"description\": \"\"\n      }\n    },\n    {\n      \"column\": \"risk_mm\",\n      \"properties\": {\n        \"dtype\": \"number\",\n        \"std\": 126.5247911713302,\n        \"min\": -0.3352936107423491,\n        \"max\": 359.0,\n        \"num_unique_values\": 6,\n        \"samples\": [\n          359.0,\n          -2.9688415143179675e-17,\n          9.036267752733457\n        ],\n        \"semantic_type\": \"\",\n        \"description\": \"\"\n      }\n    },\n    {\n      \"column\": \"windgustdir\",\n      \"properties\": {\n        \"dtype\": \"number\",\n        \"std\": 124.69980220405942,\n        \"min\": 1.0,\n        \"max\": 359.0,\n        \"num_unique_values\": 8,\n        \"samples\": [\n          6.52924791086351,\n          6.0,\n          359.0\n        ],\n        \"semantic_type\": \"\",\n        \"description\": \"\"\n      }\n    },\n    {\n      \"column\": \"winddir9am\",\n      \"properties\": {\n        \"dtype\": \"number\",\n        \"std\": 124.5554290595343,\n        \"min\": 0.0,\n        \"max\": 359.0,\n        \"num_unique_values\": 8,\n        \"samples\": [\n          7.225626740947075,\n          6.0,\n          359.0\n        ],\n        \"semantic_type\": \"\",\n        \"description\": \"\"\n      }\n    },\n    {\n      \"column\": \"winddir3pm\",\n      \"properties\": {\n        \"dtype\": \"number\",\n        \"std\": 124.33507221096191,\n        \"min\": 1.0,\n        \"max\": 359.0,\n        \"num_unique_values\": 8,\n        \"samples\": [\n          7.688022284122563,\n          8.0,\n          359.0\n        ],\n        \"semantic_type\": \"\",\n        \"description\": \"\"\n      }\n    },\n    {\n      \"column\": \"raintoday\",\n      \"properties\": {\n        \"dtype\": \"number\",\n        \"std\": 126.84726462870958,\n        \"min\": 0.0,\n        \"max\": 359.0,\n        \"num_unique_values\": 5,\n        \"samples\": [\n          0.17827298050139276,\n          1.0,\n          0.38327655770592317\n        ],\n        \"semantic_type\": \"\",\n        \"description\": \"\"\n      }\n    },\n    {\n      \"column\": \"raintomorrow\",\n      \"properties\": {\n        \"dtype\": \"number\",\n        \"std\": 126.84726462870958,\n        \"min\": 0.0,\n        \"max\": 359.0,\n        \"num_unique_values\": 5,\n        \"samples\": [\n          0.17827298050139276,\n          1.0,\n          0.38327655770592317\n        ],\n        \"semantic_type\": \"\",\n        \"description\": \"\"\n      }\n    }\n  ]\n}"
            }
          },
          "metadata": {},
          "execution_count": 106
        }
      ]
    },
    {
      "cell_type": "code",
      "source": [
        "norm_data.shape"
      ],
      "metadata": {
        "colab": {
          "base_uri": "https://localhost:8080/"
        },
        "id": "1avNzMeWyDIx",
        "outputId": "cdd3373b-7067-43ea-f291-904b61d3f247"
      },
      "execution_count": 107,
      "outputs": [
        {
          "output_type": "execute_result",
          "data": {
            "text/plain": [
              "(359, 19)"
            ]
          },
          "metadata": {},
          "execution_count": 107
        }
      ]
    },
    {
      "cell_type": "markdown",
      "source": [
        "# splitting data"
      ],
      "metadata": {
        "id": "TCBfJSZ42NEo"
      }
    },
    {
      "cell_type": "code",
      "source": [
        "x=norm_data.drop(['raintomorrow'],axis=1)\n",
        "y=norm_data['raintomorrow']\n",
        "x_train,x_test,y_train,y_test=train_test_split(x,y,test_size=0.2,random_state=42)"
      ],
      "metadata": {
        "id": "rur_EQwNLC7e"
      },
      "execution_count": 108,
      "outputs": []
    },
    {
      "cell_type": "markdown",
      "source": [
        "# test logistic regression"
      ],
      "metadata": {
        "id": "kHVkP80RLKCM"
      }
    },
    {
      "cell_type": "code",
      "source": [
        "from sklearn.linear_model import LogisticRegression\n",
        "Lr_log=LogisticRegression()\n",
        "Lr_log.fit(x_train,y_train)\n",
        "y_pred=Lr_log.predict(x_test)\n",
        "print(f1_score(y_test,y_pred))\n",
        "print(accuracy_score(y_test,y_pred))"
      ],
      "metadata": {
        "colab": {
          "base_uri": "https://localhost:8080/"
        },
        "id": "KICZDKUPLME1",
        "outputId": "ca4a3654-3996-40fe-a4ca-7f69d41ffd82"
      },
      "execution_count": 109,
      "outputs": [
        {
          "output_type": "stream",
          "name": "stdout",
          "text": [
            "0.923076923076923\n",
            "0.9722222222222222\n"
          ]
        }
      ]
    },
    {
      "cell_type": "markdown",
      "source": [
        "# feature selection based on model"
      ],
      "metadata": {
        "id": "j69s_UTxYijU"
      }
    },
    {
      "cell_type": "code",
      "source": [
        "coeff=pd.DataFrame(Lr_log.coef_,columns=Lr_log.feature_names_in_)\n",
        "coeff"
      ],
      "metadata": {
        "colab": {
          "base_uri": "https://localhost:8080/",
          "height": 109
        },
        "id": "1OWEfdGSHymD",
        "outputId": "07177858-edb6-4197-e431-99f662e8e1a4"
      },
      "execution_count": 110,
      "outputs": [
        {
          "output_type": "execute_result",
          "data": {
            "text/plain": [
              "    mintemp  rainfall  evaporation  sunshine  windgustspeed  windspeed9am  \\\n",
              "0 -0.340686 -0.395921     0.352155 -0.468191       0.284559      0.042561   \n",
              "\n",
              "   windspeed3pm  humidity9am  humidity3pm  pressure9am  pressure3pm  cloud9am  \\\n",
              "0      -0.20759     0.272255     0.114562     0.071924    -0.980961  0.037172   \n",
              "\n",
              "   cloud3pm  risk_mm  windgustdir  winddir9am  winddir3pm  raintoday  \n",
              "0  0.268746  4.57841     0.051067   -0.018939    0.025922  -0.111829  "
            ],
            "text/html": [
              "\n",
              "  <div id=\"df-9e396d0d-114f-4ddb-aee9-3666915a7c4b\" class=\"colab-df-container\">\n",
              "    <div>\n",
              "<style scoped>\n",
              "    .dataframe tbody tr th:only-of-type {\n",
              "        vertical-align: middle;\n",
              "    }\n",
              "\n",
              "    .dataframe tbody tr th {\n",
              "        vertical-align: top;\n",
              "    }\n",
              "\n",
              "    .dataframe thead th {\n",
              "        text-align: right;\n",
              "    }\n",
              "</style>\n",
              "<table border=\"1\" class=\"dataframe\">\n",
              "  <thead>\n",
              "    <tr style=\"text-align: right;\">\n",
              "      <th></th>\n",
              "      <th>mintemp</th>\n",
              "      <th>rainfall</th>\n",
              "      <th>evaporation</th>\n",
              "      <th>sunshine</th>\n",
              "      <th>windgustspeed</th>\n",
              "      <th>windspeed9am</th>\n",
              "      <th>windspeed3pm</th>\n",
              "      <th>humidity9am</th>\n",
              "      <th>humidity3pm</th>\n",
              "      <th>pressure9am</th>\n",
              "      <th>pressure3pm</th>\n",
              "      <th>cloud9am</th>\n",
              "      <th>cloud3pm</th>\n",
              "      <th>risk_mm</th>\n",
              "      <th>windgustdir</th>\n",
              "      <th>winddir9am</th>\n",
              "      <th>winddir3pm</th>\n",
              "      <th>raintoday</th>\n",
              "    </tr>\n",
              "  </thead>\n",
              "  <tbody>\n",
              "    <tr>\n",
              "      <th>0</th>\n",
              "      <td>-0.340686</td>\n",
              "      <td>-0.395921</td>\n",
              "      <td>0.352155</td>\n",
              "      <td>-0.468191</td>\n",
              "      <td>0.284559</td>\n",
              "      <td>0.042561</td>\n",
              "      <td>-0.20759</td>\n",
              "      <td>0.272255</td>\n",
              "      <td>0.114562</td>\n",
              "      <td>0.071924</td>\n",
              "      <td>-0.980961</td>\n",
              "      <td>0.037172</td>\n",
              "      <td>0.268746</td>\n",
              "      <td>4.57841</td>\n",
              "      <td>0.051067</td>\n",
              "      <td>-0.018939</td>\n",
              "      <td>0.025922</td>\n",
              "      <td>-0.111829</td>\n",
              "    </tr>\n",
              "  </tbody>\n",
              "</table>\n",
              "</div>\n",
              "    <div class=\"colab-df-buttons\">\n",
              "\n",
              "  <div class=\"colab-df-container\">\n",
              "    <button class=\"colab-df-convert\" onclick=\"convertToInteractive('df-9e396d0d-114f-4ddb-aee9-3666915a7c4b')\"\n",
              "            title=\"Convert this dataframe to an interactive table.\"\n",
              "            style=\"display:none;\">\n",
              "\n",
              "  <svg xmlns=\"http://www.w3.org/2000/svg\" height=\"24px\" viewBox=\"0 -960 960 960\">\n",
              "    <path d=\"M120-120v-720h720v720H120Zm60-500h600v-160H180v160Zm220 220h160v-160H400v160Zm0 220h160v-160H400v160ZM180-400h160v-160H180v160Zm440 0h160v-160H620v160ZM180-180h160v-160H180v160Zm440 0h160v-160H620v160Z\"/>\n",
              "  </svg>\n",
              "    </button>\n",
              "\n",
              "  <style>\n",
              "    .colab-df-container {\n",
              "      display:flex;\n",
              "      gap: 12px;\n",
              "    }\n",
              "\n",
              "    .colab-df-convert {\n",
              "      background-color: #E8F0FE;\n",
              "      border: none;\n",
              "      border-radius: 50%;\n",
              "      cursor: pointer;\n",
              "      display: none;\n",
              "      fill: #1967D2;\n",
              "      height: 32px;\n",
              "      padding: 0 0 0 0;\n",
              "      width: 32px;\n",
              "    }\n",
              "\n",
              "    .colab-df-convert:hover {\n",
              "      background-color: #E2EBFA;\n",
              "      box-shadow: 0px 1px 2px rgba(60, 64, 67, 0.3), 0px 1px 3px 1px rgba(60, 64, 67, 0.15);\n",
              "      fill: #174EA6;\n",
              "    }\n",
              "\n",
              "    .colab-df-buttons div {\n",
              "      margin-bottom: 4px;\n",
              "    }\n",
              "\n",
              "    [theme=dark] .colab-df-convert {\n",
              "      background-color: #3B4455;\n",
              "      fill: #D2E3FC;\n",
              "    }\n",
              "\n",
              "    [theme=dark] .colab-df-convert:hover {\n",
              "      background-color: #434B5C;\n",
              "      box-shadow: 0px 1px 3px 1px rgba(0, 0, 0, 0.15);\n",
              "      filter: drop-shadow(0px 1px 2px rgba(0, 0, 0, 0.3));\n",
              "      fill: #FFFFFF;\n",
              "    }\n",
              "  </style>\n",
              "\n",
              "    <script>\n",
              "      const buttonEl =\n",
              "        document.querySelector('#df-9e396d0d-114f-4ddb-aee9-3666915a7c4b button.colab-df-convert');\n",
              "      buttonEl.style.display =\n",
              "        google.colab.kernel.accessAllowed ? 'block' : 'none';\n",
              "\n",
              "      async function convertToInteractive(key) {\n",
              "        const element = document.querySelector('#df-9e396d0d-114f-4ddb-aee9-3666915a7c4b');\n",
              "        const dataTable =\n",
              "          await google.colab.kernel.invokeFunction('convertToInteractive',\n",
              "                                                    [key], {});\n",
              "        if (!dataTable) return;\n",
              "\n",
              "        const docLinkHtml = 'Like what you see? Visit the ' +\n",
              "          '<a target=\"_blank\" href=https://colab.research.google.com/notebooks/data_table.ipynb>data table notebook</a>'\n",
              "          + ' to learn more about interactive tables.';\n",
              "        element.innerHTML = '';\n",
              "        dataTable['output_type'] = 'display_data';\n",
              "        await google.colab.output.renderOutput(dataTable, element);\n",
              "        const docLink = document.createElement('div');\n",
              "        docLink.innerHTML = docLinkHtml;\n",
              "        element.appendChild(docLink);\n",
              "      }\n",
              "    </script>\n",
              "  </div>\n",
              "\n",
              "\n",
              "  <div id=\"id_5ae5e375-8054-4d5b-afce-9d330dd9040f\">\n",
              "    <style>\n",
              "      .colab-df-generate {\n",
              "        background-color: #E8F0FE;\n",
              "        border: none;\n",
              "        border-radius: 50%;\n",
              "        cursor: pointer;\n",
              "        display: none;\n",
              "        fill: #1967D2;\n",
              "        height: 32px;\n",
              "        padding: 0 0 0 0;\n",
              "        width: 32px;\n",
              "      }\n",
              "\n",
              "      .colab-df-generate:hover {\n",
              "        background-color: #E2EBFA;\n",
              "        box-shadow: 0px 1px 2px rgba(60, 64, 67, 0.3), 0px 1px 3px 1px rgba(60, 64, 67, 0.15);\n",
              "        fill: #174EA6;\n",
              "      }\n",
              "\n",
              "      [theme=dark] .colab-df-generate {\n",
              "        background-color: #3B4455;\n",
              "        fill: #D2E3FC;\n",
              "      }\n",
              "\n",
              "      [theme=dark] .colab-df-generate:hover {\n",
              "        background-color: #434B5C;\n",
              "        box-shadow: 0px 1px 3px 1px rgba(0, 0, 0, 0.15);\n",
              "        filter: drop-shadow(0px 1px 2px rgba(0, 0, 0, 0.3));\n",
              "        fill: #FFFFFF;\n",
              "      }\n",
              "    </style>\n",
              "    <button class=\"colab-df-generate\" onclick=\"generateWithVariable('coeff')\"\n",
              "            title=\"Generate code using this dataframe.\"\n",
              "            style=\"display:none;\">\n",
              "\n",
              "  <svg xmlns=\"http://www.w3.org/2000/svg\" height=\"24px\"viewBox=\"0 0 24 24\"\n",
              "       width=\"24px\">\n",
              "    <path d=\"M7,19H8.4L18.45,9,17,7.55,7,17.6ZM5,21V16.75L18.45,3.32a2,2,0,0,1,2.83,0l1.4,1.43a1.91,1.91,0,0,1,.58,1.4,1.91,1.91,0,0,1-.58,1.4L9.25,21ZM18.45,9,17,7.55Zm-12,3A5.31,5.31,0,0,0,4.9,8.1,5.31,5.31,0,0,0,1,6.5,5.31,5.31,0,0,0,4.9,4.9,5.31,5.31,0,0,0,6.5,1,5.31,5.31,0,0,0,8.1,4.9,5.31,5.31,0,0,0,12,6.5,5.46,5.46,0,0,0,6.5,12Z\"/>\n",
              "  </svg>\n",
              "    </button>\n",
              "    <script>\n",
              "      (() => {\n",
              "      const buttonEl =\n",
              "        document.querySelector('#id_5ae5e375-8054-4d5b-afce-9d330dd9040f button.colab-df-generate');\n",
              "      buttonEl.style.display =\n",
              "        google.colab.kernel.accessAllowed ? 'block' : 'none';\n",
              "\n",
              "      buttonEl.onclick = () => {\n",
              "        google.colab.notebook.generateWithVariable('coeff');\n",
              "      }\n",
              "      })();\n",
              "    </script>\n",
              "  </div>\n",
              "\n",
              "    </div>\n",
              "  </div>\n"
            ],
            "application/vnd.google.colaboratory.intrinsic+json": {
              "type": "dataframe",
              "variable_name": "coeff",
              "summary": "{\n  \"name\": \"coeff\",\n  \"rows\": 1,\n  \"fields\": [\n    {\n      \"column\": \"mintemp\",\n      \"properties\": {\n        \"dtype\": \"number\",\n        \"std\": null,\n        \"min\": -0.340686358774571,\n        \"max\": -0.340686358774571,\n        \"num_unique_values\": 1,\n        \"samples\": [\n          -0.340686358774571\n        ],\n        \"semantic_type\": \"\",\n        \"description\": \"\"\n      }\n    },\n    {\n      \"column\": \"rainfall\",\n      \"properties\": {\n        \"dtype\": \"number\",\n        \"std\": null,\n        \"min\": -0.3959211653553827,\n        \"max\": -0.3959211653553827,\n        \"num_unique_values\": 1,\n        \"samples\": [\n          -0.3959211653553827\n        ],\n        \"semantic_type\": \"\",\n        \"description\": \"\"\n      }\n    },\n    {\n      \"column\": \"evaporation\",\n      \"properties\": {\n        \"dtype\": \"number\",\n        \"std\": null,\n        \"min\": 0.3521553387168476,\n        \"max\": 0.3521553387168476,\n        \"num_unique_values\": 1,\n        \"samples\": [\n          0.3521553387168476\n        ],\n        \"semantic_type\": \"\",\n        \"description\": \"\"\n      }\n    },\n    {\n      \"column\": \"sunshine\",\n      \"properties\": {\n        \"dtype\": \"number\",\n        \"std\": null,\n        \"min\": -0.46819141183994606,\n        \"max\": -0.46819141183994606,\n        \"num_unique_values\": 1,\n        \"samples\": [\n          -0.46819141183994606\n        ],\n        \"semantic_type\": \"\",\n        \"description\": \"\"\n      }\n    },\n    {\n      \"column\": \"windgustspeed\",\n      \"properties\": {\n        \"dtype\": \"number\",\n        \"std\": null,\n        \"min\": 0.28455910563955245,\n        \"max\": 0.28455910563955245,\n        \"num_unique_values\": 1,\n        \"samples\": [\n          0.28455910563955245\n        ],\n        \"semantic_type\": \"\",\n        \"description\": \"\"\n      }\n    },\n    {\n      \"column\": \"windspeed9am\",\n      \"properties\": {\n        \"dtype\": \"number\",\n        \"std\": null,\n        \"min\": 0.04256140309574648,\n        \"max\": 0.04256140309574648,\n        \"num_unique_values\": 1,\n        \"samples\": [\n          0.04256140309574648\n        ],\n        \"semantic_type\": \"\",\n        \"description\": \"\"\n      }\n    },\n    {\n      \"column\": \"windspeed3pm\",\n      \"properties\": {\n        \"dtype\": \"number\",\n        \"std\": null,\n        \"min\": -0.20758997690520237,\n        \"max\": -0.20758997690520237,\n        \"num_unique_values\": 1,\n        \"samples\": [\n          -0.20758997690520237\n        ],\n        \"semantic_type\": \"\",\n        \"description\": \"\"\n      }\n    },\n    {\n      \"column\": \"humidity9am\",\n      \"properties\": {\n        \"dtype\": \"number\",\n        \"std\": null,\n        \"min\": 0.2722554752932907,\n        \"max\": 0.2722554752932907,\n        \"num_unique_values\": 1,\n        \"samples\": [\n          0.2722554752932907\n        ],\n        \"semantic_type\": \"\",\n        \"description\": \"\"\n      }\n    },\n    {\n      \"column\": \"humidity3pm\",\n      \"properties\": {\n        \"dtype\": \"number\",\n        \"std\": null,\n        \"min\": 0.11456160553703494,\n        \"max\": 0.11456160553703494,\n        \"num_unique_values\": 1,\n        \"samples\": [\n          0.11456160553703494\n        ],\n        \"semantic_type\": \"\",\n        \"description\": \"\"\n      }\n    },\n    {\n      \"column\": \"pressure9am\",\n      \"properties\": {\n        \"dtype\": \"number\",\n        \"std\": null,\n        \"min\": 0.0719243430639372,\n        \"max\": 0.0719243430639372,\n        \"num_unique_values\": 1,\n        \"samples\": [\n          0.0719243430639372\n        ],\n        \"semantic_type\": \"\",\n        \"description\": \"\"\n      }\n    },\n    {\n      \"column\": \"pressure3pm\",\n      \"properties\": {\n        \"dtype\": \"number\",\n        \"std\": null,\n        \"min\": -0.9809610965658807,\n        \"max\": -0.9809610965658807,\n        \"num_unique_values\": 1,\n        \"samples\": [\n          -0.9809610965658807\n        ],\n        \"semantic_type\": \"\",\n        \"description\": \"\"\n      }\n    },\n    {\n      \"column\": \"cloud9am\",\n      \"properties\": {\n        \"dtype\": \"number\",\n        \"std\": null,\n        \"min\": 0.03717218294920738,\n        \"max\": 0.03717218294920738,\n        \"num_unique_values\": 1,\n        \"samples\": [\n          0.03717218294920738\n        ],\n        \"semantic_type\": \"\",\n        \"description\": \"\"\n      }\n    },\n    {\n      \"column\": \"cloud3pm\",\n      \"properties\": {\n        \"dtype\": \"number\",\n        \"std\": null,\n        \"min\": 0.2687461116380397,\n        \"max\": 0.2687461116380397,\n        \"num_unique_values\": 1,\n        \"samples\": [\n          0.2687461116380397\n        ],\n        \"semantic_type\": \"\",\n        \"description\": \"\"\n      }\n    },\n    {\n      \"column\": \"risk_mm\",\n      \"properties\": {\n        \"dtype\": \"number\",\n        \"std\": null,\n        \"min\": 4.578409500571009,\n        \"max\": 4.578409500571009,\n        \"num_unique_values\": 1,\n        \"samples\": [\n          4.578409500571009\n        ],\n        \"semantic_type\": \"\",\n        \"description\": \"\"\n      }\n    },\n    {\n      \"column\": \"windgustdir\",\n      \"properties\": {\n        \"dtype\": \"number\",\n        \"std\": null,\n        \"min\": 0.05106664599936124,\n        \"max\": 0.05106664599936124,\n        \"num_unique_values\": 1,\n        \"samples\": [\n          0.05106664599936124\n        ],\n        \"semantic_type\": \"\",\n        \"description\": \"\"\n      }\n    },\n    {\n      \"column\": \"winddir9am\",\n      \"properties\": {\n        \"dtype\": \"number\",\n        \"std\": null,\n        \"min\": -0.018939199009849087,\n        \"max\": -0.018939199009849087,\n        \"num_unique_values\": 1,\n        \"samples\": [\n          -0.018939199009849087\n        ],\n        \"semantic_type\": \"\",\n        \"description\": \"\"\n      }\n    },\n    {\n      \"column\": \"winddir3pm\",\n      \"properties\": {\n        \"dtype\": \"number\",\n        \"std\": null,\n        \"min\": 0.025922002655214348,\n        \"max\": 0.025922002655214348,\n        \"num_unique_values\": 1,\n        \"samples\": [\n          0.025922002655214348\n        ],\n        \"semantic_type\": \"\",\n        \"description\": \"\"\n      }\n    },\n    {\n      \"column\": \"raintoday\",\n      \"properties\": {\n        \"dtype\": \"number\",\n        \"std\": null,\n        \"min\": -0.1118291776402813,\n        \"max\": -0.1118291776402813,\n        \"num_unique_values\": 1,\n        \"samples\": [\n          -0.1118291776402813\n        ],\n        \"semantic_type\": \"\",\n        \"description\": \"\"\n      }\n    }\n  ]\n}"
            }
          },
          "metadata": {},
          "execution_count": 110
        }
      ]
    },
    {
      "cell_type": "code",
      "source": [
        "test_data=norm_data.drop(['winddir3pm', 'winddir9am' ,'windgustdir' , 'cloud9am' , 'windspeed9am' ],axis=1)\n",
        "\n",
        "x_dum=test_data.drop(['raintomorrow'],axis=1)\n",
        "y_dum=test_data['raintomorrow']\n",
        "x_train_dum,x_test_dum,y_train_dum,y_test_dum=train_test_split(x_dum,y_dum,test_size=0.2,random_state=42)"
      ],
      "metadata": {
        "id": "DehhcaY3x7j1"
      },
      "execution_count": 111,
      "outputs": []
    },
    {
      "cell_type": "code",
      "source": [
        "from sklearn.linear_model import LogisticRegression\n",
        "Lr_test=LogisticRegression()\n",
        "Lr_test.fit(x_train_dum,y_train_dum)\n",
        "y_pred_dum=Lr_test.predict(x_test_dum)\n",
        "print(f1_score(y_test_dum,y_pred_dum))\n",
        "print(accuracy_score(y_test_dum,y_pred_dum))"
      ],
      "metadata": {
        "colab": {
          "base_uri": "https://localhost:8080/"
        },
        "id": "jM9KdaI_yW91",
        "outputId": "b7eab1df-98b7-41c9-8fe7-3cb201dec52b"
      },
      "execution_count": 112,
      "outputs": [
        {
          "output_type": "stream",
          "name": "stdout",
          "text": [
            "0.923076923076923\n",
            "0.9722222222222222\n"
          ]
        }
      ]
    },
    {
      "cell_type": "code",
      "source": [
        "test_data['diff_hum']=test_data['humidity3pm']-test_data['humidity9am']\n",
        "data['diff_hum']=data['humidity3pm']-data['humidity9am']\n",
        "test_data.shape"
      ],
      "metadata": {
        "colab": {
          "base_uri": "https://localhost:8080/"
        },
        "id": "0xDg0vYzy0do",
        "outputId": "50d08a85-4e18-44f8-a796-b14d0acb2fe4"
      },
      "execution_count": 113,
      "outputs": [
        {
          "output_type": "execute_result",
          "data": {
            "text/plain": [
              "(359, 15)"
            ]
          },
          "metadata": {},
          "execution_count": 113
        }
      ]
    },
    {
      "cell_type": "code",
      "source": [
        "test_data['press_diff']=test_data['pressure3pm']-test_data['pressure9am']\n",
        "data['press_diff']=data['pressure3pm']-data['pressure9am']\n",
        "test_data.shape"
      ],
      "metadata": {
        "colab": {
          "base_uri": "https://localhost:8080/"
        },
        "id": "kzgDv8PCy8np",
        "outputId": "fed76e96-289d-4370-c5fe-0a66c28b94cc"
      },
      "execution_count": 114,
      "outputs": [
        {
          "output_type": "execute_result",
          "data": {
            "text/plain": [
              "(359, 16)"
            ]
          },
          "metadata": {},
          "execution_count": 114
        }
      ]
    },
    {
      "cell_type": "code",
      "source": [
        "test_data=test_data.drop(['humidity3pm','humidity9am','pressure9am','pressure3pm'] , axis=1)"
      ],
      "metadata": {
        "id": "5beatyVzzD2x"
      },
      "execution_count": 115,
      "outputs": []
    },
    {
      "cell_type": "code",
      "source": [
        "test_data.shape"
      ],
      "metadata": {
        "colab": {
          "base_uri": "https://localhost:8080/"
        },
        "id": "P7qsyXfQzzaT",
        "outputId": "fa356c47-e4f7-4167-bf92-c0b50ae0ea53"
      },
      "execution_count": 116,
      "outputs": [
        {
          "output_type": "execute_result",
          "data": {
            "text/plain": [
              "(359, 12)"
            ]
          },
          "metadata": {},
          "execution_count": 116
        }
      ]
    },
    {
      "cell_type": "code",
      "source": [
        "data.shape"
      ],
      "metadata": {
        "colab": {
          "base_uri": "https://localhost:8080/"
        },
        "id": "LI9vQot53vvU",
        "outputId": "753570eb-bb1e-4038-c62f-334ae8ed7743"
      },
      "execution_count": 117,
      "outputs": [
        {
          "output_type": "execute_result",
          "data": {
            "text/plain": [
              "(359, 24)"
            ]
          },
          "metadata": {},
          "execution_count": 117
        }
      ]
    },
    {
      "cell_type": "code",
      "source": [
        "test_data.columns"
      ],
      "metadata": {
        "colab": {
          "base_uri": "https://localhost:8080/"
        },
        "id": "L8WXkOfX16xx",
        "outputId": "89e027af-c10c-4247-c234-4445ada2baa1"
      },
      "execution_count": 118,
      "outputs": [
        {
          "output_type": "execute_result",
          "data": {
            "text/plain": [
              "Index(['mintemp', 'rainfall', 'evaporation', 'sunshine', 'windgustspeed',\n",
              "       'windspeed3pm', 'cloud3pm', 'risk_mm', 'raintoday', 'raintomorrow',\n",
              "       'diff_hum', 'press_diff'],\n",
              "      dtype='object')"
            ]
          },
          "metadata": {},
          "execution_count": 118
        }
      ]
    },
    {
      "cell_type": "code",
      "source": [
        "data[test_data.columns].corr()\n",
        "sns.heatmap(data[test_data.columns].corr())"
      ],
      "metadata": {
        "colab": {
          "base_uri": "https://localhost:8080/",
          "height": 544
        },
        "id": "sogYLXp3JwH8",
        "outputId": "c23e903e-3885-40c8-dbd2-ab8ef12c996f"
      },
      "execution_count": 119,
      "outputs": [
        {
          "output_type": "execute_result",
          "data": {
            "text/plain": [
              "<Axes: >"
            ]
          },
          "metadata": {},
          "execution_count": 119
        },
        {
          "output_type": "display_data",
          "data": {
            "text/plain": [
              "<Figure size 640x480 with 2 Axes>"
            ],
            "image/png": "[encoded data removed]"
          },
          "metadata": {}
        }
      ]
    },
    {
      "cell_type": "code",
      "source": [
        "data['evaporation'].corr(data['raintomorrow'])"
      ],
      "metadata": {
        "colab": {
          "base_uri": "https://localhost:8080/"
        },
        "id": "D-hjh7KUKequ",
        "outputId": "49ed935d-8c2a-4c48-d5a1-f1352b03907a"
      },
      "execution_count": 120,
      "outputs": [
        {
          "output_type": "execute_result",
          "data": {
            "text/plain": [
              "0.09947587141747014"
            ]
          },
          "metadata": {},
          "execution_count": 120
        }
      ]
    },
    {
      "cell_type": "code",
      "source": [
        "data['raintomorrow'].corr(data['mintemp'])"
      ],
      "metadata": {
        "colab": {
          "base_uri": "https://localhost:8080/"
        },
        "id": "iV-g9UFlKi9T",
        "outputId": "15271b4b-4971-4256-924e-43fa591f8c5f"
      },
      "execution_count": 121,
      "outputs": [
        {
          "output_type": "execute_result",
          "data": {
            "text/plain": [
              "0.23341233130639014"
            ]
          },
          "metadata": {},
          "execution_count": 121
        }
      ]
    },
    {
      "cell_type": "code",
      "source": [
        "data['evaporation'].corr(data['mintemp'])"
      ],
      "metadata": {
        "colab": {
          "base_uri": "https://localhost:8080/"
        },
        "id": "1KTZsN2wKo8h",
        "outputId": "d89633de-c932-4158-b6c5-23b38d784d4d"
      },
      "execution_count": 122,
      "outputs": [
        {
          "output_type": "execute_result",
          "data": {
            "text/plain": [
              "0.6517334079103121"
            ]
          },
          "metadata": {},
          "execution_count": 122
        }
      ]
    },
    {
      "cell_type": "code",
      "source": [
        "data['evaporation'].var()"
      ],
      "metadata": {
        "colab": {
          "base_uri": "https://localhost:8080/"
        },
        "id": "De7QcyQQKwM1",
        "outputId": "5f9ea9f1-bf3a-4fdd-a466-cb1bfce0d43d"
      },
      "execution_count": 123,
      "outputs": [
        {
          "output_type": "execute_result",
          "data": {
            "text/plain": [
              "7.08331884813495"
            ]
          },
          "metadata": {},
          "execution_count": 123
        }
      ]
    },
    {
      "cell_type": "code",
      "source": [
        "data['mintemp'].var()"
      ],
      "metadata": {
        "colab": {
          "base_uri": "https://localhost:8080/"
        },
        "id": "VfJ9yBIXK2Hy",
        "outputId": "fb574649-2563-4d37-8e34-2f549c7fa5d0"
      },
      "execution_count": 124,
      "outputs": [
        {
          "output_type": "execute_result",
          "data": {
            "text/plain": [
              "36.360334573069196"
            ]
          },
          "metadata": {},
          "execution_count": 124
        }
      ]
    },
    {
      "cell_type": "code",
      "source": [
        "test_data=test_data.drop(['evaporation'],axis=1)"
      ],
      "metadata": {
        "id": "UzdudieGK5kB"
      },
      "execution_count": 125,
      "outputs": []
    },
    {
      "cell_type": "code",
      "source": [
        "data['sunshine'].corr(data['raintomorrow'])"
      ],
      "metadata": {
        "colab": {
          "base_uri": "https://localhost:8080/"
        },
        "id": "gHllVI4rLG3S",
        "outputId": "2d9d65bc-1e03-43a0-f653-8c1ca648cfd4"
      },
      "execution_count": 126,
      "outputs": [
        {
          "output_type": "execute_result",
          "data": {
            "text/plain": [
              "-0.3803966534481581"
            ]
          },
          "metadata": {},
          "execution_count": 126
        }
      ]
    },
    {
      "cell_type": "code",
      "source": [
        "data['sunshine'].var()"
      ],
      "metadata": {
        "colab": {
          "base_uri": "https://localhost:8080/"
        },
        "id": "P6dojxiJLdbr",
        "outputId": "545c81d4-0cc3-498f-e869-71142f5c3644"
      },
      "execution_count": 127,
      "outputs": [
        {
          "output_type": "execute_result",
          "data": {
            "text/plain": [
              "12.078507959726739"
            ]
          },
          "metadata": {},
          "execution_count": 127
        }
      ]
    },
    {
      "cell_type": "code",
      "source": [
        "data['rainfall'].corr(data['raintoday'])"
      ],
      "metadata": {
        "colab": {
          "base_uri": "https://localhost:8080/"
        },
        "id": "3VrwFxq9LsUx",
        "outputId": "03822b7b-d08c-4d7c-b965-0ce7e5542b23"
      },
      "execution_count": 128,
      "outputs": [
        {
          "output_type": "execute_result",
          "data": {
            "text/plain": [
              "0.6866039891597795"
            ]
          },
          "metadata": {},
          "execution_count": 128
        }
      ]
    },
    {
      "cell_type": "code",
      "source": [
        "data['rainfall'].corr(data['raintomorrow'])"
      ],
      "metadata": {
        "colab": {
          "base_uri": "https://localhost:8080/"
        },
        "id": "rY4GVFhYL2Zh",
        "outputId": "2a7608bd-c23c-439d-d771-2f6028917cfb"
      },
      "execution_count": 129,
      "outputs": [
        {
          "output_type": "execute_result",
          "data": {
            "text/plain": [
              "0.1344229818383809"
            ]
          },
          "metadata": {},
          "execution_count": 129
        }
      ]
    },
    {
      "cell_type": "code",
      "source": [
        "data['raintoday'].corr(data['raintomorrow'])"
      ],
      "metadata": {
        "colab": {
          "base_uri": "https://localhost:8080/"
        },
        "id": "CG0nMJZUL8R8",
        "outputId": "40756fce-089a-419f-882e-5fa6c2191f0b"
      },
      "execution_count": 130,
      "outputs": [
        {
          "output_type": "execute_result",
          "data": {
            "text/plain": [
              "0.16334745762711927"
            ]
          },
          "metadata": {},
          "execution_count": 130
        }
      ]
    },
    {
      "cell_type": "code",
      "source": [
        "data['rainfall'].var()"
      ],
      "metadata": {
        "colab": {
          "base_uri": "https://localhost:8080/"
        },
        "id": "KUpADca5MAiB",
        "outputId": "a4fc04bf-4628-4f42-fc0c-33d828e03c12"
      },
      "execution_count": 131,
      "outputs": [
        {
          "output_type": "execute_result",
          "data": {
            "text/plain": [
              "17.726698930922336"
            ]
          },
          "metadata": {},
          "execution_count": 131
        }
      ]
    },
    {
      "cell_type": "code",
      "source": [
        "data['raintoday'].var()"
      ],
      "metadata": {
        "colab": {
          "base_uri": "https://localhost:8080/"
        },
        "id": "WdpVNJLlMDSV",
        "outputId": "5556ea03-3431-4f3a-99ee-45c7c84a8900"
      },
      "execution_count": 132,
      "outputs": [
        {
          "output_type": "execute_result",
          "data": {
            "text/plain": [
              "0.14690091968690186"
            ]
          },
          "metadata": {},
          "execution_count": 132
        }
      ]
    },
    {
      "cell_type": "code",
      "source": [
        "test_data=test_data.drop(['raintoday'], axis=1)"
      ],
      "metadata": {
        "id": "4nm8gBuTMLI-"
      },
      "execution_count": 133,
      "outputs": []
    },
    {
      "cell_type": "code",
      "source": [
        "data[test_data.columns].var()"
      ],
      "metadata": {
        "colab": {
          "base_uri": "https://localhost:8080/"
        },
        "id": "KBOxKx9mMUcO",
        "outputId": "3ca1f39b-e635-43c1-a90d-c63f295e4f97"
      },
      "execution_count": 134,
      "outputs": [
        {
          "output_type": "execute_result",
          "data": {
            "text/plain": [
              "mintemp           36.360335\n",
              "rainfall          17.726699\n",
              "sunshine          12.078508\n",
              "windgustspeed    148.434848\n",
              "windspeed3pm      75.652604\n",
              "cloud3pm           7.073668\n",
              "risk_mm           18.086464\n",
              "raintomorrow       0.146901\n",
              "diff_hum         215.172746\n",
              "press_diff         2.801174\n",
              "dtype: float64"
            ]
          },
          "metadata": {},
          "execution_count": 134
        }
      ]
    },
    {
      "cell_type": "code",
      "source": [
        "test_data=test_data.drop(['press_diff'],axis=1)"
      ],
      "metadata": {
        "id": "KZY8ork2Mha_"
      },
      "execution_count": 135,
      "outputs": []
    },
    {
      "cell_type": "code",
      "source": [
        "data['cloud3pm'].corr(data['raintomorrow'])"
      ],
      "metadata": {
        "colab": {
          "base_uri": "https://localhost:8080/"
        },
        "id": "qKS-SV23Mo6r",
        "outputId": "25d2e025-3cbc-4ea6-b518-9561e8ad277f"
      },
      "execution_count": 136,
      "outputs": [
        {
          "output_type": "execute_result",
          "data": {
            "text/plain": [
              "0.3763005391540748"
            ]
          },
          "metadata": {},
          "execution_count": 136
        }
      ]
    },
    {
      "cell_type": "code",
      "source": [
        "test_data=test_data.drop(['cloud3pm'],axis=1)"
      ],
      "metadata": {
        "id": "p_8DnZFrMyOV"
      },
      "execution_count": 137,
      "outputs": []
    },
    {
      "cell_type": "markdown",
      "source": [
        "# test-logistic regression -2"
      ],
      "metadata": {
        "id": "_feJIYyl2Tpj"
      }
    },
    {
      "cell_type": "code",
      "source": [
        "x=test_data.drop(['raintomorrow'],axis=1)\n",
        "y=test_data['raintomorrow']"
      ],
      "metadata": {
        "id": "ko_Gzivt2HkV"
      },
      "execution_count": 138,
      "outputs": []
    },
    {
      "cell_type": "code",
      "source": [
        "test_data.columns\n"
      ],
      "metadata": {
        "colab": {
          "base_uri": "https://localhost:8080/"
        },
        "id": "iU9Eppwa_kXd",
        "outputId": "1cca89d6-ee79-4203-b32d-5663869af097"
      },
      "execution_count": 139,
      "outputs": [
        {
          "output_type": "execute_result",
          "data": {
            "text/plain": [
              "Index(['mintemp', 'rainfall', 'sunshine', 'windgustspeed', 'windspeed3pm',\n",
              "       'risk_mm', 'raintomorrow', 'diff_hum'],\n",
              "      dtype='object')"
            ]
          },
          "metadata": {},
          "execution_count": 139
        }
      ]
    },
    {
      "cell_type": "markdown",
      "source": [
        "predicting unkown external data"
      ],
      "metadata": {
        "id": "burJa19bFiOf"
      }
    },
    {
      "cell_type": "code",
      "source": [
        "x_train,x_test,y_train,y_test=train_test_split(x,y,test_size=0.2,random_state=42)"
      ],
      "metadata": {
        "id": "jAFH_tfe2JmB"
      },
      "execution_count": 140,
      "outputs": []
    },
    {
      "cell_type": "code",
      "source": [
        "from sklearn.linear_model import LogisticRegression\n",
        "Lr_test_2=LogisticRegression()\n",
        "Lr_test_2.fit(x_train,y_train)\n",
        "y_pred=Lr_test_2.predict(x_test)\n",
        "print(f1_score(y_test,y_pred))\n",
        "print(accuracy_score(y_test,y_pred))"
      ],
      "metadata": {
        "colab": {
          "base_uri": "https://localhost:8080/"
        },
        "id": "DWu6CVV-1__y",
        "outputId": "41674fac-f1ef-4d72-bf38-87b38fa27248"
      },
      "execution_count": 141,
      "outputs": [
        {
          "output_type": "stream",
          "name": "stdout",
          "text": [
            "0.8333333333333333\n",
            "0.9444444444444444\n"
          ]
        }
      ]
    },
    {
      "cell_type": "code",
      "source": [
        "from sklearn.metrics import r2_score\n",
        "print(r2_score(y_test,y_pred))"
      ],
      "metadata": {
        "colab": {
          "base_uri": "https://localhost:8080/"
        },
        "id": "BX7N4eeFNcog",
        "outputId": "3b2b591a-d0c6-40f6-f8a8-721b33c55201"
      },
      "execution_count": 144,
      "outputs": [
        {
          "output_type": "stream",
          "name": "stdout",
          "text": [
            "0.645320197044335\n"
          ]
        }
      ]
    },
    {
      "cell_type": "code",
      "source": [
        "cm = confusion_matrix(y_test, y_pred)\n",
        "sns.heatmap(cm, annot=True, cmap=\"Reds\", fmt=\"d\")\n",
        "plt.xlabel(\"Predicted\")\n",
        "plt.ylabel(\"Actual\")\n",
        "plt.title(\"Confusion Matrix\")\n",
        "plt.show()"
      ],
      "metadata": {
        "colab": {
          "base_uri": "https://localhost:8080/",
          "height": 472
        },
        "id": "_Ev-pEcENxtT",
        "outputId": "3181c18b-564d-42bd-9df9-8634c18a3da5"
      },
      "execution_count": 145,
      "outputs": [
        {
          "output_type": "display_data",
          "data": {
            "text/plain": [
              "<Figure size 640x480 with 2 Axes>"
            ],
            "image/png": "[encoded data removed]"
          },
          "metadata": {}
        }
      ]
    },
    {
      "cell_type": "code",
      "source": [
        "a=[13.4,30.4,0.0,3.2,6.7,'N',30.0,'SSE','ESE',17.0,6.0,48.0,22.0,1011.8,1008.7,7.0,2.0,20.4,28.8,'No',2.2,'Yes']\n",
        "b=['MinTemp','MaxTemp','Rainfall','Evaporation','Sunshine','WindGustDir','WindGustSpeed','WindDir9am','WindDir3pm','WindSpeed9am','WindSpeed3pm','Humidity9am','Humidity3pm','Pressure9am','Pressure3pm','Cloud9am','Cloud3pm','Temp9am','Temp3pm','RainToday','RISK_MM','RainTomorrow']"
      ],
      "metadata": {
        "id": "UqkNmMlMB6rd"
      },
      "execution_count": 201,
      "outputs": []
    },
    {
      "cell_type": "code",
      "source": [
        "len(a)"
      ],
      "metadata": {
        "colab": {
          "base_uri": "https://localhost:8080/"
        },
        "id": "2MckDeWnC-_X",
        "outputId": "ff7564e5-0eb2-4f72-adeb-3a8d58761f5d"
      },
      "execution_count": 202,
      "outputs": [
        {
          "output_type": "execute_result",
          "data": {
            "text/plain": [
              "22"
            ]
          },
          "metadata": {},
          "execution_count": 202
        }
      ]
    },
    {
      "cell_type": "code",
      "source": [
        "len(b)"
      ],
      "metadata": {
        "colab": {
          "base_uri": "https://localhost:8080/"
        },
        "id": "-pfI4_KMDISN",
        "outputId": "cf03c4f1-8f48-4b89-edc5-513d19972bef"
      },
      "execution_count": 203,
      "outputs": [
        {
          "output_type": "execute_result",
          "data": {
            "text/plain": [
              "22"
            ]
          },
          "metadata": {},
          "execution_count": 203
        }
      ]
    },
    {
      "cell_type": "code",
      "source": [
        "res = {b[i]: a[i] for i in range(len(a))}\n",
        "res=pd.DataFrame(res,index=[0])\n",
        "res"
      ],
      "metadata": {
        "colab": {
          "base_uri": "https://localhost:8080/",
          "height": 130
        },
        "id": "bbW9EgKWBA_u",
        "outputId": "0d9713ea-9d61-4063-b227-d2b385c4562e"
      },
      "execution_count": 204,
      "outputs": [
        {
          "output_type": "execute_result",
          "data": {
            "text/plain": [
              "   MinTemp  MaxTemp  Rainfall  Evaporation  Sunshine WindGustDir  \\\n",
              "0     13.4     30.4       0.0          3.2       6.7           N   \n",
              "\n",
              "   WindGustSpeed WindDir9am WindDir3pm  WindSpeed9am  ...  Humidity3pm  \\\n",
              "0           30.0        SSE        ESE          17.0  ...         22.0   \n",
              "\n",
              "   Pressure9am  Pressure3pm  Cloud9am  Cloud3pm  Temp9am  Temp3pm  RainToday  \\\n",
              "0       1011.8       1008.7       7.0       2.0     20.4     28.8         No   \n",
              "\n",
              "   RISK_MM RainTomorrow  \n",
              "0      2.2          Yes  \n",
              "\n",
              "[1 rows x 22 columns]"
            ],
            "text/html": [
              "\n",
              "  <div id=\"df-c27163aa-5486-47e1-be0f-1f97308c5274\" class=\"colab-df-container\">\n",
              "    <div>\n",
              "<style scoped>\n",
              "    .dataframe tbody tr th:only-of-type {\n",
              "        vertical-align: middle;\n",
              "    }\n",
              "\n",
              "    .dataframe tbody tr th {\n",
              "        vertical-align: top;\n",
              "    }\n",
              "\n",
              "    .dataframe thead th {\n",
              "        text-align: right;\n",
              "    }\n",
              "</style>\n",
              "<table border=\"1\" class=\"dataframe\">\n",
              "  <thead>\n",
              "    <tr style=\"text-align: right;\">\n",
              "      <th></th>\n",
              "      <th>MinTemp</th>\n",
              "      <th>MaxTemp</th>\n",
              "      <th>Rainfall</th>\n",
              "      <th>Evaporation</th>\n",
              "      <th>Sunshine</th>\n",
              "      <th>WindGustDir</th>\n",
              "      <th>WindGustSpeed</th>\n",
              "      <th>WindDir9am</th>\n",
              "      <th>WindDir3pm</th>\n",
              "      <th>WindSpeed9am</th>\n",
              "      <th>...</th>\n",
              "      <th>Humidity3pm</th>\n",
              "      <th>Pressure9am</th>\n",
              "      <th>Pressure3pm</th>\n",
              "      <th>Cloud9am</th>\n",
              "      <th>Cloud3pm</th>\n",
              "      <th>Temp9am</th>\n",
              "      <th>Temp3pm</th>\n",
              "      <th>RainToday</th>\n",
              "      <th>RISK_MM</th>\n",
              "      <th>RainTomorrow</th>\n",
              "    </tr>\n",
              "  </thead>\n",
              "  <tbody>\n",
              "    <tr>\n",
              "      <th>0</th>\n",
              "      <td>13.4</td>\n",
              "      <td>30.4</td>\n",
              "      <td>0.0</td>\n",
              "      <td>3.2</td>\n",
              "      <td>6.7</td>\n",
              "      <td>N</td>\n",
              "      <td>30.0</td>\n",
              "      <td>SSE</td>\n",
              "      <td>ESE</td>\n",
              "      <td>17.0</td>\n",
              "      <td>...</td>\n",
              "      <td>22.0</td>\n",
              "      <td>1011.8</td>\n",
              "      <td>1008.7</td>\n",
              "      <td>7.0</td>\n",
              "      <td>2.0</td>\n",
              "      <td>20.4</td>\n",
              "      <td>28.8</td>\n",
              "      <td>No</td>\n",
              "      <td>2.2</td>\n",
              "      <td>Yes</td>\n",
              "    </tr>\n",
              "  </tbody>\n",
              "</table>\n",
              "<p>1 rows × 22 columns</p>\n",
              "</div>\n",
              "    <div class=\"colab-df-buttons\">\n",
              "\n",
              "  <div class=\"colab-df-container\">\n",
              "    <button class=\"colab-df-convert\" onclick=\"convertToInteractive('df-c27163aa-5486-47e1-be0f-1f97308c5274')\"\n",
              "            title=\"Convert this dataframe to an interactive table.\"\n",
              "            style=\"display:none;\">\n",
              "\n",
              "  <svg xmlns=\"http://www.w3.org/2000/svg\" height=\"24px\" viewBox=\"0 -960 960 960\">\n",
              "    <path d=\"M120-120v-720h720v720H120Zm60-500h600v-160H180v160Zm220 220h160v-160H400v160Zm0 220h160v-160H400v160ZM180-400h160v-160H180v160Zm440 0h160v-160H620v160ZM180-180h160v-160H180v160Zm440 0h160v-160H620v160Z\"/>\n",
              "  </svg>\n",
              "    </button>\n",
              "\n",
              "  <style>\n",
              "    .colab-df-container {\n",
              "      display:flex;\n",
              "      gap: 12px;\n",
              "    }\n",
              "\n",
              "    .colab-df-convert {\n",
              "      background-color: #E8F0FE;\n",
              "      border: none;\n",
              "      border-radius: 50%;\n",
              "      cursor: pointer;\n",
              "      display: none;\n",
              "      fill: #1967D2;\n",
              "      height: 32px;\n",
              "      padding: 0 0 0 0;\n",
              "      width: 32px;\n",
              "    }\n",
              "\n",
              "    .colab-df-convert:hover {\n",
              "      background-color: #E2EBFA;\n",
              "      box-shadow: 0px 1px 2px rgba(60, 64, 67, 0.3), 0px 1px 3px 1px rgba(60, 64, 67, 0.15);\n",
              "      fill: #174EA6;\n",
              "    }\n",
              "\n",
              "    .colab-df-buttons div {\n",
              "      margin-bottom: 4px;\n",
              "    }\n",
              "\n",
              "    [theme=dark] .colab-df-convert {\n",
              "      background-color: #3B4455;\n",
              "      fill: #D2E3FC;\n",
              "    }\n",
              "\n",
              "    [theme=dark] .colab-df-convert:hover {\n",
              "      background-color: #434B5C;\n",
              "      box-shadow: 0px 1px 3px 1px rgba(0, 0, 0, 0.15);\n",
              "      filter: drop-shadow(0px 1px 2px rgba(0, 0, 0, 0.3));\n",
              "      fill: #FFFFFF;\n",
              "    }\n",
              "  </style>\n",
              "\n",
              "    <script>\n",
              "      const buttonEl =\n",
              "        document.querySelector('#df-c27163aa-5486-47e1-be0f-1f97308c5274 button.colab-df-convert');\n",
              "      buttonEl.style.display =\n",
              "        google.colab.kernel.accessAllowed ? 'block' : 'none';\n",
              "\n",
              "      async function convertToInteractive(key) {\n",
              "        const element = document.querySelector('#df-c27163aa-5486-47e1-be0f-1f97308c5274');\n",
              "        const dataTable =\n",
              "          await google.colab.kernel.invokeFunction('convertToInteractive',\n",
              "                                                    [key], {});\n",
              "        if (!dataTable) return;\n",
              "\n",
              "        const docLinkHtml = 'Like what you see? Visit the ' +\n",
              "          '<a target=\"_blank\" href=https://colab.research.google.com/notebooks/data_table.ipynb>data table notebook</a>'\n",
              "          + ' to learn more about interactive tables.';\n",
              "        element.innerHTML = '';\n",
              "        dataTable['output_type'] = 'display_data';\n",
              "        await google.colab.output.renderOutput(dataTable, element);\n",
              "        const docLink = document.createElement('div');\n",
              "        docLink.innerHTML = docLinkHtml;\n",
              "        element.appendChild(docLink);\n",
              "      }\n",
              "    </script>\n",
              "  </div>\n",
              "\n",
              "\n",
              "  <div id=\"id_7c02cdd0-e080-4739-ba6e-7b3881e5817b\">\n",
              "    <style>\n",
              "      .colab-df-generate {\n",
              "        background-color: #E8F0FE;\n",
              "        border: none;\n",
              "        border-radius: 50%;\n",
              "        cursor: pointer;\n",
              "        display: none;\n",
              "        fill: #1967D2;\n",
              "        height: 32px;\n",
              "        padding: 0 0 0 0;\n",
              "        width: 32px;\n",
              "      }\n",
              "\n",
              "      .colab-df-generate:hover {\n",
              "        background-color: #E2EBFA;\n",
              "        box-shadow: 0px 1px 2px rgba(60, 64, 67, 0.3), 0px 1px 3px 1px rgba(60, 64, 67, 0.15);\n",
              "        fill: #174EA6;\n",
              "      }\n",
              "\n",
              "      [theme=dark] .colab-df-generate {\n",
              "        background-color: #3B4455;\n",
              "        fill: #D2E3FC;\n",
              "      }\n",
              "\n",
              "      [theme=dark] .colab-df-generate:hover {\n",
              "        background-color: #434B5C;\n",
              "        box-shadow: 0px 1px 3px 1px rgba(0, 0, 0, 0.15);\n",
              "        filter: drop-shadow(0px 1px 2px rgba(0, 0, 0, 0.3));\n",
              "        fill: #FFFFFF;\n",
              "      }\n",
              "    </style>\n",
              "    <button class=\"colab-df-generate\" onclick=\"generateWithVariable('res')\"\n",
              "            title=\"Generate code using this dataframe.\"\n",
              "            style=\"display:none;\">\n",
              "\n",
              "  <svg xmlns=\"http://www.w3.org/2000/svg\" height=\"24px\"viewBox=\"0 0 24 24\"\n",
              "       width=\"24px\">\n",
              "    <path d=\"M7,19H8.4L18.45,9,17,7.55,7,17.6ZM5,21V16.75L18.45,3.32a2,2,0,0,1,2.83,0l1.4,1.43a1.91,1.91,0,0,1,.58,1.4,1.91,1.91,0,0,1-.58,1.4L9.25,21ZM18.45,9,17,7.55Zm-12,3A5.31,5.31,0,0,0,4.9,8.1,5.31,5.31,0,0,0,1,6.5,5.31,5.31,0,0,0,4.9,4.9,5.31,5.31,0,0,0,6.5,1,5.31,5.31,0,0,0,8.1,4.9,5.31,5.31,0,0,0,12,6.5,5.46,5.46,0,0,0,6.5,12Z\"/>\n",
              "  </svg>\n",
              "    </button>\n",
              "    <script>\n",
              "      (() => {\n",
              "      const buttonEl =\n",
              "        document.querySelector('#id_7c02cdd0-e080-4739-ba6e-7b3881e5817b button.colab-df-generate');\n",
              "      buttonEl.style.display =\n",
              "        google.colab.kernel.accessAllowed ? 'block' : 'none';\n",
              "\n",
              "      buttonEl.onclick = () => {\n",
              "        google.colab.notebook.generateWithVariable('res');\n",
              "      }\n",
              "      })();\n",
              "    </script>\n",
              "  </div>\n",
              "\n",
              "    </div>\n",
              "  </div>\n"
            ],
            "application/vnd.google.colaboratory.intrinsic+json": {
              "type": "dataframe",
              "variable_name": "res"
            }
          },
          "metadata": {},
          "execution_count": 204
        }
      ]
    },
    {
      "cell_type": "code",
      "source": [
        "res.columns"
      ],
      "metadata": {
        "colab": {
          "base_uri": "https://localhost:8080/"
        },
        "id": "UhJvHe8oDsWp",
        "outputId": "609c0981-1233-4480-d78b-6284af9fca4f"
      },
      "execution_count": 205,
      "outputs": [
        {
          "output_type": "execute_result",
          "data": {
            "text/plain": [
              "Index(['MinTemp', 'MaxTemp', 'Rainfall', 'Evaporation', 'Sunshine',\n",
              "       'WindGustDir', 'WindGustSpeed', 'WindDir9am', 'WindDir3pm',\n",
              "       'WindSpeed9am', 'WindSpeed3pm', 'Humidity9am', 'Humidity3pm',\n",
              "       'Pressure9am', 'Pressure3pm', 'Cloud9am', 'Cloud3pm', 'Temp9am',\n",
              "       'Temp3pm', 'RainToday', 'RISK_MM', 'RainTomorrow'],\n",
              "      dtype='object')"
            ]
          },
          "metadata": {},
          "execution_count": 205
        }
      ]
    },
    {
      "cell_type": "code",
      "source": [
        "test_data.columns"
      ],
      "metadata": {
        "colab": {
          "base_uri": "https://localhost:8080/"
        },
        "id": "mc0MmccpD7YN",
        "outputId": "e8f99714-d9ab-45d5-d58c-d6f4c6179e1c"
      },
      "execution_count": 206,
      "outputs": [
        {
          "output_type": "execute_result",
          "data": {
            "text/plain": [
              "Index(['mintemp', 'rainfall', 'sunshine', 'windgustspeed', 'windspeed3pm',\n",
              "       'risk_mm', 'raintomorrow', 'diff_hum'],\n",
              "      dtype='object')"
            ]
          },
          "metadata": {},
          "execution_count": 206
        }
      ]
    },
    {
      "cell_type": "code",
      "source": [
        "res.columns=res.columns.str.lower()"
      ],
      "metadata": {
        "id": "QJWdXV32EC9h"
      },
      "execution_count": 207,
      "outputs": []
    },
    {
      "cell_type": "code",
      "source": [
        "res['diff_hum']=res['humidity3pm']-res['humidity9am']\n",
        "res=res[test_data.columns]"
      ],
      "metadata": {
        "id": "h2ayxtweEY0S"
      },
      "execution_count": 208,
      "outputs": []
    },
    {
      "cell_type": "code",
      "source": [
        "res.columns"
      ],
      "metadata": {
        "colab": {
          "base_uri": "https://localhost:8080/"
        },
        "id": "XoRFnnNlEmm6",
        "outputId": "5881660c-562b-4217-f734-37834f7b5574"
      },
      "execution_count": 209,
      "outputs": [
        {
          "output_type": "execute_result",
          "data": {
            "text/plain": [
              "Index(['mintemp', 'rainfall', 'sunshine', 'windgustspeed', 'windspeed3pm',\n",
              "       'risk_mm', 'raintomorrow', 'diff_hum'],\n",
              "      dtype='object')"
            ]
          },
          "metadata": {},
          "execution_count": 209
        }
      ]
    },
    {
      "cell_type": "code",
      "source": [
        "res.head()"
      ],
      "metadata": {
        "colab": {
          "base_uri": "https://localhost:8080/",
          "height": 80
        },
        "id": "Y3H3RivsEp8Q",
        "outputId": "9524119f-83a2-49e2-9bee-fd00a75d2b70"
      },
      "execution_count": 210,
      "outputs": [
        {
          "output_type": "execute_result",
          "data": {
            "text/plain": [
              "   mintemp  rainfall  sunshine  windgustspeed  windspeed3pm  risk_mm  \\\n",
              "0     13.4       0.0       6.7           30.0           6.0      2.2   \n",
              "\n",
              "  raintomorrow  diff_hum  \n",
              "0          Yes     -26.0  "
            ],
            "text/html": [
              "\n",
              "  <div id=\"df-aca2f158-35f2-42ef-a5df-aa1cd10f0dff\" class=\"colab-df-container\">\n",
              "    <div>\n",
              "<style scoped>\n",
              "    .dataframe tbody tr th:only-of-type {\n",
              "        vertical-align: middle;\n",
              "    }\n",
              "\n",
              "    .dataframe tbody tr th {\n",
              "        vertical-align: top;\n",
              "    }\n",
              "\n",
              "    .dataframe thead th {\n",
              "        text-align: right;\n",
              "    }\n",
              "</style>\n",
              "<table border=\"1\" class=\"dataframe\">\n",
              "  <thead>\n",
              "    <tr style=\"text-align: right;\">\n",
              "      <th></th>\n",
              "      <th>mintemp</th>\n",
              "      <th>rainfall</th>\n",
              "      <th>sunshine</th>\n",
              "      <th>windgustspeed</th>\n",
              "      <th>windspeed3pm</th>\n",
              "      <th>risk_mm</th>\n",
              "      <th>raintomorrow</th>\n",
              "      <th>diff_hum</th>\n",
              "    </tr>\n",
              "  </thead>\n",
              "  <tbody>\n",
              "    <tr>\n",
              "      <th>0</th>\n",
              "      <td>13.4</td>\n",
              "      <td>0.0</td>\n",
              "      <td>6.7</td>\n",
              "      <td>30.0</td>\n",
              "      <td>6.0</td>\n",
              "      <td>2.2</td>\n",
              "      <td>Yes</td>\n",
              "      <td>-26.0</td>\n",
              "    </tr>\n",
              "  </tbody>\n",
              "</table>\n",
              "</div>\n",
              "    <div class=\"colab-df-buttons\">\n",
              "\n",
              "  <div class=\"colab-df-container\">\n",
              "    <button class=\"colab-df-convert\" onclick=\"convertToInteractive('df-aca2f158-35f2-42ef-a5df-aa1cd10f0dff')\"\n",
              "            title=\"Convert this dataframe to an interactive table.\"\n",
              "            style=\"display:none;\">\n",
              "\n",
              "  <svg xmlns=\"http://www.w3.org/2000/svg\" height=\"24px\" viewBox=\"0 -960 960 960\">\n",
              "    <path d=\"M120-120v-720h720v720H120Zm60-500h600v-160H180v160Zm220 220h160v-160H400v160Zm0 220h160v-160H400v160ZM180-400h160v-160H180v160Zm440 0h160v-160H620v160ZM180-180h160v-160H180v160Zm440 0h160v-160H620v160Z\"/>\n",
              "  </svg>\n",
              "    </button>\n",
              "\n",
              "  <style>\n",
              "    .colab-df-container {\n",
              "      display:flex;\n",
              "      gap: 12px;\n",
              "    }\n",
              "\n",
              "    .colab-df-convert {\n",
              "      background-color: #E8F0FE;\n",
              "      border: none;\n",
              "      border-radius: 50%;\n",
              "      cursor: pointer;\n",
              "      display: none;\n",
              "      fill: #1967D2;\n",
              "      height: 32px;\n",
              "      padding: 0 0 0 0;\n",
              "      width: 32px;\n",
              "    }\n",
              "\n",
              "    .colab-df-convert:hover {\n",
              "      background-color: #E2EBFA;\n",
              "      box-shadow: 0px 1px 2px rgba(60, 64, 67, 0.3), 0px 1px 3px 1px rgba(60, 64, 67, 0.15);\n",
              "      fill: #174EA6;\n",
              "    }\n",
              "\n",
              "    .colab-df-buttons div {\n",
              "      margin-bottom: 4px;\n",
              "    }\n",
              "\n",
              "    [theme=dark] .colab-df-convert {\n",
              "      background-color: #3B4455;\n",
              "      fill: #D2E3FC;\n",
              "    }\n",
              "\n",
              "    [theme=dark] .colab-df-convert:hover {\n",
              "      background-color: #434B5C;\n",
              "      box-shadow: 0px 1px 3px 1px rgba(0, 0, 0, 0.15);\n",
              "      filter: drop-shadow(0px 1px 2px rgba(0, 0, 0, 0.3));\n",
              "      fill: #FFFFFF;\n",
              "    }\n",
              "  </style>\n",
              "\n",
              "    <script>\n",
              "      const buttonEl =\n",
              "        document.querySelector('#df-aca2f158-35f2-42ef-a5df-aa1cd10f0dff button.colab-df-convert');\n",
              "      buttonEl.style.display =\n",
              "        google.colab.kernel.accessAllowed ? 'block' : 'none';\n",
              "\n",
              "      async function convertToInteractive(key) {\n",
              "        const element = document.querySelector('#df-aca2f158-35f2-42ef-a5df-aa1cd10f0dff');\n",
              "        const dataTable =\n",
              "          await google.colab.kernel.invokeFunction('convertToInteractive',\n",
              "                                                    [key], {});\n",
              "        if (!dataTable) return;\n",
              "\n",
              "        const docLinkHtml = 'Like what you see? Visit the ' +\n",
              "          '<a target=\"_blank\" href=https://colab.research.google.com/notebooks/data_table.ipynb>data table notebook</a>'\n",
              "          + ' to learn more about interactive tables.';\n",
              "        element.innerHTML = '';\n",
              "        dataTable['output_type'] = 'display_data';\n",
              "        await google.colab.output.renderOutput(dataTable, element);\n",
              "        const docLink = document.createElement('div');\n",
              "        docLink.innerHTML = docLinkHtml;\n",
              "        element.appendChild(docLink);\n",
              "      }\n",
              "    </script>\n",
              "  </div>\n",
              "\n",
              "\n",
              "    </div>\n",
              "  </div>\n"
            ],
            "application/vnd.google.colaboratory.intrinsic+json": {
              "type": "dataframe",
              "variable_name": "res",
              "summary": "{\n  \"name\": \"res\",\n  \"rows\": 1,\n  \"fields\": [\n    {\n      \"column\": \"mintemp\",\n      \"properties\": {\n        \"dtype\": \"number\",\n        \"std\": null,\n        \"min\": 13.4,\n        \"max\": 13.4,\n        \"num_unique_values\": 1,\n        \"samples\": [\n          13.4\n        ],\n        \"semantic_type\": \"\",\n        \"description\": \"\"\n      }\n    },\n    {\n      \"column\": \"rainfall\",\n      \"properties\": {\n        \"dtype\": \"number\",\n        \"std\": null,\n        \"min\": 0.0,\n        \"max\": 0.0,\n        \"num_unique_values\": 1,\n        \"samples\": [\n          0.0\n        ],\n        \"semantic_type\": \"\",\n        \"description\": \"\"\n      }\n    },\n    {\n      \"column\": \"sunshine\",\n      \"properties\": {\n        \"dtype\": \"number\",\n        \"std\": null,\n        \"min\": 6.7,\n        \"max\": 6.7,\n        \"num_unique_values\": 1,\n        \"samples\": [\n          6.7\n        ],\n        \"semantic_type\": \"\",\n        \"description\": \"\"\n      }\n    },\n    {\n      \"column\": \"windgustspeed\",\n      \"properties\": {\n        \"dtype\": \"number\",\n        \"std\": null,\n        \"min\": 30.0,\n        \"max\": 30.0,\n        \"num_unique_values\": 1,\n        \"samples\": [\n          30.0\n        ],\n        \"semantic_type\": \"\",\n        \"description\": \"\"\n      }\n    },\n    {\n      \"column\": \"windspeed3pm\",\n      \"properties\": {\n        \"dtype\": \"number\",\n        \"std\": null,\n        \"min\": 6.0,\n        \"max\": 6.0,\n        \"num_unique_values\": 1,\n        \"samples\": [\n          6.0\n        ],\n        \"semantic_type\": \"\",\n        \"description\": \"\"\n      }\n    },\n    {\n      \"column\": \"risk_mm\",\n      \"properties\": {\n        \"dtype\": \"number\",\n        \"std\": null,\n        \"min\": 2.2,\n        \"max\": 2.2,\n        \"num_unique_values\": 1,\n        \"samples\": [\n          2.2\n        ],\n        \"semantic_type\": \"\",\n        \"description\": \"\"\n      }\n    },\n    {\n      \"column\": \"raintomorrow\",\n      \"properties\": {\n        \"dtype\": \"string\",\n        \"num_unique_values\": 1,\n        \"samples\": [\n          \"Yes\"\n        ],\n        \"semantic_type\": \"\",\n        \"description\": \"\"\n      }\n    },\n    {\n      \"column\": \"diff_hum\",\n      \"properties\": {\n        \"dtype\": \"number\",\n        \"std\": null,\n        \"min\": -26.0,\n        \"max\": -26.0,\n        \"num_unique_values\": 1,\n        \"samples\": [\n          -26.0\n        ],\n        \"semantic_type\": \"\",\n        \"description\": \"\"\n      }\n    }\n  ]\n}"
            }
          },
          "metadata": {},
          "execution_count": 210
        }
      ]
    },
    {
      "cell_type": "code",
      "source": [
        "x_res=res.drop(['raintomorrow'],axis=1)\n",
        "y_res=res['raintomorrow']"
      ],
      "metadata": {
        "id": "zDznq3-eFrEA"
      },
      "execution_count": 211,
      "outputs": []
    },
    {
      "cell_type": "code",
      "source": [
        "y_pred_res=Lr_test_2.predict(x_res)"
      ],
      "metadata": {
        "id": "Xd2dopWuGEhp"
      },
      "execution_count": 214,
      "outputs": []
    },
    {
      "cell_type": "code",
      "source": [
        "from sklearn.metrics import get_scorer_names\n",
        "get_scorer_names()"
      ],
      "metadata": {
        "colab": {
          "base_uri": "https://localhost:8080/"
        },
        "id": "cL9LV2XMNRWW",
        "outputId": "df6c0278-ad97-4a29-9e54-90c80866c774"
      },
      "execution_count": 143,
      "outputs": [
        {
          "output_type": "execute_result",
          "data": {
            "text/plain": [
              "['accuracy',\n",
              " 'adjusted_mutual_info_score',\n",
              " 'adjusted_rand_score',\n",
              " 'average_precision',\n",
              " 'balanced_accuracy',\n",
              " 'completeness_score',\n",
              " 'explained_variance',\n",
              " 'f1',\n",
              " 'f1_macro',\n",
              " 'f1_micro',\n",
              " 'f1_samples',\n",
              " 'f1_weighted',\n",
              " 'fowlkes_mallows_score',\n",
              " 'homogeneity_score',\n",
              " 'jaccard',\n",
              " 'jaccard_macro',\n",
              " 'jaccard_micro',\n",
              " 'jaccard_samples',\n",
              " 'jaccard_weighted',\n",
              " 'matthews_corrcoef',\n",
              " 'max_error',\n",
              " 'mutual_info_score',\n",
              " 'neg_brier_score',\n",
              " 'neg_log_loss',\n",
              " 'neg_mean_absolute_error',\n",
              " 'neg_mean_absolute_percentage_error',\n",
              " 'neg_mean_gamma_deviance',\n",
              " 'neg_mean_poisson_deviance',\n",
              " 'neg_mean_squared_error',\n",
              " 'neg_mean_squared_log_error',\n",
              " 'neg_median_absolute_error',\n",
              " 'neg_negative_likelihood_ratio',\n",
              " 'neg_root_mean_squared_error',\n",
              " 'normalized_mutual_info_score',\n",
              " 'positive_likelihood_ratio',\n",
              " 'precision',\n",
              " 'precision_macro',\n",
              " 'precision_micro',\n",
              " 'precision_samples',\n",
              " 'precision_weighted',\n",
              " 'r2',\n",
              " 'rand_score',\n",
              " 'recall',\n",
              " 'recall_macro',\n",
              " 'recall_micro',\n",
              " 'recall_samples',\n",
              " 'recall_weighted',\n",
              " 'roc_auc',\n",
              " 'roc_auc_ovo',\n",
              " 'roc_auc_ovo_weighted',\n",
              " 'roc_auc_ovr',\n",
              " 'roc_auc_ovr_weighted',\n",
              " 'top_k_accuracy',\n",
              " 'v_measure_score']"
            ]
          },
          "metadata": {},
          "execution_count": 143
        }
      ]
    },
    {
      "cell_type": "markdown",
      "source": [
        "# test-KNN"
      ],
      "metadata": {
        "id": "My6KKJxbLss7"
      }
    },
    {
      "cell_type": "code",
      "source": [
        "from sklearn.neighbors import KNeighborsClassifier\n",
        "knn=KNeighborsClassifier()\n",
        "knn.fit(x_train,y_train)\n",
        "y_pred_knn=knn.predict(x_test)\n",
        "print(f1_score(y_test,y_pred_knn))\n",
        "print(accuracy_score(y_test,y_pred_knn))\n",
        "print(r2_score(y_test,y_pred_knn))\n"
      ],
      "metadata": {
        "colab": {
          "base_uri": "https://localhost:8080/"
        },
        "id": "B-Bqouf6L9q3",
        "outputId": "6a109e76-b2cb-4515-9904-77b246d1b946"
      },
      "execution_count": 146,
      "outputs": [
        {
          "output_type": "stream",
          "name": "stdout",
          "text": [
            "0.6666666666666666\n",
            "0.9027777777777778\n",
            "0.3793103448275863\n"
          ]
        }
      ]
    },
    {
      "cell_type": "markdown",
      "source": [],
      "metadata": {
        "id": "BJudJg9DOhK8"
      }
    },
    {
      "cell_type": "code",
      "source": [
        "cm = confusion_matrix(y_test, y_pred_knn)\n",
        "sns.heatmap(cm, annot=True, cmap=\"Blues\", fmt=\"d\")\n",
        "plt.xlabel(\"Predicted\")\n",
        "plt.ylabel(\"Actual\")\n",
        "plt.title(\"Confusion Matrix\")\n",
        "plt.show()"
      ],
      "metadata": {
        "colab": {
          "base_uri": "https://localhost:8080/",
          "height": 472
        },
        "id": "NypVpwZXMnr0",
        "outputId": "30f6381a-d6d0-4c35-9a1c-df740f49a4c7"
      },
      "execution_count": 147,
      "outputs": [
        {
          "output_type": "display_data",
          "data": {
            "text/plain": [
              "<Figure size 640x480 with 2 Axes>"
            ],
            "image/png": "[encoded data removed]"
          },
          "metadata": {}
        }
      ]
    }
  ]
}